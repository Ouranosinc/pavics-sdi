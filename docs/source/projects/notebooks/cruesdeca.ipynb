{
 "cells": [
  {
   "cell_type": "markdown",
   "source": [
    "# Programmatic access to geospatial layers from decamillenial flood project\n",
    "\n",
    "The relative and absolute changes in 1,000 and 10,000 flood frequency values have been computed for over 500 watersheds using two climate projection large ensembles, CESM1 and CanESM2 (see [project overview](../projects/cruesdeca.rst) for more info). These results are available on the PAVICS GeoServer, and this notebook shows how to get access to those files from a programming environment.\n",
    "\n"
   ],
   "metadata": {
    "collapsed": false,
    "pycharm": {
     "name": "#%% md\n"
    }
   }
  },
  {
   "cell_type": "code",
   "execution_count": 59,
   "metadata": {
    "pycharm": {
     "name": "#%%\n"
    }
   },
   "outputs": [],
   "source": [
    "from owslib.wfs import WebFeatureService\n",
    "import geopandas as gpd\n",
    "\n",
    "# Connect to Ouranos' GeoServer WFS service.\n",
    "url = 'https://pavics.ouranos.ca/geoserver/wfs'\n",
    "wfs = WebFeatureService(url, version='2.0.0')\n",
    "\n",
    "layer = \"public:decamillenial_flood_CC_wip\"\n",
    "# To be completed after update to GeoServer.\n",
    "#data = wfs.getfeature(typename=layer, outputFormat=\"geopackage\")\n",
    "\n"
   ]
  }
 ],
 "metadata": {
  "kernelspec": {
   "display_name": "Python 3",
   "language": "python",
   "name": "python3"
  },
  "language_info": {
   "codemirror_mode": {
    "name": "ipython",
    "version": 3
   },
   "file_extension": ".py",
   "mimetype": "text/x-python",
   "name": "python",
   "nbconvert_exporter": "python",
   "pygments_lexer": "ipython3",
   "version": "3.6.7"
  }
 },
 "nbformat": 4,
 "nbformat_minor": 2
}