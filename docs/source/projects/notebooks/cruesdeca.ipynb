{
 "cells": [
  {
   "cell_type": "markdown",
   "metadata": {
    "pycharm": {
     "name": "#%% md\n"
    }
   },
   "source": [
    "# Programmatic access to geospatial layers from the decamillenial flood project\n",
    "\n",
    "The relative and absolute changes in 1,000 and 10,000 flood frequency values have been computed for over 500 watersheds using two climate projection large ensembles, CESM1 and CanESM2 (see [project overview](../projects/cruesdeca.rst) for more info). These results are available on the PAVICS GeoServer, and this notebook shows how to get access to those files from a programming environment.\n",
    "\n"
   ]
  },
  {
   "cell_type": "code",
   "execution_count": 1,
   "metadata": {
    "pycharm": {
     "name": "#%%\n"
    }
   },
   "outputs": [
    {
     "name": "stdout",
     "output_type": "stream",
     "text": [
      "Climate change factors for 1,000 and 10,000-year design floods estimated from the CESM1 and CanESM2 Large Ensembles and the GR4J-Cemaneige hydrological model over the period 2080-2100 compared to 1990-2010.\n"
     ]
    }
   ],
   "source": [
    "%matplotlib inline\n",
    "\n",
    "import json\n",
    "\n",
    "import geopandas as gpd\n",
    "from owslib.wfs import WebFeatureService\n",
    "\n",
    "# Connect to Ouranos' GeoServer WFS service.\n",
    "url = \"https://pavics.ouranos.ca/geoserver/wfs\"\n",
    "wfs = WebFeatureService(url, version=\"2.0.0\")\n",
    "\n",
    "typename = \"public:decamillenial_flood_CC\"\n",
    "layer = wfs.contents[typename]\n",
    "print(layer.abstract)"
   ]
  },
  {
   "cell_type": "markdown",
   "metadata": {},
   "source": [
    "In the next cell, we'll download the data in the GeoJSON format, load it into a dictionary and instantiate a GeoDataFrame. "
   ]
  },
  {
   "cell_type": "code",
   "execution_count": 2,
   "metadata": {},
   "outputs": [],
   "source": [
    "typename = \"public:decamillenial_flood_CC\"\n",
    "txt = wfs.getfeature(typename=typename, outputFormat=\"json\").read()\n",
    "data = json.loads(txt.decode())\n",
    "gdf = gpd.GeoDataFrame.from_features(data)"
   ]
  },
  {
   "cell_type": "markdown",
   "metadata": {},
   "source": [
    "Let's take a look at the top of the table. "
   ]
  },
  {
   "cell_type": "code",
   "execution_count": 3,
   "metadata": {},
   "outputs": [
    {
     "data": {
      "text/html": [
       "<div>\n",
       "<style scoped>\n",
       "    .dataframe tbody tr th:only-of-type {\n",
       "        vertical-align: middle;\n",
       "    }\n",
       "\n",
       "    .dataframe tbody tr th {\n",
       "        vertical-align: top;\n",
       "    }\n",
       "\n",
       "    .dataframe thead th {\n",
       "        text-align: right;\n",
       "    }\n",
       "</style>\n",
       "<table border=\"1\" class=\"dataframe\">\n",
       "  <thead>\n",
       "    <tr style=\"text-align: right;\">\n",
       "      <th></th>\n",
       "      <th>geometry</th>\n",
       "      <th>ID</th>\n",
       "      <th>name</th>\n",
       "      <th>watershed_area</th>\n",
       "      <th>NSE</th>\n",
       "      <th>CESM1_PWM_T100_MUL</th>\n",
       "      <th>CESM1_PWM_T100_P75_MUL</th>\n",
       "      <th>CESM1_PWM_T100_P90_MUL</th>\n",
       "      <th>CESM1_PWM_T100_P95_MUL</th>\n",
       "      <th>CESM1_PWM_T100_P99_MUL</th>\n",
       "      <th>...</th>\n",
       "      <th>CanESM2_PWM_T1000_ADD</th>\n",
       "      <th>CanESM2_PWM_T1000_P75_ADD</th>\n",
       "      <th>CanESM2_PWM_T1000_P90_ADD</th>\n",
       "      <th>CanESM2_PWM_T1000_P95_ADD</th>\n",
       "      <th>CanESM2_PWM_T1000_P99_ADD</th>\n",
       "      <th>CanESM2_PWM_T10000_ADD</th>\n",
       "      <th>CanESM2_PWM_T10000_P75_ADD</th>\n",
       "      <th>CanESM2_PWM_T10000_P90_ADD</th>\n",
       "      <th>CanESM2_PWM_T10000_P95_ADD</th>\n",
       "      <th>CanESM2_PWM_T10000_P99_ADD</th>\n",
       "    </tr>\n",
       "  </thead>\n",
       "  <tbody>\n",
       "    <tr>\n",
       "      <th>0</th>\n",
       "      <td>POLYGON ((-111.39170 54.17100, -111.42500 54.1...</td>\n",
       "      <td>06CD002</td>\n",
       "      <td>CHURCHILL RIVER ABOVE OTTER RAPIDS</td>\n",
       "      <td>119000.0</td>\n",
       "      <td>0.715358</td>\n",
       "      <td>-57.343822</td>\n",
       "      <td>-54.547526</td>\n",
       "      <td>-51.714055</td>\n",
       "      <td>-49.651469</td>\n",
       "      <td>-46.376278</td>\n",
       "      <td>...</td>\n",
       "      <td>-0.274774</td>\n",
       "      <td>-0.220550</td>\n",
       "      <td>-0.162439</td>\n",
       "      <td>-0.128182</td>\n",
       "      <td>-0.068190</td>\n",
       "      <td>-0.138914</td>\n",
       "      <td>-0.022957</td>\n",
       "      <td>0.136653</td>\n",
       "      <td>0.224204</td>\n",
       "      <td>0.422348</td>\n",
       "    </tr>\n",
       "    <tr>\n",
       "      <th>1</th>\n",
       "      <td>POLYGON ((-134.94580 59.57930, -134.80000 59.6...</td>\n",
       "      <td>09AA014</td>\n",
       "      <td>FANTAIL RIVER AT OUTLET OF FANTAIL LAKE</td>\n",
       "      <td>717.0</td>\n",
       "      <td>0.758993</td>\n",
       "      <td>27.442331</td>\n",
       "      <td>31.577337</td>\n",
       "      <td>35.676450</td>\n",
       "      <td>38.155664</td>\n",
       "      <td>43.461187</td>\n",
       "      <td>...</td>\n",
       "      <td>3.627438</td>\n",
       "      <td>5.299869</td>\n",
       "      <td>7.212052</td>\n",
       "      <td>8.076060</td>\n",
       "      <td>10.182767</td>\n",
       "      <td>1.583382</td>\n",
       "      <td>5.487793</td>\n",
       "      <td>9.107839</td>\n",
       "      <td>11.806705</td>\n",
       "      <td>15.833487</td>\n",
       "    </tr>\n",
       "    <tr>\n",
       "      <th>2</th>\n",
       "      <td>POLYGON ((-130.19170 59.40850, -130.17920 59.4...</td>\n",
       "      <td>10AC004</td>\n",
       "      <td>BLUE RIVER NEAR THE MOUTH</td>\n",
       "      <td>1700.0</td>\n",
       "      <td>0.818958</td>\n",
       "      <td>8.734342</td>\n",
       "      <td>13.139980</td>\n",
       "      <td>17.049680</td>\n",
       "      <td>19.928544</td>\n",
       "      <td>24.816201</td>\n",
       "      <td>...</td>\n",
       "      <td>4.524804</td>\n",
       "      <td>5.183105</td>\n",
       "      <td>6.138951</td>\n",
       "      <td>6.809163</td>\n",
       "      <td>7.634194</td>\n",
       "      <td>9.541766</td>\n",
       "      <td>11.049454</td>\n",
       "      <td>13.842788</td>\n",
       "      <td>15.958528</td>\n",
       "      <td>18.720224</td>\n",
       "    </tr>\n",
       "    <tr>\n",
       "      <th>3</th>\n",
       "      <td>POLYGON ((-126.10000 58.79600, -126.11250 58.8...</td>\n",
       "      <td>10BE007</td>\n",
       "      <td>TROUT RIVER AT KILOMETRE 783.7 ALASKA HIGHWAY</td>\n",
       "      <td>1170.0</td>\n",
       "      <td>0.846326</td>\n",
       "      <td>1.782831</td>\n",
       "      <td>6.310975</td>\n",
       "      <td>10.423199</td>\n",
       "      <td>13.551472</td>\n",
       "      <td>17.247709</td>\n",
       "      <td>...</td>\n",
       "      <td>-0.826701</td>\n",
       "      <td>0.289358</td>\n",
       "      <td>1.253341</td>\n",
       "      <td>1.857471</td>\n",
       "      <td>2.806194</td>\n",
       "      <td>-2.461317</td>\n",
       "      <td>-0.095001</td>\n",
       "      <td>1.757461</td>\n",
       "      <td>3.090589</td>\n",
       "      <td>4.684330</td>\n",
       "    </tr>\n",
       "    <tr>\n",
       "      <th>4</th>\n",
       "      <td>POLYGON ((-130.50830 58.44600, -130.52500 58.4...</td>\n",
       "      <td>10AC003</td>\n",
       "      <td>DEASE RIVER AT OUTLET OF DEASE LAKE</td>\n",
       "      <td>1520.0</td>\n",
       "      <td>0.961293</td>\n",
       "      <td>12.827155</td>\n",
       "      <td>17.025618</td>\n",
       "      <td>20.555976</td>\n",
       "      <td>22.540481</td>\n",
       "      <td>26.720056</td>\n",
       "      <td>...</td>\n",
       "      <td>2.612100</td>\n",
       "      <td>3.271549</td>\n",
       "      <td>3.910924</td>\n",
       "      <td>4.246732</td>\n",
       "      <td>4.884688</td>\n",
       "      <td>3.814419</td>\n",
       "      <td>5.089299</td>\n",
       "      <td>6.404652</td>\n",
       "      <td>7.192629</td>\n",
       "      <td>7.993150</td>\n",
       "    </tr>\n",
       "  </tbody>\n",
       "</table>\n",
       "<p>5 rows × 65 columns</p>\n",
       "</div>"
      ],
      "text/plain": [
       "                                            geometry       ID  \\\n",
       "0  POLYGON ((-111.39170 54.17100, -111.42500 54.1...  06CD002   \n",
       "1  POLYGON ((-134.94580 59.57930, -134.80000 59.6...  09AA014   \n",
       "2  POLYGON ((-130.19170 59.40850, -130.17920 59.4...  10AC004   \n",
       "3  POLYGON ((-126.10000 58.79600, -126.11250 58.8...  10BE007   \n",
       "4  POLYGON ((-130.50830 58.44600, -130.52500 58.4...  10AC003   \n",
       "\n",
       "                                            name  watershed_area       NSE  \\\n",
       "0             CHURCHILL RIVER ABOVE OTTER RAPIDS        119000.0  0.715358   \n",
       "1        FANTAIL RIVER AT OUTLET OF FANTAIL LAKE           717.0  0.758993   \n",
       "2                      BLUE RIVER NEAR THE MOUTH          1700.0  0.818958   \n",
       "3  TROUT RIVER AT KILOMETRE 783.7 ALASKA HIGHWAY          1170.0  0.846326   \n",
       "4            DEASE RIVER AT OUTLET OF DEASE LAKE          1520.0  0.961293   \n",
       "\n",
       "   CESM1_PWM_T100_MUL  CESM1_PWM_T100_P75_MUL  CESM1_PWM_T100_P90_MUL  \\\n",
       "0          -57.343822              -54.547526              -51.714055   \n",
       "1           27.442331               31.577337               35.676450   \n",
       "2            8.734342               13.139980               17.049680   \n",
       "3            1.782831                6.310975               10.423199   \n",
       "4           12.827155               17.025618               20.555976   \n",
       "\n",
       "   CESM1_PWM_T100_P95_MUL  CESM1_PWM_T100_P99_MUL  ...  CanESM2_PWM_T1000_ADD  \\\n",
       "0              -49.651469              -46.376278  ...              -0.274774   \n",
       "1               38.155664               43.461187  ...               3.627438   \n",
       "2               19.928544               24.816201  ...               4.524804   \n",
       "3               13.551472               17.247709  ...              -0.826701   \n",
       "4               22.540481               26.720056  ...               2.612100   \n",
       "\n",
       "   CanESM2_PWM_T1000_P75_ADD  CanESM2_PWM_T1000_P90_ADD  \\\n",
       "0                  -0.220550                  -0.162439   \n",
       "1                   5.299869                   7.212052   \n",
       "2                   5.183105                   6.138951   \n",
       "3                   0.289358                   1.253341   \n",
       "4                   3.271549                   3.910924   \n",
       "\n",
       "   CanESM2_PWM_T1000_P95_ADD  CanESM2_PWM_T1000_P99_ADD  \\\n",
       "0                  -0.128182                  -0.068190   \n",
       "1                   8.076060                  10.182767   \n",
       "2                   6.809163                   7.634194   \n",
       "3                   1.857471                   2.806194   \n",
       "4                   4.246732                   4.884688   \n",
       "\n",
       "   CanESM2_PWM_T10000_ADD  CanESM2_PWM_T10000_P75_ADD  \\\n",
       "0               -0.138914                   -0.022957   \n",
       "1                1.583382                    5.487793   \n",
       "2                9.541766                   11.049454   \n",
       "3               -2.461317                   -0.095001   \n",
       "4                3.814419                    5.089299   \n",
       "\n",
       "   CanESM2_PWM_T10000_P90_ADD  CanESM2_PWM_T10000_P95_ADD  \\\n",
       "0                    0.136653                    0.224204   \n",
       "1                    9.107839                   11.806705   \n",
       "2                   13.842788                   15.958528   \n",
       "3                    1.757461                    3.090589   \n",
       "4                    6.404652                    7.192629   \n",
       "\n",
       "   CanESM2_PWM_T10000_P99_ADD  \n",
       "0                    0.422348  \n",
       "1                   15.833487  \n",
       "2                   18.720224  \n",
       "3                    4.684330  \n",
       "4                    7.993150  \n",
       "\n",
       "[5 rows x 65 columns]"
      ]
     },
     "execution_count": 3,
     "metadata": {},
     "output_type": "execute_result"
    }
   ],
   "source": [
    "gdf.head()"
   ]
  },
  {
   "cell_type": "markdown",
   "metadata": {},
   "source": [
    "And let's create a basic plot for the values of one of the columns, here the relative change factor for the 100-year event estimated from the CanESM2 Large Ensemble, using the Probability Weighted Moment method to estimate GEV parameters. "
   ]
  },
  {
   "cell_type": "code",
   "execution_count": 4,
   "metadata": {},
   "outputs": [
    {
     "data": {
      "text/plain": [
       "<matplotlib.axes._subplots.AxesSubplot at 0x7f0d090e4358>"
      ]
     },
     "execution_count": 4,
     "metadata": {},
     "output_type": "execute_result"
    },
    {
     "data": {
      "image/png": "[encoded data removed]",
      "text/plain": [
       "<Figure size 432x288 with 1 Axes>"
      ]
     },
     "metadata": {
      "needs_background": "light"
     },
     "output_type": "display_data"
    }
   ],
   "source": [
    "col = \"CanESM2_PWM_T100_MUL\"\n",
    "gdf.plot(column=col)"
   ]
  }
 ],
 "metadata": {
  "kernelspec": {
   "display_name": "Python 3",
   "language": "python",
   "name": "python3"
  },
  "language_info": {
   "codemirror_mode": {
    "name": "ipython",
    "version": 3
   },
   "file_extension": ".py",
   "mimetype": "text/x-python",
   "name": "python",
   "nbconvert_exporter": "python",
   "pygments_lexer": "ipython3",
   "version": "3.7.3"
  }
 },
 "nbformat": 4,
 "nbformat_minor": 2
}
