{
 "cells": [
  {
   "cell_type": "markdown",
   "metadata": {},
   "source": [
    "# Accessing PAVICS THREDDS Server\n",
    "\n",
    "\n",
    "The THREDDS data storing netCDF file on PAVICS has some public and private directories. Data from public directories can be accessed anonymously, while data from private directories require authentication. This notebook shows how to access public and private data on the THREDDS server. \n",
    "\n",
    "The PAVICS THREDDS server has a `testdata/` folder, in which we store test datasets to validate process requests. Within that directory is a `secure/` folder whose file access requires authentication (to be done). "
   ]
  },
  {
   "cell_type": "markdown",
   "metadata": {},
   "source": [
    "First let's just open an unsecured link."
   ]
  },
  {
   "cell_type": "code",
   "execution_count": 1,
   "metadata": {},
   "outputs": [
    {
     "data": {
      "text/plain": [
       "<xarray.Dataset>\n",
       "Dimensions:    (bnds: 2, lat: 160, lon: 320, plev: 23, time: 120)\n",
       "Coordinates:\n",
       "  * time       (time) datetime64[ns] 1991-01-16T12:00:00 ... 2000-12-16T12:00:00\n",
       "  * plev       (plev) float64 1e+05 9.25e+04 8.5e+04 7e+04 ... 200.0 100.0 40.0\n",
       "  * lat        (lat) float64 -89.14 -88.03 -86.91 -85.79 ... 86.91 88.03 89.14\n",
       "  * lon        (lon) float64 0.0 1.125 2.25 3.375 ... 355.5 356.6 357.8 358.9\n",
       "Dimensions without coordinates: bnds\n",
       "Data variables:\n",
       "    time_bnds  (time, bnds) datetime64[ns] ...\n",
       "    lat_bnds   (lat, bnds) float64 ...\n",
       "    lon_bnds   (lon, bnds) float64 ...\n",
       "    ta         (time, plev, lat, lon) float32 ...\n",
       "Attributes:\n",
       "    institution:                     MRI (Meteorological Research Institute, ...\n",
       "    institute_id:                    MRI\n",
       "    experiment_id:                   decadal1980\n",
       "    source:                          MRI-CGCM3 2011 atmosphere: GSMUV (gsmuv-...\n",
       "    model_id:                        MRI-CGCM3\n",
       "    forcing:                         GHG, SA, Oz, LU, Sl, Vl, BC, OC (GHG inc...\n",
       "    parent_experiment_id:            N/A\n",
       "    parent_experiment_rip:           N/A\n",
       "    branch_time:                     0.0\n",
       "    contact:                         Seiji Yukimoto (yukimoto@mri-jma.go.jp)\n",
       "    history:                         Output from /sharex3/cmip5/decadal1980/r...\n",
       "    references:                      Model described by Yukimoto et al. (Tech...\n",
       "    initialization_method:           1\n",
       "    physics_version:                 1\n",
       "    tracking_id:                     ce91e727-5f22-44fc-b24d-5bb53393ac69\n",
       "    product:                         output\n",
       "    experiment:                      10- or 30-year run initialized in year 1980\n",
       "    frequency:                       mon\n",
       "    creation_date:                   2011-08-12T05:05:34Z\n",
       "    Conventions:                     CF-1.4\n",
       "    project_id:                      CMIP5\n",
       "    table_id:                        Table Amon (26 July 2011) 976b7fd1d9e1be...\n",
       "    title:                           MRI-CGCM3 model output prepared for CMIP...\n",
       "    parent_experiment:               N/A\n",
       "    modeling_realm:                  atmos\n",
       "    realization:                     1\n",
       "    cmor_version:                    2.7.1\n",
       "    DODS_EXTRA.Unlimited_Dimension:  time"
      ]
     },
     "execution_count": 1,
     "metadata": {},
     "output_type": "execute_result"
    }
   ],
   "source": [
    "import xarray as xr\n",
    "\n",
    "url = \"https://pavics.ouranos.ca/twitcher/ows/proxy/thredds/dodsC/birdhouse/testdata/ta_Amon_MRI-CGCM3_decadal1980_r1i1p1_199101-200012.nc\"\n",
    "ds = xr.open_dataset(url)\n",
    "ds"
   ]
  },
  {
   "cell_type": "markdown",
   "metadata": {},
   "source": [
    "Now let's do the same with a secured link. "
   ]
  },
  {
   "cell_type": "code",
   "execution_count": 2,
   "metadata": {},
   "outputs": [],
   "source": [
    "secured_url = \"https://pavics.ouranos.ca/twitcher/ows/proxy/thredds/dodsC/birdhouse/testdata/secure/tasmax_Amon_MPI-ESM-MR_rcp45_r2i1p1_200601-200612.nc\"\n",
    "\n",
    "# This should fail but doesn't at the moment. \n",
    "ds = xr.open_dataset(secured_url, decode_cf=False)"
   ]
  },
  {
   "cell_type": "markdown",
   "metadata": {},
   "source": [
    "To open a secured link, we need to open a session. We've created a `authtest` user to facilitate testing. "
   ]
  },
  {
   "cell_type": "code",
   "execution_count": 3,
   "metadata": {},
   "outputs": [
    {
     "data": {
      "text/plain": [
       "<xarray.Dataset>\n",
       "Dimensions:             (bnds: 2, lat: 96, lon: 192, time: 12)\n",
       "Coordinates:\n",
       "  * time                (time) float64 5.699e+04 5.702e+04 ... 5.733e+04\n",
       "  * lat                 (lat) float64 -88.57 -86.72 -84.86 ... 84.86 86.72 88.57\n",
       "  * lon                 (lon) float64 0.0 1.875 3.75 5.625 ... 354.4 356.2 358.1\n",
       "Dimensions without coordinates: bnds\n",
       "Data variables:\n",
       "    time_bnds           (time, bnds) float64 ...\n",
       "    lat_bnds            (lat, bnds) float64 ...\n",
       "    lon_bnds            (lon, bnds) float64 ...\n",
       "    latitude_longitude  |S128 ...\n",
       "    tasmax              (time, lat, lon) float32 ...\n",
       "Attributes:\n",
       "    institution:                     Max Planck Institute for Meteorology\n",
       "    institute_id:                    MPI-M\n",
       "    experiment_id:                   rcp45\n",
       "    source:                          MPI-ESM-MR 2011; URL: http://svn.zmaw.de...\n",
       "    model_id:                        MPI-ESM-MR\n",
       "    forcing:                         GHG,Oz,SD,Sl,Vl,LU\n",
       "    parent_experiment_id:            historical\n",
       "    parent_experiment_rip:           r1i1p1\n",
       "    branch_time:                     56978.0\n",
       "    contact:                         cmip5-mpi-esm@dkrz.de\n",
       "    history:                         Model raw output postprocessing with mod...\n",
       "    references:                      ECHAM6: n/a; JSBACH: Raddatz et al., 200...\n",
       "    initialization_method:           1\n",
       "    physics_version:                 1\n",
       "    tracking_id:                     e7e78b40-458b-48bd-963a-aa377a89f90b\n",
       "    product:                         output\n",
       "    experiment:                      RCP4.5\n",
       "    frequency:                       mon\n",
       "    creation_date:                   2011-10-11T11:27:30Z\n",
       "    Conventions:                     CF-1.4\n",
       "    project_id:                      CMIP5\n",
       "    table_id:                        Table Amon (27 April 2011) a5a1c518f52ae...\n",
       "    title:                           MPI-ESM-MR model output prepared for CMI...\n",
       "    parent_experiment:               historical\n",
       "    modeling_realm:                  atmos\n",
       "    realization:                     1\n",
       "    cmor_version:                    2.6.0\n",
       "    DODS_EXTRA.Unlimited_Dimension:  time"
      ]
     },
     "execution_count": 3,
     "metadata": {},
     "output_type": "execute_result"
    }
   ],
   "source": [
    "import requests\n",
    "from requests_magpie import MagpieAuth\n",
    "\n",
    "secured_url = \"https://pavics.ouranos.ca/twitcher/ows/proxy/thredds/dodsC/birdhouse/testdata/secure/tasmax_Amon_MPI-ESM-MR_rcp45_r2i1p1_200601-200612.nc\"\n",
    "auth = MagpieAuth(\"https://pavics.ouranos.ca/magpie\", \"authtest\", \"authtest\")\n",
    "\n",
    "# Open session\n",
    "session = requests.Session()\n",
    "session.auth = auth\n",
    "\n",
    "# Open a Pydap data store and pass it to xarray\n",
    "store = xr.backends.PydapDataStore.open(secured_url, session=session)\n",
    "ds = xr.open_dataset(store, decode_cf=False) # Attributes are problematic with this file. \n",
    "ds"
   ]
  }
 ],
 "metadata": {
  "kernelspec": {
   "display_name": "Python 3",
   "language": "python",
   "name": "python3"
  },
  "language_info": {
   "codemirror_mode": {
    "name": "ipython",
    "version": 3
   },
   "file_extension": ".py",
   "mimetype": "text/x-python",
   "name": "python",
   "nbconvert_exporter": "python",
   "pygments_lexer": "ipython3",
   "version": "3.6.7"
  }
 },
 "nbformat": 4,
 "nbformat_minor": 2
}
