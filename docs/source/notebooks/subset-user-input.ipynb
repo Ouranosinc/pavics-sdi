{
 "cells": [
  {
   "cell_type": "markdown",
   "metadata": {},
   "source": [
    "# General workflow demonstration"
   ]
  },
  {
   "cell_type": "markdown",
   "metadata": {},
   "source": [
    "## Setup and configuration"
   ]
  },
  {
   "cell_type": "code",
   "execution_count": 1,
   "metadata": {},
   "outputs": [
    {
     "name": "stdout",
     "output_type": "stream",
     "text": [
      "Collecting package metadata (repodata.json): ...working... done\n",
      "Solving environment: ...working... done\n",
      "\n",
      "# All requested packages already installed.\n",
      "\n",
      "Enabling notebook extension jupyter-leaflet/extension...\n",
      "      - Validating: \u001b[32mOK\u001b[0m\n"
     ]
    }
   ],
   "source": [
    "# Install dependencies not in the base jupyter image and enable the nbextension\n",
    "\n",
    "import sys\n",
    "\n",
    "!conda install -q -y -c conda-forge --prefix {sys.prefix} ipyleaflet\n",
    "\n",
    "# If you have JupyterLab, you will also need to install the JupyterLab extension:\n",
    "# !jupyter labextension install @jupyter-widgets/jupyterlab-manager jupyter-leaflet\n",
    "\n",
    "!jupyter nbextension enable --py --sys-prefix ipyleaflet"
   ]
  },
  {
   "cell_type": "code",
   "execution_count": 2,
   "metadata": {},
   "outputs": [],
   "source": [
    "import ipyleaflet\n",
    "from birdy import WPSClient\n",
    "\n",
    "# we will use these coordinates later to center the map on Canada\n",
    "canada_center_lat_lon = (52.4292, -93.2959)"
   ]
  },
  {
   "cell_type": "markdown",
   "metadata": {},
   "source": [
    "#### Pavics url configuration"
   ]
  },
  {
   "cell_type": "code",
   "execution_count": 3,
   "metadata": {},
   "outputs": [],
   "source": [
    "# Ouranos production server\n",
    "pavics_url = \"https://pavics.ouranos.ca\"\n",
    "\n",
    "# CRIM test server\n",
    "# Important note: this is a development server, uptime is not guaranteed\n",
    "# pavics_url = \"https://colibri.crim.ca\"\n",
    "\n",
    "finch_url = f'{pavics_url}/twitcher/ows/proxy/finch/wps'\n"
   ]
  },
  {
   "cell_type": "markdown",
   "metadata": {},
   "source": [
    "## Getting user input from a map widget"
   ]
  },
  {
   "cell_type": "markdown",
   "metadata": {},
   "source": [
    "### Notes about ipyleaflet\n",
    "\n",
    "ipyleaflet is a **\"A Jupyter / Leaflet bridge enabling interactive maps in the Jupyter notebook\"**\n",
    "\n",
    "This means that the interactions with graphical objects on the map and in python are synchronized. The documentation is at: https://ipyleaflet.readthedocs.io"
   ]
  },
  {
   "cell_type": "code",
   "execution_count": 4,
   "metadata": {},
   "outputs": [
    {
     "data": {
      "application/vnd.jupyter.widget-view+json": {
       "model_id": "7165cae6164e410182c6c9d1b071cf0d",
       "version_major": 2,
       "version_minor": 0
      },
      "text/plain": [
       "Map(basemap={'url': 'https://stamen-tiles-a.a.ssl.fastly.net/terrain/{z}/{x}/{y}.png', 'attribution': 'Map til…"
      ]
     },
     "metadata": {},
     "output_type": "display_data"
    }
   ],
   "source": [
    "leaflet_map = ipyleaflet.Map(\n",
    "    center=canada_center_lat_lon,\n",
    "    basemap=ipyleaflet.basemaps.Stamen.Terrain,\n",
    "    zoom=4,\n",
    ")\n",
    "\n",
    "initial_marker_location = canada_center_lat_lon\n",
    "marker = ipyleaflet.Marker(location=initial_marker_location, draggable=True)\n",
    "leaflet_map.add_layer(marker)\n",
    "\n",
    "leaflet_map"
   ]
  },
  {
   "cell_type": "markdown",
   "metadata": {},
   "source": [
    "If you move the marker on the map, it will update the `marker.location` variable. Also, if you update `marker.location` manually (`marker.location = (45.44, -90.44)`) it will also move on the map."
   ]
  },
  {
   "cell_type": "code",
   "execution_count": 5,
   "metadata": {},
   "outputs": [],
   "source": [
    "marker.location = (45.55, -72.44)"
   ]
  },
  {
   "cell_type": "code",
   "execution_count": 6,
   "metadata": {},
   "outputs": [
    {
     "name": "stdout",
     "output_type": "stream",
     "text": [
      "(52.4292, -93.2959)\n",
      "[45.55, -72.44]\n"
     ]
    }
   ],
   "source": [
    "print(initial_marker_location)\n",
    "print(marker.location)"
   ]
  },
  {
   "cell_type": "markdown",
   "metadata": {},
   "source": [
    "#### Helper function to get user input"
   ]
  },
  {
   "cell_type": "code",
   "execution_count": 7,
   "metadata": {},
   "outputs": [],
   "source": [
    "import ipyleaflet\n",
    "from IPython.display import display\n",
    "import ipywidgets as widgets\n",
    "\n",
    "def get_rectangle():\n",
    "    canada_center = (52.4292, -93.2959)\n",
    "    m = ipyleaflet.Map(\n",
    "        center=canada_center,\n",
    "        basemap=ipyleaflet.basemaps.Stamen.Terrain,\n",
    "        zoom=4,\n",
    "    )\n",
    "    \n",
    "    # Create a new draw control\n",
    "    draw_control = ipyleaflet.DrawControl()\n",
    "\n",
    "    # disable some drawing inputs\n",
    "    draw_control.polyline = {}\n",
    "    draw_control.circlemarker = {}\n",
    "    draw_control.polygon = {}\n",
    "\n",
    "    draw_control.rectangle = {\n",
    "        \"shapeOptions\": {\n",
    "            \"fillColor\": \"#4ae\",\n",
    "            \"color\": \"#4ae\",\n",
    "            \"fillOpacity\": 0.3,\n",
    "        }\n",
    "    }\n",
    "\n",
    "    output = widgets.Output(layout={'border': '1px solid black'})\n",
    "    \n",
    "    rectangle = {}\n",
    "\n",
    "    # set drawing callback\n",
    "    def callback(control, action, geo_json):\n",
    "        if action == \"created\":\n",
    "            # note: we can't close the map or remove it from the output\n",
    "            # from this callback. The map keeps the focus, and the \n",
    "            # jupyter keyboard input is messed up.\n",
    "            # So we set it very thin to make it disappear :)\n",
    "            m.layout = {\"max_height\": \"0\"}\n",
    "            with output:\n",
    "                print(\"*User selected 1 rectangle*\")\n",
    "                rectangle.update(geo_json)\n",
    "\n",
    "    draw_control.on_draw(callback)    \n",
    "\n",
    "    m.add_control(draw_control)\n",
    "    \n",
    "    with output:\n",
    "        print(\"Select a rectangle:\")\n",
    "        display(m)\n",
    "        \n",
    "    display(output)\n",
    "    \n",
    "    return rectangle"
   ]
  },
  {
   "cell_type": "markdown",
   "metadata": {},
   "source": [
    "#### The user wants to select a rectangle on a map, and get a GeoJSON back"
   ]
  },
  {
   "cell_type": "code",
   "execution_count": 8,
   "metadata": {},
   "outputs": [
    {
     "data": {
      "application/vnd.jupyter.widget-view+json": {
       "model_id": "5b8ed8ee82c34aca843b9ffc90f313fe",
       "version_major": 2,
       "version_minor": 0
      },
      "text/plain": [
       "Output(layout=Layout(border='1px solid black'))"
      ]
     },
     "metadata": {},
     "output_type": "display_data"
    }
   ],
   "source": [
    "rectangle = get_rectangle()"
   ]
  },
  {
   "cell_type": "code",
   "execution_count": 9,
   "metadata": {},
   "outputs": [
    {
     "data": {
      "text/plain": [
       "{'type': 'Feature',\n",
       " 'properties': {'style': {'stroke': True,\n",
       "   'color': '#4ae',\n",
       "   'weight': 4,\n",
       "   'opacity': 0.5,\n",
       "   'fill': True,\n",
       "   'fillColor': '#4ae',\n",
       "   'fillOpacity': 0.3,\n",
       "   'clickable': True}},\n",
       " 'geometry': {'type': 'Polygon',\n",
       "  'coordinates': [[[-78.120825, 44.571688],\n",
       "    [-78.120825, 47.736369],\n",
       "    [-70.030572, 47.736369],\n",
       "    [-70.030572, 44.571688],\n",
       "    [-78.120825, 44.571688]]]}}"
      ]
     },
     "execution_count": 9,
     "metadata": {},
     "output_type": "execute_result"
    }
   ],
   "source": [
    "rectangle  # GeoJSON with custom style properties"
   ]
  },
  {
   "cell_type": "markdown",
   "metadata": {},
   "source": [
    "#### Get the maximum and minimum bounds"
   ]
  },
  {
   "cell_type": "code",
   "execution_count": 10,
   "metadata": {},
   "outputs": [
    {
     "data": {
      "text/html": [
       "<div>\n",
       "<style scoped>\n",
       "    .dataframe tbody tr th:only-of-type {\n",
       "        vertical-align: middle;\n",
       "    }\n",
       "\n",
       "    .dataframe tbody tr th {\n",
       "        vertical-align: top;\n",
       "    }\n",
       "\n",
       "    .dataframe thead th {\n",
       "        text-align: right;\n",
       "    }\n",
       "</style>\n",
       "<table border=\"1\" class=\"dataframe\">\n",
       "  <thead>\n",
       "    <tr style=\"text-align: right;\">\n",
       "      <th></th>\n",
       "      <th>minx</th>\n",
       "      <th>miny</th>\n",
       "      <th>maxx</th>\n",
       "      <th>maxy</th>\n",
       "    </tr>\n",
       "  </thead>\n",
       "  <tbody>\n",
       "    <tr>\n",
       "      <th>0</th>\n",
       "      <td>-78.120825</td>\n",
       "      <td>44.571688</td>\n",
       "      <td>-70.030572</td>\n",
       "      <td>47.736369</td>\n",
       "    </tr>\n",
       "  </tbody>\n",
       "</table>\n",
       "</div>"
      ],
      "text/plain": [
       "        minx       miny       maxx       maxy\n",
       "0 -78.120825  44.571688 -70.030572  47.736369"
      ]
     },
     "execution_count": 10,
     "metadata": {},
     "output_type": "execute_result"
    }
   ],
   "source": [
    "import geopandas as gpd\n",
    "\n",
    "rect = gpd.GeoDataFrame.from_features([rectangle])\n",
    "bounds = rect.bounds\n",
    "bounds"
   ]
  },
  {
   "cell_type": "markdown",
   "metadata": {},
   "source": [
    "## Calling wps processes"
   ]
  },
  {
   "cell_type": "markdown",
   "metadata": {},
   "source": [
    "For this example, we will **subset** a dataset with the user-selected bounds, and launch a **heat wave frequency** analysis on it."
   ]
  },
  {
   "cell_type": "code",
   "execution_count": 11,
   "metadata": {},
   "outputs": [],
   "source": [
    "finch = WPSClient(finch_url, progress=True)"
   ]
  },
  {
   "cell_type": "code",
   "execution_count": 12,
   "metadata": {},
   "outputs": [
    {
     "name": "stdout",
     "output_type": "stream",
     "text": [
      "Help on method subset_bbox in module birdy.client.base:\n",
      "\n",
      "subset_bbox(resource=None, lon0=0.0, lon1=360.0, lat0=-90.0, lat1=90.0, y0=None, y1=None, variable=None) method of birdy.client.base.WPSClient instance\n",
      "    Return the data for which grid cells intersect the bounding box for each input dataset as well as the time range selected.\n",
      "    \n",
      "    Parameters\n",
      "    ----------\n",
      "    resource : ComplexData:mimetype:`application/x-netcdf`, :mimetype:`application/x-ogc-dods`\n",
      "        NetCDF files, can be OPEnDAP urls.\n",
      "    lon0 : float\n",
      "        Minimum longitude.\n",
      "    lon1 : float\n",
      "        Maximum longitude.\n",
      "    lat0 : float\n",
      "        Minimum latitude.\n",
      "    lat1 : float\n",
      "        Maximum latitude.\n",
      "    y0 : integer\n",
      "        Initial year for temporal subsetting. Defaults to first year in file.\n",
      "    y1 : integer\n",
      "        Final year for temporal subsetting. Defaults to last year in file.\n",
      "    variable : string\n",
      "        Name of the variable in the NetCDF file.If not provided, all variables will be subsetted.\n",
      "    \n",
      "    Returns\n",
      "    -------\n",
      "    output : ComplexData:mimetype:`application/x-netcdf`\n",
      "        netCDF output\n",
      "    ref : ComplexData:mimetype:`application/metalink+xml; version=4.0`\n",
      "        Metalink file storing all references to output file.\n",
      "\n"
     ]
    }
   ],
   "source": [
    "help(finch.subset_bbox)"
   ]
  },
  {
   "cell_type": "markdown",
   "metadata": {},
   "source": [
    "### Subset tasmin and tasmax datasets"
   ]
  },
  {
   "cell_type": "markdown",
   "metadata": {},
   "source": [
    "#### Note: the datasets will soon be made searchable through a catalog"
   ]
  },
  {
   "cell_type": "code",
   "execution_count": 16,
   "metadata": {},
   "outputs": [
    {
     "data": {
      "application/vnd.jupyter.widget-view+json": {
       "model_id": "fdf0c3a2799c4d4e9d60377b917071c2",
       "version_major": 2,
       "version_minor": 0
      },
      "text/plain": [
       "HBox(children=(IntProgress(value=0, bar_style='info', description='Processing:'), Button(button_style='danger'…"
      ]
     },
     "metadata": {},
     "output_type": "display_data"
    }
   ],
   "source": [
    "# Ouranos production server\n",
    "tasmin = \"https://pavics.ouranos.ca/twitcher/ows/proxy/thredds/dodsC/birdhouse/nrcan/nrcan_canada_daily_v2/tasmin/nrcan_canada_daily_tasmin_1958.nc\"\n",
    "tasmax = \"https://pavics.ouranos.ca/twitcher/ows/proxy/thredds/dodsC/birdhouse/nrcan/nrcan_canada_daily_v2/tasmax/nrcan_canada_daily_tasmax_1958.nc\"\n",
    "\n",
    "# CRIM test server\n",
    "tasmin = \"http://colibri.crim.ca:8083/thredds/dodsC/birdhouse/nrcan/nrcan_canada_daily/nrcan_canada_daily_tasmin_1958.nc\"\n",
    "tasmax = \"http://colibri.crim.ca:8083/thredds/dodsC/birdhouse/nrcan/nrcan_canada_daily/nrcan_canada_daily_tasmax_1958.nc\"\n",
    "\n",
    "lon0 = float(bounds.minx)\n",
    "lon1 = float(bounds.maxx)\n",
    "lat0 = float(bounds.miny)\n",
    "lat1 = float(bounds.maxy)\n",
    "\n",
    "result_tasmin = finch.subset_bbox(resource=tasmin, lon0=lon0, lon1=lon1, lat0=lat0, lat1=lat1)"
   ]
  },
  {
   "cell_type": "code",
   "execution_count": 16,
   "metadata": {},
   "outputs": [
    {
     "ename": "NameError",
     "evalue": "name 'result_tasmin' is not defined",
     "output_type": "error",
     "traceback": [
      "\u001b[0;31m---------------------------------------------------------------------------\u001b[0m",
      "\u001b[0;31mNameError\u001b[0m                                 Traceback (most recent call last)",
      "\u001b[0;32m<ipython-input-16-2b48e1ba40c0>\u001b[0m in \u001b[0;36m<module>\u001b[0;34m\u001b[0m\n\u001b[1;32m      1\u001b[0m \u001b[0;31m# wait for process to complete before running this cell (the process is async)\u001b[0m\u001b[0;34m\u001b[0m\u001b[0;34m\u001b[0m\u001b[0;34m\u001b[0m\u001b[0m\n\u001b[0;32m----> 2\u001b[0;31m \u001b[0mtasmin_subset\u001b[0m \u001b[0;34m=\u001b[0m \u001b[0mresult_tasmin\u001b[0m\u001b[0;34m.\u001b[0m\u001b[0mget\u001b[0m\u001b[0;34m(\u001b[0m\u001b[0;34m)\u001b[0m\u001b[0;34m.\u001b[0m\u001b[0moutput\u001b[0m\u001b[0;34m\u001b[0m\u001b[0;34m\u001b[0m\u001b[0m\n\u001b[0m\u001b[1;32m      3\u001b[0m \u001b[0mtasmin_subset\u001b[0m\u001b[0;34m\u001b[0m\u001b[0;34m\u001b[0m\u001b[0m\n",
      "\u001b[0;31mNameError\u001b[0m: name 'result_tasmin' is not defined"
     ]
    }
   ],
   "source": [
    "# wait for process to complete before running this cell (the process is async)\n",
    "tasmin_subset = result_tasmin.get().output\n",
    "tasmin_subset"
   ]
  },
  {
   "cell_type": "code",
   "execution_count": 17,
   "metadata": {},
   "outputs": [
    {
     "ename": "NameError",
     "evalue": "name 'lon0' is not defined",
     "output_type": "error",
     "traceback": [
      "\u001b[0;31m---------------------------------------------------------------------------\u001b[0m",
      "\u001b[0;31mNameError\u001b[0m                                 Traceback (most recent call last)",
      "\u001b[0;32m<ipython-input-17-4e29c0085c53>\u001b[0m in \u001b[0;36m<module>\u001b[0;34m\u001b[0m\n\u001b[0;32m----> 1\u001b[0;31m \u001b[0mresult_tasmax\u001b[0m \u001b[0;34m=\u001b[0m \u001b[0mfinch\u001b[0m\u001b[0;34m.\u001b[0m\u001b[0msubset_bbox\u001b[0m\u001b[0;34m(\u001b[0m\u001b[0mresource\u001b[0m\u001b[0;34m=\u001b[0m\u001b[0mtasmax\u001b[0m\u001b[0;34m,\u001b[0m \u001b[0mlon0\u001b[0m\u001b[0;34m=\u001b[0m\u001b[0mlon0\u001b[0m\u001b[0;34m,\u001b[0m \u001b[0mlon1\u001b[0m\u001b[0;34m=\u001b[0m\u001b[0mlon1\u001b[0m\u001b[0;34m,\u001b[0m \u001b[0mlat0\u001b[0m\u001b[0;34m=\u001b[0m\u001b[0mlat0\u001b[0m\u001b[0;34m,\u001b[0m \u001b[0mlat1\u001b[0m\u001b[0;34m=\u001b[0m\u001b[0mlat1\u001b[0m\u001b[0;34m)\u001b[0m\u001b[0;34m\u001b[0m\u001b[0;34m\u001b[0m\u001b[0m\n\u001b[0m",
      "\u001b[0;31mNameError\u001b[0m: name 'lon0' is not defined"
     ]
    }
   ],
   "source": [
    "result_tasmax = finch.subset_bbox(resource=tasmax, lon0=lon0, lon1=lon1, lat0=lat0, lat1=lat1)"
   ]
  },
  {
   "cell_type": "code",
   "execution_count": 18,
   "metadata": {},
   "outputs": [
    {
     "ename": "NameError",
     "evalue": "name 'result_tasmax' is not defined",
     "output_type": "error",
     "traceback": [
      "\u001b[0;31m---------------------------------------------------------------------------\u001b[0m",
      "\u001b[0;31mNameError\u001b[0m                                 Traceback (most recent call last)",
      "\u001b[0;32m<ipython-input-18-d5d20461f872>\u001b[0m in \u001b[0;36m<module>\u001b[0;34m\u001b[0m\n\u001b[1;32m      1\u001b[0m \u001b[0;31m# wait for process to complete before running this cell (the process is async)\u001b[0m\u001b[0;34m\u001b[0m\u001b[0;34m\u001b[0m\u001b[0;34m\u001b[0m\u001b[0m\n\u001b[0;32m----> 2\u001b[0;31m \u001b[0mtasmax_subset\u001b[0m \u001b[0;34m=\u001b[0m \u001b[0mresult_tasmax\u001b[0m\u001b[0;34m.\u001b[0m\u001b[0mget\u001b[0m\u001b[0;34m(\u001b[0m\u001b[0;34m)\u001b[0m\u001b[0;34m.\u001b[0m\u001b[0moutput\u001b[0m\u001b[0;34m\u001b[0m\u001b[0;34m\u001b[0m\u001b[0m\n\u001b[0m\u001b[1;32m      3\u001b[0m \u001b[0mtasmax_subset\u001b[0m\u001b[0;34m\u001b[0m\u001b[0;34m\u001b[0m\u001b[0m\n",
      "\u001b[0;31mNameError\u001b[0m: name 'result_tasmax' is not defined"
     ]
    }
   ],
   "source": [
    "# wait for process to complete before running this cell (the process is async)\n",
    "tasmax_subset = result_tasmax.get().output\n",
    "tasmax_subset"
   ]
  },
  {
   "cell_type": "markdown",
   "metadata": {},
   "source": [
    "### Launch a heat wave frequency analysis with the subsetted datasets"
   ]
  },
  {
   "cell_type": "code",
   "execution_count": 19,
   "metadata": {},
   "outputs": [
    {
     "name": "stdout",
     "output_type": "stream",
     "text": [
      "Help on method heat_wave_frequency in module birdy.client.base:\n",
      "\n",
      "heat_wave_frequency(tasmin=None, tasmax=None, thresh_tasmin='22.0 degC', thresh_tasmax='30 degC', window=3, freq='YS') method of birdy.client.base.WPSClient instance\n",
      "    Number of heat waves over a given period. A heat wave is defined as an event\n",
      "        where the minimum and maximum daily temperature both exceeds specific thresholds\n",
      "        over a minimum number of days.\n",
      "    \n",
      "    Parameters\n",
      "    ----------\n",
      "    tasmin : ComplexData:mimetype:`application/x-netcdf`\n",
      "        NetCDF Files or archive (tar/zip) containing netCDF files.\n",
      "    tasmax : ComplexData:mimetype:`application/x-netcdf`\n",
      "        NetCDF Files or archive (tar/zip) containing netCDF files.\n",
      "    thresh_tasmin : string\n",
      "        threshold\n",
      "    thresh_tasmax : string\n",
      "        threshold\n",
      "    window : integer\n",
      "        window\n",
      "    freq : {'YS', 'MS', 'QS-DEC', 'AS-JUL'}string\n",
      "        Resampling frequency\n",
      "    \n",
      "    Returns\n",
      "    -------\n",
      "    output_netcdf : ComplexData:mimetype:`application/x-netcdf`\n",
      "        The indicator values computed on the original input grid.\n",
      "    output_log : ComplexData:mimetype:`text/plain`\n",
      "        Collected logs during process run.\n",
      "\n"
     ]
    }
   ],
   "source": [
    "help(finch.heat_wave_frequency)"
   ]
  },
  {
   "cell_type": "code",
   "execution_count": 20,
   "metadata": {},
   "outputs": [
    {
     "ename": "NameError",
     "evalue": "name 'tasmin_subset' is not defined",
     "output_type": "error",
     "traceback": [
      "\u001b[0;31m---------------------------------------------------------------------------\u001b[0m",
      "\u001b[0;31mNameError\u001b[0m                                 Traceback (most recent call last)",
      "\u001b[0;32m<ipython-input-20-02ed810eb36f>\u001b[0m in \u001b[0;36m<module>\u001b[0;34m\u001b[0m\n\u001b[0;32m----> 1\u001b[0;31m \u001b[0mresult\u001b[0m \u001b[0;34m=\u001b[0m \u001b[0mfinch\u001b[0m\u001b[0;34m.\u001b[0m\u001b[0mheat_wave_frequency\u001b[0m\u001b[0;34m(\u001b[0m\u001b[0mtasmin\u001b[0m\u001b[0;34m=\u001b[0m\u001b[0mtasmin_subset\u001b[0m\u001b[0;34m,\u001b[0m \u001b[0mtasmax\u001b[0m\u001b[0;34m=\u001b[0m\u001b[0mtasmax_subset\u001b[0m\u001b[0;34m,\u001b[0m \u001b[0mthresh_tasmin\u001b[0m\u001b[0;34m=\u001b[0m\u001b[0;34m\"14C\"\u001b[0m\u001b[0;34m,\u001b[0m \u001b[0mthresh_tasmax\u001b[0m\u001b[0;34m=\u001b[0m\u001b[0;34m\"22C\"\u001b[0m\u001b[0;34m)\u001b[0m\u001b[0;34m\u001b[0m\u001b[0;34m\u001b[0m\u001b[0m\n\u001b[0m",
      "\u001b[0;31mNameError\u001b[0m: name 'tasmin_subset' is not defined"
     ]
    }
   ],
   "source": [
    "result = finch.heat_wave_frequency(tasmin=tasmin_subset, tasmax=tasmax_subset, thresh_tasmin=\"14C\", thresh_tasmax=\"22C\")"
   ]
  },
  {
   "cell_type": "markdown",
   "metadata": {},
   "source": [
    "Get the output as a python object (xarray Dataset)"
   ]
  },
  {
   "cell_type": "code",
   "execution_count": 21,
   "metadata": {},
   "outputs": [
    {
     "ename": "NameError",
     "evalue": "name 'result' is not defined",
     "output_type": "error",
     "traceback": [
      "\u001b[0;31m---------------------------------------------------------------------------\u001b[0m",
      "\u001b[0;31mNameError\u001b[0m                                 Traceback (most recent call last)",
      "\u001b[0;32m<ipython-input-21-4787a08eb672>\u001b[0m in \u001b[0;36m<module>\u001b[0;34m\u001b[0m\n\u001b[0;32m----> 1\u001b[0;31m \u001b[0mds\u001b[0m\u001b[0;34m,\u001b[0m \u001b[0mlogs\u001b[0m \u001b[0;34m=\u001b[0m \u001b[0mresult\u001b[0m\u001b[0;34m.\u001b[0m\u001b[0mget\u001b[0m\u001b[0;34m(\u001b[0m\u001b[0masobj\u001b[0m\u001b[0;34m=\u001b[0m\u001b[0;32mTrue\u001b[0m\u001b[0;34m)\u001b[0m\u001b[0;34m\u001b[0m\u001b[0;34m\u001b[0m\u001b[0m\n\u001b[0m",
      "\u001b[0;31mNameError\u001b[0m: name 'result' is not defined"
     ]
    }
   ],
   "source": [
    "ds, logs = result.get(asobj=True)"
   ]
  },
  {
   "cell_type": "code",
   "execution_count": 22,
   "metadata": {},
   "outputs": [
    {
     "ename": "NameError",
     "evalue": "name 'ds' is not defined",
     "output_type": "error",
     "traceback": [
      "\u001b[0;31m---------------------------------------------------------------------------\u001b[0m",
      "\u001b[0;31mNameError\u001b[0m                                 Traceback (most recent call last)",
      "\u001b[0;32m<ipython-input-22-6f4a4004dcca>\u001b[0m in \u001b[0;36m<module>\u001b[0;34m\u001b[0m\n\u001b[0;32m----> 1\u001b[0;31m \u001b[0mds\u001b[0m\u001b[0;34m\u001b[0m\u001b[0;34m\u001b[0m\u001b[0m\n\u001b[0m",
      "\u001b[0;31mNameError\u001b[0m: name 'ds' is not defined"
     ]
    }
   ],
   "source": [
    "ds"
   ]
  },
  {
   "cell_type": "code",
   "execution_count": 23,
   "metadata": {},
   "outputs": [
    {
     "ename": "NameError",
     "evalue": "name 'ds' is not defined",
     "output_type": "error",
     "traceback": [
      "\u001b[0;31m---------------------------------------------------------------------------\u001b[0m",
      "\u001b[0;31mNameError\u001b[0m                                 Traceback (most recent call last)",
      "\u001b[0;32m<ipython-input-23-c5f195554321>\u001b[0m in \u001b[0;36m<module>\u001b[0;34m\u001b[0m\n\u001b[0;32m----> 1\u001b[0;31m \u001b[0mds\u001b[0m\u001b[0;34m.\u001b[0m\u001b[0mheat_wave_frequency\u001b[0m\u001b[0;34m.\u001b[0m\u001b[0misel\u001b[0m\u001b[0;34m(\u001b[0m\u001b[0mtime\u001b[0m\u001b[0;34m=\u001b[0m\u001b[0;36m0\u001b[0m\u001b[0;34m)\u001b[0m\u001b[0;34m.\u001b[0m\u001b[0mplot\u001b[0m\u001b[0;34m(\u001b[0m\u001b[0;34m)\u001b[0m\u001b[0;34m\u001b[0m\u001b[0;34m\u001b[0m\u001b[0m\n\u001b[0m",
      "\u001b[0;31mNameError\u001b[0m: name 'ds' is not defined"
     ]
    }
   ],
   "source": [
    "ds.heat_wave_frequency.isel(time=0).plot()"
   ]
  },
  {
   "cell_type": "markdown",
   "metadata": {},
   "source": [
    "### Showing wms layers on a map"
   ]
  },
  {
   "cell_type": "markdown",
   "metadata": {},
   "source": [
    "The results are stored in a folder that is available to thredds, which provides a WMS service to its datasets. In the case of large outputs, the user could view ths results of the analysis as a wms service without downloading the data."
   ]
  },
  {
   "cell_type": "markdown",
   "metadata": {},
   "source": [
    "#### Get the wms url from the 'wpsoutputs'"
   ]
  },
  {
   "cell_type": "code",
   "execution_count": 24,
   "metadata": {},
   "outputs": [
    {
     "ename": "NameError",
     "evalue": "name 'result' is not defined",
     "output_type": "error",
     "traceback": [
      "\u001b[0;31m---------------------------------------------------------------------------\u001b[0m",
      "\u001b[0;31mNameError\u001b[0m                                 Traceback (most recent call last)",
      "\u001b[0;32m<ipython-input-24-a71d6906c787>\u001b[0m in \u001b[0;36m<module>\u001b[0;34m\u001b[0m\n\u001b[0;32m----> 1\u001b[0;31m \u001b[0moutput_url\u001b[0m \u001b[0;34m=\u001b[0m \u001b[0mresult\u001b[0m\u001b[0;34m.\u001b[0m\u001b[0mget\u001b[0m\u001b[0;34m(\u001b[0m\u001b[0;34m)\u001b[0m\u001b[0;34m.\u001b[0m\u001b[0moutput_netcdf\u001b[0m\u001b[0;34m\u001b[0m\u001b[0;34m\u001b[0m\u001b[0m\n\u001b[0m\u001b[1;32m      2\u001b[0m \u001b[0mprint\u001b[0m\u001b[0;34m(\u001b[0m\u001b[0;34m\"output_url = \"\u001b[0m\u001b[0;34m,\u001b[0m \u001b[0moutput_url\u001b[0m\u001b[0;34m)\u001b[0m\u001b[0;34m\u001b[0m\u001b[0;34m\u001b[0m\u001b[0m\n\u001b[1;32m      3\u001b[0m \u001b[0moutput_path\u001b[0m \u001b[0;34m=\u001b[0m \u001b[0moutput_url\u001b[0m\u001b[0;34m[\u001b[0m\u001b[0moutput_url\u001b[0m\u001b[0;34m.\u001b[0m\u001b[0mfind\u001b[0m\u001b[0;34m(\u001b[0m\u001b[0;34m\"wpsoutputs\"\u001b[0m\u001b[0;34m)\u001b[0m\u001b[0;34m:\u001b[0m\u001b[0;34m]\u001b[0m\u001b[0;34m\u001b[0m\u001b[0;34m\u001b[0m\u001b[0m\n\u001b[1;32m      4\u001b[0m \u001b[0moutput_path\u001b[0m \u001b[0;34m=\u001b[0m \u001b[0moutput_path\u001b[0m\u001b[0;34m.\u001b[0m\u001b[0mreplace\u001b[0m\u001b[0;34m(\u001b[0m\u001b[0;34m\"wpsoutputs\"\u001b[0m\u001b[0;34m,\u001b[0m \u001b[0;34m\"wps_outputs\"\u001b[0m\u001b[0;34m)\u001b[0m\u001b[0;34m\u001b[0m\u001b[0;34m\u001b[0m\u001b[0m\n\u001b[1;32m      5\u001b[0m \u001b[0mprint\u001b[0m\u001b[0;34m(\u001b[0m\u001b[0;34m\"output_path = \"\u001b[0m\u001b[0;34m,\u001b[0m \u001b[0moutput_path\u001b[0m\u001b[0;34m)\u001b[0m\u001b[0;34m\u001b[0m\u001b[0;34m\u001b[0m\u001b[0m\n",
      "\u001b[0;31mNameError\u001b[0m: name 'result' is not defined"
     ]
    }
   ],
   "source": [
    "output_url = result.get().output_netcdf\n",
    "print(\"output_url = \", output_url)\n",
    "output_path = output_url[output_url.find(\"wpsoutputs\"):]\n",
    "output_path = output_path.replace(\"wpsoutputs\", \"wps_outputs\")\n",
    "print(\"output_path = \", output_path)\n",
    "\n",
    "output_thredds_url = f\"{pavics_url}:8083/thredds/wms/birdhouse/{output_path}\"\n",
    "output_thredds_url"
   ]
  },
  {
   "cell_type": "markdown",
   "metadata": {},
   "source": [
    "Using ipyleaflet again, we can connect to this wms service."
   ]
  },
  {
   "cell_type": "code",
   "execution_count": 25,
   "metadata": {},
   "outputs": [
    {
     "ename": "NameError",
     "evalue": "name 'output_thredds_url' is not defined",
     "output_type": "error",
     "traceback": [
      "\u001b[0;31m---------------------------------------------------------------------------\u001b[0m",
      "\u001b[0;31mNameError\u001b[0m                                 Traceback (most recent call last)",
      "\u001b[0;32m<ipython-input-25-dc61441ee4b8>\u001b[0m in \u001b[0;36m<module>\u001b[0;34m\u001b[0m\n\u001b[1;32m     19\u001b[0m     \u001b[0;32mreturn\u001b[0m \u001b[0mm\u001b[0m\u001b[0;34m\u001b[0m\u001b[0;34m\u001b[0m\u001b[0m\n\u001b[1;32m     20\u001b[0m \u001b[0;34m\u001b[0m\u001b[0m\n\u001b[0;32m---> 21\u001b[0;31m \u001b[0mm\u001b[0m \u001b[0;34m=\u001b[0m \u001b[0mshow_wms\u001b[0m\u001b[0;34m(\u001b[0m\u001b[0moutput_thredds_url\u001b[0m\u001b[0;34m)\u001b[0m\u001b[0;34m\u001b[0m\u001b[0;34m\u001b[0m\u001b[0m\n\u001b[0m\u001b[1;32m     22\u001b[0m \u001b[0mm\u001b[0m\u001b[0;34m\u001b[0m\u001b[0;34m\u001b[0m\u001b[0m\n",
      "\u001b[0;31mNameError\u001b[0m: name 'output_thredds_url' is not defined"
     ]
    }
   ],
   "source": [
    "def show_wms(url):\n",
    "    canada_center = (52.4292, -93.2959)\n",
    "    \n",
    "    wms = ipyleaflet.WMSLayer(\n",
    "        url=url,\n",
    "        layers=\"heat_wave_frequency\",\n",
    "        styles=\"boxfill/ferret\",\n",
    "        format=\"image/png\",\n",
    "        transparent=True,\n",
    "        opacity=1,\n",
    "        version=\"1.3.0\",\n",
    "    )\n",
    "    basemap_layer = ipyleaflet.basemap_to_tiles(ipyleaflet.basemaps.Stamen.Terrain)\n",
    "    m = ipyleaflet.Map(\n",
    "        layers=(basemap_layer, wms),\n",
    "        center=canada_center,\n",
    "        zoom=4,\n",
    "    )\n",
    "    return m\n",
    "    \n",
    "m = show_wms(output_thredds_url)\n",
    "m"
   ]
  }
 ],
 "metadata": {
  "kernelspec": {
   "display_name": "Python 3",
   "language": "python",
   "name": "python3"
  },
  "language_info": {
   "codemirror_mode": {
    "name": "ipython",
    "version": 3
   },
   "file_extension": ".py",
   "mimetype": "text/x-python",
   "name": "python",
   "nbconvert_exporter": "python",
   "pygments_lexer": "ipython3",
   "version": "3.6.7"
  },
  "pycharm": {
   "stem_cell": {
    "cell_type": "raw",
    "metadata": {
     "collapsed": false
    },
    "source": []
   }
  }
 },
 "nbformat": 4,
 "nbformat_minor": 4
}
