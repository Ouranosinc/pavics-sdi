{
 "cells": [
  {
   "cell_type": "markdown",
   "metadata": {},
   "source": [
    "# General workflow demonstration"
   ]
  },
  {
   "cell_type": "markdown",
   "metadata": {},
   "source": [
    "## Setup and configuration"
   ]
  },
  {
   "cell_type": "code",
   "execution_count": 1,
   "metadata": {},
   "outputs": [],
   "source": [
    "# # Install dependencies not in the base jupyter image and enable the nbextension\n",
    "\n",
    "# import sys\n",
    "\n",
    "# !conda install -q -y -c conda-forge --prefix {sys.prefix} ipyleaflet\n",
    "\n",
    "# # If you have JupyterLab, you will also need to install the JupyterLab extension:\n",
    "# # !jupyter labextension install @jupyter-widgets/jupyterlab-manager jupyter-leaflet\n",
    "\n",
    "# !jupyter nbextension enable --py --sys-prefix ipyleaflet"
   ]
  },
  {
   "cell_type": "code",
   "execution_count": 2,
   "metadata": {},
   "outputs": [],
   "source": [
    "import ipyleaflet\n",
    "from siphon.catalog import TDSCatalog\n",
    "from birdy import WPSClient\n",
    "\n",
    "# we will use these coordinates later to center the map on Canada\n",
    "canada_center_lat_lon = (52.4292, -93.2959)"
   ]
  },
  {
   "cell_type": "markdown",
   "metadata": {},
   "source": [
    "#### Pavics url configuration"
   ]
  },
  {
   "cell_type": "code",
   "execution_count": 3,
   "metadata": {},
   "outputs": [],
   "source": [
    "# Ouranos production server\n",
    "pavics_url = \"https://pavics.ouranos.ca\"\n",
    "\n",
    "# CRIM test server\n",
    "# Important note: this is a development server, uptime is not guaranteed\n",
    "# pavics_url = \"https://colibri.crim.ca\"\n",
    "\n",
    "finch_url = f'{pavics_url}/twitcher/ows/proxy/finch/wps'"
   ]
  },
  {
   "cell_type": "markdown",
   "metadata": {},
   "source": [
    "## Getting user input from a map widget"
   ]
  },
  {
   "cell_type": "markdown",
   "metadata": {},
   "source": [
    "### Notes about ipyleaflet\n",
    "\n",
    "ipyleaflet is a **\"A Jupyter / Leaflet bridge enabling interactive maps in the Jupyter notebook\"**\n",
    "\n",
    "This means that the interactions with graphical objects on the map and in python are synchronized. The documentation is at: https://ipyleaflet.readthedocs.io"
   ]
  },
  {
   "cell_type": "code",
   "execution_count": 4,
   "metadata": {},
   "outputs": [
    {
     "data": {
      "application/vnd.jupyter.widget-view+json": {
       "model_id": "7878e0edc3c9406e86d635495457f40d",
       "version_major": 2,
       "version_minor": 0
      },
      "text/plain": [
       "Map(center=[52.4292, -93.2959], controls=(ZoomControl(options=['position', 'zoom_in_text', 'zoom_in_title', 'z…"
      ]
     },
     "metadata": {},
     "output_type": "display_data"
    }
   ],
   "source": [
    "leaflet_map = ipyleaflet.Map(\n",
    "    center=canada_center_lat_lon,\n",
    "    basemap=ipyleaflet.basemaps.Stamen.Terrain,\n",
    "    zoom=4,\n",
    ")\n",
    "\n",
    "initial_marker_location = canada_center_lat_lon\n",
    "marker = ipyleaflet.Marker(location=initial_marker_location, draggable=True)\n",
    "leaflet_map.add_layer(marker)\n",
    "\n",
    "leaflet_map"
   ]
  },
  {
   "cell_type": "markdown",
   "metadata": {},
   "source": [
    "If you move the marker on the map, it will update the `marker.location` variable. Also, if you update `marker.location` manually (`marker.location = (45.44, -90.44)`) it will also move on the map."
   ]
  },
  {
   "cell_type": "code",
   "execution_count": 5,
   "metadata": {},
   "outputs": [],
   "source": [
    "marker.location = (45.55, -72.44)"
   ]
  },
  {
   "cell_type": "code",
   "execution_count": 6,
   "metadata": {},
   "outputs": [
    {
     "name": "stdout",
     "output_type": "stream",
     "text": [
      "(52.4292, -93.2959)\n",
      "[45.55, -72.44]\n"
     ]
    }
   ],
   "source": [
    "print(initial_marker_location)\n",
    "print(marker.location)"
   ]
  },
  {
   "cell_type": "markdown",
   "metadata": {},
   "source": [
    "#### Helper function to get user input"
   ]
  },
  {
   "cell_type": "code",
   "execution_count": 7,
   "metadata": {},
   "outputs": [],
   "source": [
    "import ipyleaflet\n",
    "from IPython.display import display\n",
    "import ipywidgets as widgets\n",
    "\n",
    "def get_rectangle():\n",
    "    canada_center = (52.4292, -93.2959)\n",
    "    m = ipyleaflet.Map(\n",
    "        center=canada_center,\n",
    "        basemap=ipyleaflet.basemaps.Stamen.Terrain,\n",
    "        zoom=4,\n",
    "    )\n",
    "    \n",
    "    # Create a new draw control\n",
    "    draw_control = ipyleaflet.DrawControl()\n",
    "\n",
    "    # disable some drawing inputs\n",
    "    draw_control.polyline = {}\n",
    "    draw_control.circlemarker = {}\n",
    "    draw_control.polygon = {}\n",
    "\n",
    "    draw_control.rectangle = {\n",
    "        \"shapeOptions\": {\n",
    "            \"fillColor\": \"#4ae\",\n",
    "            \"color\": \"#4ae\",\n",
    "            \"fillOpacity\": 0.3,\n",
    "        }\n",
    "    }\n",
    "\n",
    "    output = widgets.Output(layout={'border': '1px solid black'})\n",
    "    \n",
    "    rectangle = {}\n",
    "\n",
    "    # set drawing callback\n",
    "    def callback(control, action, geo_json):\n",
    "        if action == \"created\":\n",
    "            # note: we can't close the map or remove it from the output\n",
    "            # from this callback. The map keeps the focus, and the \n",
    "            # jupyter keyboard input is messed up.\n",
    "            # So we set it very thin to make it disappear :)\n",
    "            m.layout = {\"max_height\": \"0\"}\n",
    "            with output:\n",
    "                print(\"*User selected 1 rectangle*\")\n",
    "                rectangle.update(geo_json)\n",
    "\n",
    "    draw_control.on_draw(callback)    \n",
    "\n",
    "    m.add_control(draw_control)\n",
    "    \n",
    "    with output:\n",
    "        print(\"Select a rectangle:\")\n",
    "        display(m)\n",
    "        \n",
    "    display(output)\n",
    "    \n",
    "    return rectangle"
   ]
  },
  {
   "cell_type": "markdown",
   "metadata": {},
   "source": [
    "#### The user wants to select a rectangle on a map, and get a GeoJSON back"
   ]
  },
  {
   "cell_type": "code",
   "execution_count": 8,
   "metadata": {},
   "outputs": [
    {
     "data": {
      "application/vnd.jupyter.widget-view+json": {
       "model_id": "4e1f2d9a4b0744fd8012eb92e9cce5ca",
       "version_major": 2,
       "version_minor": 0
      },
      "text/plain": [
       "Output(layout=Layout(border='1px solid black'))"
      ]
     },
     "metadata": {},
     "output_type": "display_data"
    }
   ],
   "source": [
    "rectangle = get_rectangle()"
   ]
  },
  {
   "cell_type": "code",
   "execution_count": 9,
   "metadata": {},
   "outputs": [
    {
     "data": {
      "text/plain": [
       "{'type': 'Feature',\n",
       " 'properties': {'style': {'stroke': True,\n",
       "   'color': '#4ae',\n",
       "   'weight': 4,\n",
       "   'opacity': 0.5,\n",
       "   'fill': True,\n",
       "   'fillColor': '#4ae',\n",
       "   'fillOpacity': 0.3,\n",
       "   'clickable': True}},\n",
       " 'geometry': {'type': 'Polygon',\n",
       "  'coordinates': [[[-80.676838, 45.365527],\n",
       "    [-80.676838, 48.427257],\n",
       "    [-70.564023, 48.427257],\n",
       "    [-70.564023, 45.365527],\n",
       "    [-80.676838, 45.365527]]]}}"
      ]
     },
     "execution_count": 9,
     "metadata": {},
     "output_type": "execute_result"
    }
   ],
   "source": [
    "rectangle  # GeoJSON with custom style properties"
   ]
  },
  {
   "cell_type": "markdown",
   "metadata": {},
   "source": [
    "#### Get the maximum and minimum bounds"
   ]
  },
  {
   "cell_type": "code",
   "execution_count": 10,
   "metadata": {},
   "outputs": [
    {
     "data": {
      "text/html": [
       "<div>\n",
       "<style scoped>\n",
       "    .dataframe tbody tr th:only-of-type {\n",
       "        vertical-align: middle;\n",
       "    }\n",
       "\n",
       "    .dataframe tbody tr th {\n",
       "        vertical-align: top;\n",
       "    }\n",
       "\n",
       "    .dataframe thead th {\n",
       "        text-align: right;\n",
       "    }\n",
       "</style>\n",
       "<table border=\"1\" class=\"dataframe\">\n",
       "  <thead>\n",
       "    <tr style=\"text-align: right;\">\n",
       "      <th></th>\n",
       "      <th>minx</th>\n",
       "      <th>miny</th>\n",
       "      <th>maxx</th>\n",
       "      <th>maxy</th>\n",
       "    </tr>\n",
       "  </thead>\n",
       "  <tbody>\n",
       "    <tr>\n",
       "      <th>0</th>\n",
       "      <td>-80.676838</td>\n",
       "      <td>45.365527</td>\n",
       "      <td>-70.564023</td>\n",
       "      <td>48.427257</td>\n",
       "    </tr>\n",
       "  </tbody>\n",
       "</table>\n",
       "</div>"
      ],
      "text/plain": [
       "        minx       miny       maxx       maxy\n",
       "0 -80.676838  45.365527 -70.564023  48.427257"
      ]
     },
     "execution_count": 10,
     "metadata": {},
     "output_type": "execute_result"
    }
   ],
   "source": [
    "import geopandas as gpd\n",
    "\n",
    "rect = gpd.GeoDataFrame.from_features([rectangle])\n",
    "bounds = rect.bounds\n",
    "bounds"
   ]
  },
  {
   "cell_type": "markdown",
   "metadata": {},
   "source": [
    "## Calling wps processes"
   ]
  },
  {
   "cell_type": "markdown",
   "metadata": {},
   "source": [
    "For this example, we will **subset** a dataset with the user-selected bounds, and launch a **heat wave frequency** analysis on it."
   ]
  },
  {
   "cell_type": "code",
   "execution_count": 11,
   "metadata": {},
   "outputs": [],
   "source": [
    "finch = WPSClient(finch_url, progress=True)"
   ]
  },
  {
   "cell_type": "code",
   "execution_count": 12,
   "metadata": {},
   "outputs": [
    {
     "name": "stdout",
     "output_type": "stream",
     "text": [
      "Help on method subset_bbox in module birdy.client.base:\n",
      "\n",
      "subset_bbox(resource=None, lon0=0.0, lon1=360.0, lat0=-90.0, lat1=90.0, start_date=None, end_date=None, variable=None, output_formats=None) method of birdy.client.base.WPSClient instance\n",
      "    Return the data for which grid cells intersect the bounding box for each input dataset as well as the time range selected.\n",
      "    \n",
      "    Parameters\n",
      "    ----------\n",
      "    resource : ComplexData:mimetype:`application/x-netcdf`, :mimetype:`application/x-ogc-dods`\n",
      "        NetCDF files, can be OPEnDAP urls.\n",
      "    lon0 : float\n",
      "        Minimum longitude.\n",
      "    lon1 : float\n",
      "        Maximum longitude.\n",
      "    lat0 : float\n",
      "        Minimum latitude.\n",
      "    lat1 : float\n",
      "        Maximum latitude.\n",
      "    start_date : string\n",
      "        Initial date for temporal subsetting. Can be expressed as year (%Y), year-month (%Y-%m) or year-month-day(%Y-%m-%d). Defaults to first day in file.\n",
      "    end_date : string\n",
      "        Final date for temporal subsetting. Can be expressed as year (%Y), year-month (%Y-%m) or year-month-day(%Y-%m-%d). Defaults to last day in file.\n",
      "    variable : string\n",
      "        Name of the variable in the NetCDF file.\n",
      "    \n",
      "    Returns\n",
      "    -------\n",
      "    output : ComplexData:mimetype:`application/x-netcdf`\n",
      "        netCDF output\n",
      "    ref : ComplexData:mimetype:`application/metalink+xml; version=4.0`\n",
      "        Metalink file storing all references to output files.\n",
      "\n"
     ]
    }
   ],
   "source": [
    "help(finch.subset_bbox)"
   ]
  },
  {
   "cell_type": "markdown",
   "metadata": {},
   "source": [
    "### Subset tasmin and tasmax datasets"
   ]
  },
  {
   "cell_type": "code",
   "execution_count": 13,
   "metadata": {},
   "outputs": [
    {
     "data": {
      "text/plain": [
       "'https://pavics.ouranos.ca/twitcher/ows/proxy/thredds/dodsC/datasets/gridded_obs/nrcan_v2.ncml'"
      ]
     },
     "execution_count": 13,
     "metadata": {},
     "output_type": "execute_result"
    }
   ],
   "source": [
    "# gather data from pavics' data catalogue\n",
    "catalog = \"https://pavics.ouranos.ca/twitcher/ows/proxy/thredds/catalog/datasets/gridded_obs/catalog.xml\"\n",
    "\n",
    "cat = TDSCatalog(catalog)\n",
    "data = cat.datasets[0].access_urls[\"OPENDAP\"]\n",
    "data"
   ]
  },
  {
   "cell_type": "code",
   "execution_count": 14,
   "metadata": {},
   "outputs": [
    {
     "data": {
      "text/html": [
       "<div><svg style=\"position: absolute; width: 0; height: 0; overflow: hidden\">\n",
       "<defs>\n",
       "<symbol id=\"icon-database\" viewBox=\"0 0 32 32\">\n",
       "<path d=\"M16 0c-8.837 0-16 2.239-16 5v4c0 2.761 7.163 5 16 5s16-2.239 16-5v-4c0-2.761-7.163-5-16-5z\"></path>\n",
       "<path d=\"M16 17c-8.837 0-16-2.239-16-5v6c0 2.761 7.163 5 16 5s16-2.239 16-5v-6c0 2.761-7.163 5-16 5z\"></path>\n",
       "<path d=\"M16 26c-8.837 0-16-2.239-16-5v6c0 2.761 7.163 5 16 5s16-2.239 16-5v-6c0 2.761-7.163 5-16 5z\"></path>\n",
       "</symbol>\n",
       "<symbol id=\"icon-file-text2\" viewBox=\"0 0 32 32\">\n",
       "<path d=\"M28.681 7.159c-0.694-0.947-1.662-2.053-2.724-3.116s-2.169-2.030-3.116-2.724c-1.612-1.182-2.393-1.319-2.841-1.319h-15.5c-1.378 0-2.5 1.121-2.5 2.5v27c0 1.378 1.122 2.5 2.5 2.5h23c1.378 0 2.5-1.122 2.5-2.5v-19.5c0-0.448-0.137-1.23-1.319-2.841zM24.543 5.457c0.959 0.959 1.712 1.825 2.268 2.543h-4.811v-4.811c0.718 0.556 1.584 1.309 2.543 2.268zM28 29.5c0 0.271-0.229 0.5-0.5 0.5h-23c-0.271 0-0.5-0.229-0.5-0.5v-27c0-0.271 0.229-0.5 0.5-0.5 0 0 15.499-0 15.5 0v7c0 0.552 0.448 1 1 1h7v19.5z\"></path>\n",
       "<path d=\"M23 26h-14c-0.552 0-1-0.448-1-1s0.448-1 1-1h14c0.552 0 1 0.448 1 1s-0.448 1-1 1z\"></path>\n",
       "<path d=\"M23 22h-14c-0.552 0-1-0.448-1-1s0.448-1 1-1h14c0.552 0 1 0.448 1 1s-0.448 1-1 1z\"></path>\n",
       "<path d=\"M23 18h-14c-0.552 0-1-0.448-1-1s0.448-1 1-1h14c0.552 0 1 0.448 1 1s-0.448 1-1 1z\"></path>\n",
       "</symbol>\n",
       "</defs>\n",
       "</svg>\n",
       "<style>/* CSS stylesheet for displaying xarray objects in jupyterlab.\n",
       " *\n",
       " */\n",
       "\n",
       ":root {\n",
       "  --xr-font-color0: var(--jp-content-font-color0, rgba(0, 0, 0, 1));\n",
       "  --xr-font-color2: var(--jp-content-font-color2, rgba(0, 0, 0, 0.54));\n",
       "  --xr-font-color3: var(--jp-content-font-color3, rgba(0, 0, 0, 0.38));\n",
       "  --xr-border-color: var(--jp-border-color2, #e0e0e0);\n",
       "  --xr-disabled-color: var(--jp-layout-color3, #bdbdbd);\n",
       "  --xr-background-color: var(--jp-layout-color0, white);\n",
       "  --xr-background-color-row-even: var(--jp-layout-color1, white);\n",
       "  --xr-background-color-row-odd: var(--jp-layout-color2, #eeeeee);\n",
       "}\n",
       "\n",
       "html[theme=dark],\n",
       "body.vscode-dark {\n",
       "  --xr-font-color0: rgba(255, 255, 255, 1);\n",
       "  --xr-font-color2: rgba(255, 255, 255, 0.54);\n",
       "  --xr-font-color3: rgba(255, 255, 255, 0.38);\n",
       "  --xr-border-color: #1F1F1F;\n",
       "  --xr-disabled-color: #515151;\n",
       "  --xr-background-color: #111111;\n",
       "  --xr-background-color-row-even: #111111;\n",
       "  --xr-background-color-row-odd: #313131;\n",
       "}\n",
       "\n",
       ".xr-wrap {\n",
       "  display: block;\n",
       "  min-width: 300px;\n",
       "  max-width: 700px;\n",
       "}\n",
       "\n",
       ".xr-text-repr-fallback {\n",
       "  /* fallback to plain text repr when CSS is not injected (untrusted notebook) */\n",
       "  display: none;\n",
       "}\n",
       "\n",
       ".xr-header {\n",
       "  padding-top: 6px;\n",
       "  padding-bottom: 6px;\n",
       "  margin-bottom: 4px;\n",
       "  border-bottom: solid 1px var(--xr-border-color);\n",
       "}\n",
       "\n",
       ".xr-header > div,\n",
       ".xr-header > ul {\n",
       "  display: inline;\n",
       "  margin-top: 0;\n",
       "  margin-bottom: 0;\n",
       "}\n",
       "\n",
       ".xr-obj-type,\n",
       ".xr-array-name {\n",
       "  margin-left: 2px;\n",
       "  margin-right: 10px;\n",
       "}\n",
       "\n",
       ".xr-obj-type {\n",
       "  color: var(--xr-font-color2);\n",
       "}\n",
       "\n",
       ".xr-sections {\n",
       "  padding-left: 0 !important;\n",
       "  display: grid;\n",
       "  grid-template-columns: 150px auto auto 1fr 20px 20px;\n",
       "}\n",
       "\n",
       ".xr-section-item {\n",
       "  display: contents;\n",
       "}\n",
       "\n",
       ".xr-section-item input {\n",
       "  display: none;\n",
       "}\n",
       "\n",
       ".xr-section-item input + label {\n",
       "  color: var(--xr-disabled-color);\n",
       "}\n",
       "\n",
       ".xr-section-item input:enabled + label {\n",
       "  cursor: pointer;\n",
       "  color: var(--xr-font-color2);\n",
       "}\n",
       "\n",
       ".xr-section-item input:enabled + label:hover {\n",
       "  color: var(--xr-font-color0);\n",
       "}\n",
       "\n",
       ".xr-section-summary {\n",
       "  grid-column: 1;\n",
       "  color: var(--xr-font-color2);\n",
       "  font-weight: 500;\n",
       "}\n",
       "\n",
       ".xr-section-summary > span {\n",
       "  display: inline-block;\n",
       "  padding-left: 0.5em;\n",
       "}\n",
       "\n",
       ".xr-section-summary-in:disabled + label {\n",
       "  color: var(--xr-font-color2);\n",
       "}\n",
       "\n",
       ".xr-section-summary-in + label:before {\n",
       "  display: inline-block;\n",
       "  content: '►';\n",
       "  font-size: 11px;\n",
       "  width: 15px;\n",
       "  text-align: center;\n",
       "}\n",
       "\n",
       ".xr-section-summary-in:disabled + label:before {\n",
       "  color: var(--xr-disabled-color);\n",
       "}\n",
       "\n",
       ".xr-section-summary-in:checked + label:before {\n",
       "  content: '▼';\n",
       "}\n",
       "\n",
       ".xr-section-summary-in:checked + label > span {\n",
       "  display: none;\n",
       "}\n",
       "\n",
       ".xr-section-summary,\n",
       ".xr-section-inline-details {\n",
       "  padding-top: 4px;\n",
       "  padding-bottom: 4px;\n",
       "}\n",
       "\n",
       ".xr-section-inline-details {\n",
       "  grid-column: 2 / -1;\n",
       "}\n",
       "\n",
       ".xr-section-details {\n",
       "  display: none;\n",
       "  grid-column: 1 / -1;\n",
       "  margin-bottom: 5px;\n",
       "}\n",
       "\n",
       ".xr-section-summary-in:checked ~ .xr-section-details {\n",
       "  display: contents;\n",
       "}\n",
       "\n",
       ".xr-array-wrap {\n",
       "  grid-column: 1 / -1;\n",
       "  display: grid;\n",
       "  grid-template-columns: 20px auto;\n",
       "}\n",
       "\n",
       ".xr-array-wrap > label {\n",
       "  grid-column: 1;\n",
       "  vertical-align: top;\n",
       "}\n",
       "\n",
       ".xr-preview {\n",
       "  color: var(--xr-font-color3);\n",
       "}\n",
       "\n",
       ".xr-array-preview,\n",
       ".xr-array-data {\n",
       "  padding: 0 5px !important;\n",
       "  grid-column: 2;\n",
       "}\n",
       "\n",
       ".xr-array-data,\n",
       ".xr-array-in:checked ~ .xr-array-preview {\n",
       "  display: none;\n",
       "}\n",
       "\n",
       ".xr-array-in:checked ~ .xr-array-data,\n",
       ".xr-array-preview {\n",
       "  display: inline-block;\n",
       "}\n",
       "\n",
       ".xr-dim-list {\n",
       "  display: inline-block !important;\n",
       "  list-style: none;\n",
       "  padding: 0 !important;\n",
       "  margin: 0;\n",
       "}\n",
       "\n",
       ".xr-dim-list li {\n",
       "  display: inline-block;\n",
       "  padding: 0;\n",
       "  margin: 0;\n",
       "}\n",
       "\n",
       ".xr-dim-list:before {\n",
       "  content: '(';\n",
       "}\n",
       "\n",
       ".xr-dim-list:after {\n",
       "  content: ')';\n",
       "}\n",
       "\n",
       ".xr-dim-list li:not(:last-child):after {\n",
       "  content: ',';\n",
       "  padding-right: 5px;\n",
       "}\n",
       "\n",
       ".xr-has-index {\n",
       "  font-weight: bold;\n",
       "}\n",
       "\n",
       ".xr-var-list,\n",
       ".xr-var-item {\n",
       "  display: contents;\n",
       "}\n",
       "\n",
       ".xr-var-item > div,\n",
       ".xr-var-item label,\n",
       ".xr-var-item > .xr-var-name span {\n",
       "  background-color: var(--xr-background-color-row-even);\n",
       "  margin-bottom: 0;\n",
       "}\n",
       "\n",
       ".xr-var-item > .xr-var-name:hover span {\n",
       "  padding-right: 5px;\n",
       "}\n",
       "\n",
       ".xr-var-list > li:nth-child(odd) > div,\n",
       ".xr-var-list > li:nth-child(odd) > label,\n",
       ".xr-var-list > li:nth-child(odd) > .xr-var-name span {\n",
       "  background-color: var(--xr-background-color-row-odd);\n",
       "}\n",
       "\n",
       ".xr-var-name {\n",
       "  grid-column: 1;\n",
       "}\n",
       "\n",
       ".xr-var-dims {\n",
       "  grid-column: 2;\n",
       "}\n",
       "\n",
       ".xr-var-dtype {\n",
       "  grid-column: 3;\n",
       "  text-align: right;\n",
       "  color: var(--xr-font-color2);\n",
       "}\n",
       "\n",
       ".xr-var-preview {\n",
       "  grid-column: 4;\n",
       "}\n",
       "\n",
       ".xr-var-name,\n",
       ".xr-var-dims,\n",
       ".xr-var-dtype,\n",
       ".xr-preview,\n",
       ".xr-attrs dt {\n",
       "  white-space: nowrap;\n",
       "  overflow: hidden;\n",
       "  text-overflow: ellipsis;\n",
       "  padding-right: 10px;\n",
       "}\n",
       "\n",
       ".xr-var-name:hover,\n",
       ".xr-var-dims:hover,\n",
       ".xr-var-dtype:hover,\n",
       ".xr-attrs dt:hover {\n",
       "  overflow: visible;\n",
       "  width: auto;\n",
       "  z-index: 1;\n",
       "}\n",
       "\n",
       ".xr-var-attrs,\n",
       ".xr-var-data {\n",
       "  display: none;\n",
       "  background-color: var(--xr-background-color) !important;\n",
       "  padding-bottom: 5px !important;\n",
       "}\n",
       "\n",
       ".xr-var-attrs-in:checked ~ .xr-var-attrs,\n",
       ".xr-var-data-in:checked ~ .xr-var-data {\n",
       "  display: block;\n",
       "}\n",
       "\n",
       ".xr-var-data > table {\n",
       "  float: right;\n",
       "}\n",
       "\n",
       ".xr-var-name span,\n",
       ".xr-var-data,\n",
       ".xr-attrs {\n",
       "  padding-left: 25px !important;\n",
       "}\n",
       "\n",
       ".xr-attrs,\n",
       ".xr-var-attrs,\n",
       ".xr-var-data {\n",
       "  grid-column: 1 / -1;\n",
       "}\n",
       "\n",
       "dl.xr-attrs {\n",
       "  padding: 0;\n",
       "  margin: 0;\n",
       "  display: grid;\n",
       "  grid-template-columns: 125px auto;\n",
       "}\n",
       "\n",
       ".xr-attrs dt,\n",
       ".xr-attrs dd {\n",
       "  padding: 0;\n",
       "  margin: 0;\n",
       "  float: left;\n",
       "  padding-right: 10px;\n",
       "  width: auto;\n",
       "}\n",
       "\n",
       ".xr-attrs dt {\n",
       "  font-weight: normal;\n",
       "  grid-column: 1;\n",
       "}\n",
       "\n",
       ".xr-attrs dt:hover span {\n",
       "  display: inline-block;\n",
       "  background: var(--xr-background-color);\n",
       "  padding-right: 10px;\n",
       "}\n",
       "\n",
       ".xr-attrs dd {\n",
       "  grid-column: 2;\n",
       "  white-space: pre-wrap;\n",
       "  word-break: break-all;\n",
       "}\n",
       "\n",
       ".xr-icon-database,\n",
       ".xr-icon-file-text2 {\n",
       "  display: inline-block;\n",
       "  vertical-align: middle;\n",
       "  width: 1em;\n",
       "  height: 1.5em !important;\n",
       "  stroke-width: 0;\n",
       "  stroke: currentColor;\n",
       "  fill: currentColor;\n",
       "}\n",
       "</style><pre class='xr-text-repr-fallback'>&lt;xarray.Dataset&gt;\n",
       "Dimensions:  (lat: 510, lon: 1068, time: 24837)\n",
       "Coordinates:\n",
       "  * lat      (lat) float32 83.46 83.38 83.29 83.21 ... 41.29 41.21 41.12 41.04\n",
       "  * lon      (lon) float32 -141.0 -140.9 -140.8 -140.7 ... -52.21 -52.13 -52.04\n",
       "  * time     (time) datetime64[ns] 1950-01-01 1950-01-02 ... 2017-12-31\n",
       "Data variables:\n",
       "    tasmin   (time, lat, lon) float32 dask.array&lt;chunksize=(7390, 51, 89), meta=np.ndarray&gt;\n",
       "    tasmax   (time, lat, lon) float32 dask.array&lt;chunksize=(7390, 51, 89), meta=np.ndarray&gt;\n",
       "    pr       (time, lat, lon) float32 dask.array&lt;chunksize=(7390, 51, 89), meta=np.ndarray&gt;\n",
       "Attributes: (12/15)\n",
       "    Conventions:          CF-1.5\n",
       "    title:                NRCAN ANUSPLIN daily gridded dataset : version 2\n",
       "    history:              Fri Jan 25 14:11:15 2019 : Convert from original fo...\n",
       "    institute_id:         NRCAN\n",
       "    frequency:            day\n",
       "    abstract:             Gridded daily observational dataset produced by Nat...\n",
       "    ...                   ...\n",
       "    dataset_id:           NRCAN_anusplin_daily_v2\n",
       "    version:              2.0\n",
       "    license_type:         permissive\n",
       "    license:              https://open.canada.ca/en/open-government-licence-c...\n",
       "    attribution:          The authors provide this data under the Environment...\n",
       "    citation:             Natural Resources Canada ANUSPLIN interpolated hist...</pre><div class='xr-wrap' hidden><div class='xr-header'><div class='xr-obj-type'>xarray.Dataset</div></div><ul class='xr-sections'><li class='xr-section-item'><input id='section-4375fb7a-b037-427f-808f-781a56500bb3' class='xr-section-summary-in' type='checkbox' disabled ><label for='section-4375fb7a-b037-427f-808f-781a56500bb3' class='xr-section-summary'  title='Expand/collapse section'>Dimensions:</label><div class='xr-section-inline-details'><ul class='xr-dim-list'><li><span class='xr-has-index'>lat</span>: 510</li><li><span class='xr-has-index'>lon</span>: 1068</li><li><span class='xr-has-index'>time</span>: 24837</li></ul></div><div class='xr-section-details'></div></li><li class='xr-section-item'><input id='section-3c45347f-2094-45aa-b8f9-142538676148' class='xr-section-summary-in' type='checkbox'  checked><label for='section-3c45347f-2094-45aa-b8f9-142538676148' class='xr-section-summary' >Coordinates: <span>(3)</span></label><div class='xr-section-inline-details'></div><div class='xr-section-details'><ul class='xr-var-list'><li class='xr-var-item'><div class='xr-var-name'><span class='xr-has-index'>lat</span></div><div class='xr-var-dims'>(lat)</div><div class='xr-var-dtype'>float32</div><div class='xr-var-preview xr-preview'>83.46 83.38 83.29 ... 41.12 41.04</div><input id='attrs-cbb6366e-0df4-4263-a085-5d8c1f775022' class='xr-var-attrs-in' type='checkbox' ><label for='attrs-cbb6366e-0df4-4263-a085-5d8c1f775022' title='Show/Hide attributes'><svg class='icon xr-icon-file-text2'><use xlink:href='#icon-file-text2'></use></svg></label><input id='data-0432e7d5-9abf-4cbc-9399-090909c7a860' class='xr-var-data-in' type='checkbox'><label for='data-0432e7d5-9abf-4cbc-9399-090909c7a860' title='Show/Hide data repr'><svg class='icon xr-icon-database'><use xlink:href='#icon-database'></use></svg></label><div class='xr-var-attrs'><dl class='xr-attrs'><dt><span>axis :</span></dt><dd>Y</dd><dt><span>units :</span></dt><dd>degrees_north</dd><dt><span>long_name :</span></dt><dd>latitude</dd><dt><span>standard_name :</span></dt><dd>latitude</dd><dt><span>_ChunkSizes :</span></dt><dd>510</dd></dl></div><div class='xr-var-data'><pre>array([83.45833 , 83.375   , 83.291664, ..., 41.208332, 41.125   , 41.041668],\n",
       "      dtype=float32)</pre></div></li><li class='xr-var-item'><div class='xr-var-name'><span class='xr-has-index'>lon</span></div><div class='xr-var-dims'>(lon)</div><div class='xr-var-dtype'>float32</div><div class='xr-var-preview xr-preview'>-141.0 -140.9 ... -52.13 -52.04</div><input id='attrs-7bec26fa-1b16-4aa1-a6f1-6fdd42cd6599' class='xr-var-attrs-in' type='checkbox' ><label for='attrs-7bec26fa-1b16-4aa1-a6f1-6fdd42cd6599' title='Show/Hide attributes'><svg class='icon xr-icon-file-text2'><use xlink:href='#icon-file-text2'></use></svg></label><input id='data-8850c4ea-6a2b-4890-9151-f5031d123931' class='xr-var-data-in' type='checkbox'><label for='data-8850c4ea-6a2b-4890-9151-f5031d123931' title='Show/Hide data repr'><svg class='icon xr-icon-database'><use xlink:href='#icon-database'></use></svg></label><div class='xr-var-attrs'><dl class='xr-attrs'><dt><span>axis :</span></dt><dd>X</dd><dt><span>units :</span></dt><dd>degrees_east</dd><dt><span>long_name :</span></dt><dd>longitude</dd><dt><span>standard_name :</span></dt><dd>longitude</dd><dt><span>_ChunkSizes :</span></dt><dd>1068</dd></dl></div><div class='xr-var-data'><pre>array([-140.95833 , -140.875   , -140.79167 , ...,  -52.208336,  -52.125004,\n",
       "        -52.04167 ], dtype=float32)</pre></div></li><li class='xr-var-item'><div class='xr-var-name'><span class='xr-has-index'>time</span></div><div class='xr-var-dims'>(time)</div><div class='xr-var-dtype'>datetime64[ns]</div><div class='xr-var-preview xr-preview'>1950-01-01 ... 2017-12-31</div><input id='attrs-7749dc0e-406a-401e-83b8-1890376de3fa' class='xr-var-attrs-in' type='checkbox' ><label for='attrs-7749dc0e-406a-401e-83b8-1890376de3fa' title='Show/Hide attributes'><svg class='icon xr-icon-file-text2'><use xlink:href='#icon-file-text2'></use></svg></label><input id='data-bf98f5ec-7fb2-425b-89f4-0c00404222f1' class='xr-var-data-in' type='checkbox'><label for='data-bf98f5ec-7fb2-425b-89f4-0c00404222f1' title='Show/Hide data repr'><svg class='icon xr-icon-database'><use xlink:href='#icon-database'></use></svg></label><div class='xr-var-attrs'><dl class='xr-attrs'><dt><span>axis :</span></dt><dd>T</dd><dt><span>long_name :</span></dt><dd>time</dd><dt><span>standard_name :</span></dt><dd>time</dd><dt><span>_ChunkSizes :</span></dt><dd>512</dd></dl></div><div class='xr-var-data'><pre>array([&#x27;1950-01-01T00:00:00.000000000&#x27;, &#x27;1950-01-02T00:00:00.000000000&#x27;,\n",
       "       &#x27;1950-01-03T00:00:00.000000000&#x27;, ..., &#x27;2017-12-29T00:00:00.000000000&#x27;,\n",
       "       &#x27;2017-12-30T00:00:00.000000000&#x27;, &#x27;2017-12-31T00:00:00.000000000&#x27;],\n",
       "      dtype=&#x27;datetime64[ns]&#x27;)</pre></div></li></ul></div></li><li class='xr-section-item'><input id='section-ed05b3f5-7df4-4a09-bec4-bc2706b9ce3d' class='xr-section-summary-in' type='checkbox'  checked><label for='section-ed05b3f5-7df4-4a09-bec4-bc2706b9ce3d' class='xr-section-summary' >Data variables: <span>(3)</span></label><div class='xr-section-inline-details'></div><div class='xr-section-details'><ul class='xr-var-list'><li class='xr-var-item'><div class='xr-var-name'><span>tasmin</span></div><div class='xr-var-dims'>(time, lat, lon)</div><div class='xr-var-dtype'>float32</div><div class='xr-var-preview xr-preview'>dask.array&lt;chunksize=(7390, 51, 89), meta=np.ndarray&gt;</div><input id='attrs-b986b2bd-300c-48e1-9d90-2b9079bd83a8' class='xr-var-attrs-in' type='checkbox' ><label for='attrs-b986b2bd-300c-48e1-9d90-2b9079bd83a8' title='Show/Hide attributes'><svg class='icon xr-icon-file-text2'><use xlink:href='#icon-file-text2'></use></svg></label><input id='data-63c02541-172d-42e0-9c2f-b212888f1ba4' class='xr-var-data-in' type='checkbox'><label for='data-63c02541-172d-42e0-9c2f-b212888f1ba4' title='Show/Hide data repr'><svg class='icon xr-icon-database'><use xlink:href='#icon-database'></use></svg></label><div class='xr-var-attrs'><dl class='xr-attrs'><dt><span>units :</span></dt><dd>K</dd><dt><span>long_name :</span></dt><dd>air_temperature</dd><dt><span>standard_name :</span></dt><dd>air_temperature</dd><dt><span>_ChunkSizes :</span></dt><dd>[   1  510 1068]</dd></dl></div><div class='xr-var-data'><table>\n",
       "<tr>\n",
       "<td>\n",
       "<table>\n",
       "  <thead>\n",
       "    <tr><td> </td><th> Array </th><th> Chunk </th></tr>\n",
       "  </thead>\n",
       "  <tbody>\n",
       "    <tr><th> Bytes </th><td> 50.40 GiB </td> <td> 127.96 MiB </td></tr>\n",
       "    <tr><th> Shape </th><td> (24837, 510, 1068) </td> <td> (7390, 51, 89) </td></tr>\n",
       "    <tr><th> Count </th><td> 481 Tasks </td><td> 480 Chunks </td></tr>\n",
       "    <tr><th> Type </th><td> float32 </td><td> numpy.ndarray </td></tr>\n",
       "  </tbody>\n",
       "</table>\n",
       "</td>\n",
       "<td>\n",
       "<svg width=\"164\" height=\"149\" style=\"stroke:rgb(0,0,0);stroke-width:1\" >\n",
       "\n",
       "  <!-- Horizontal lines -->\n",
       "  <line x1=\"10\" y1=\"0\" x2=\"80\" y2=\"70\" style=\"stroke-width:2\" />\n",
       "  <line x1=\"10\" y1=\"2\" x2=\"80\" y2=\"73\" />\n",
       "  <line x1=\"10\" y1=\"5\" x2=\"80\" y2=\"76\" />\n",
       "  <line x1=\"10\" y1=\"8\" x2=\"80\" y2=\"79\" />\n",
       "  <line x1=\"10\" y1=\"11\" x2=\"80\" y2=\"82\" />\n",
       "  <line x1=\"10\" y1=\"14\" x2=\"80\" y2=\"85\" />\n",
       "  <line x1=\"10\" y1=\"17\" x2=\"80\" y2=\"88\" />\n",
       "  <line x1=\"10\" y1=\"20\" x2=\"80\" y2=\"91\" />\n",
       "  <line x1=\"10\" y1=\"23\" x2=\"80\" y2=\"93\" />\n",
       "  <line x1=\"10\" y1=\"26\" x2=\"80\" y2=\"96\" />\n",
       "  <line x1=\"10\" y1=\"29\" x2=\"80\" y2=\"99\" style=\"stroke-width:2\" />\n",
       "\n",
       "  <!-- Vertical lines -->\n",
       "  <line x1=\"10\" y1=\"0\" x2=\"10\" y2=\"29\" style=\"stroke-width:2\" />\n",
       "  <line x1=\"31\" y1=\"21\" x2=\"31\" y2=\"50\" />\n",
       "  <line x1=\"52\" y1=\"42\" x2=\"52\" y2=\"71\" />\n",
       "  <line x1=\"73\" y1=\"63\" x2=\"73\" y2=\"92\" />\n",
       "  <line x1=\"80\" y1=\"70\" x2=\"80\" y2=\"99\" style=\"stroke-width:2\" />\n",
       "\n",
       "  <!-- Colored Rectangle -->\n",
       "  <polygon points=\"10.0,0.0 80.58823529411765,70.58823529411765 80.58823529411765,99.76748240752141 10.0,29.179247113403765\" style=\"fill:#ECB172A0;stroke-width:0\"/>\n",
       "\n",
       "  <!-- Horizontal lines -->\n",
       "  <line x1=\"10\" y1=\"0\" x2=\"43\" y2=\"0\" style=\"stroke-width:2\" />\n",
       "  <line x1=\"31\" y1=\"21\" x2=\"64\" y2=\"21\" />\n",
       "  <line x1=\"52\" y1=\"42\" x2=\"85\" y2=\"42\" />\n",
       "  <line x1=\"73\" y1=\"63\" x2=\"106\" y2=\"63\" />\n",
       "  <line x1=\"80\" y1=\"70\" x2=\"114\" y2=\"70\" style=\"stroke-width:2\" />\n",
       "\n",
       "  <!-- Vertical lines -->\n",
       "  <line x1=\"10\" y1=\"0\" x2=\"80\" y2=\"70\" style=\"stroke-width:2\" />\n",
       "  <line x1=\"12\" y1=\"0\" x2=\"83\" y2=\"70\" />\n",
       "  <line x1=\"15\" y1=\"0\" x2=\"86\" y2=\"70\" />\n",
       "  <line x1=\"18\" y1=\"0\" x2=\"88\" y2=\"70\" />\n",
       "  <line x1=\"21\" y1=\"0\" x2=\"91\" y2=\"70\" />\n",
       "  <line x1=\"23\" y1=\"0\" x2=\"94\" y2=\"70\" />\n",
       "  <line x1=\"26\" y1=\"0\" x2=\"97\" y2=\"70\" />\n",
       "  <line x1=\"29\" y1=\"0\" x2=\"100\" y2=\"70\" />\n",
       "  <line x1=\"32\" y1=\"0\" x2=\"102\" y2=\"70\" />\n",
       "  <line x1=\"35\" y1=\"0\" x2=\"105\" y2=\"70\" />\n",
       "  <line x1=\"37\" y1=\"0\" x2=\"108\" y2=\"70\" />\n",
       "  <line x1=\"40\" y1=\"0\" x2=\"111\" y2=\"70\" />\n",
       "  <line x1=\"43\" y1=\"0\" x2=\"114\" y2=\"70\" style=\"stroke-width:2\" />\n",
       "\n",
       "  <!-- Colored Rectangle -->\n",
       "  <polygon points=\"10.0,0.0 43.57670173063948,0.0 114.16493702475714,70.58823529411765 80.58823529411765,70.58823529411765\" style=\"fill:#ECB172A0;stroke-width:0\"/>\n",
       "\n",
       "  <!-- Horizontal lines -->\n",
       "  <line x1=\"80\" y1=\"70\" x2=\"114\" y2=\"70\" style=\"stroke-width:2\" />\n",
       "  <line x1=\"80\" y1=\"73\" x2=\"114\" y2=\"73\" />\n",
       "  <line x1=\"80\" y1=\"76\" x2=\"114\" y2=\"76\" />\n",
       "  <line x1=\"80\" y1=\"79\" x2=\"114\" y2=\"79\" />\n",
       "  <line x1=\"80\" y1=\"82\" x2=\"114\" y2=\"82\" />\n",
       "  <line x1=\"80\" y1=\"85\" x2=\"114\" y2=\"85\" />\n",
       "  <line x1=\"80\" y1=\"88\" x2=\"114\" y2=\"88\" />\n",
       "  <line x1=\"80\" y1=\"91\" x2=\"114\" y2=\"91\" />\n",
       "  <line x1=\"80\" y1=\"93\" x2=\"114\" y2=\"93\" />\n",
       "  <line x1=\"80\" y1=\"96\" x2=\"114\" y2=\"96\" />\n",
       "  <line x1=\"80\" y1=\"99\" x2=\"114\" y2=\"99\" style=\"stroke-width:2\" />\n",
       "\n",
       "  <!-- Vertical lines -->\n",
       "  <line x1=\"80\" y1=\"70\" x2=\"80\" y2=\"99\" style=\"stroke-width:2\" />\n",
       "  <line x1=\"83\" y1=\"70\" x2=\"83\" y2=\"99\" />\n",
       "  <line x1=\"86\" y1=\"70\" x2=\"86\" y2=\"99\" />\n",
       "  <line x1=\"88\" y1=\"70\" x2=\"88\" y2=\"99\" />\n",
       "  <line x1=\"91\" y1=\"70\" x2=\"91\" y2=\"99\" />\n",
       "  <line x1=\"94\" y1=\"70\" x2=\"94\" y2=\"99\" />\n",
       "  <line x1=\"97\" y1=\"70\" x2=\"97\" y2=\"99\" />\n",
       "  <line x1=\"100\" y1=\"70\" x2=\"100\" y2=\"99\" />\n",
       "  <line x1=\"102\" y1=\"70\" x2=\"102\" y2=\"99\" />\n",
       "  <line x1=\"105\" y1=\"70\" x2=\"105\" y2=\"99\" />\n",
       "  <line x1=\"108\" y1=\"70\" x2=\"108\" y2=\"99\" />\n",
       "  <line x1=\"111\" y1=\"70\" x2=\"111\" y2=\"99\" />\n",
       "  <line x1=\"114\" y1=\"70\" x2=\"114\" y2=\"99\" style=\"stroke-width:2\" />\n",
       "\n",
       "  <!-- Colored Rectangle -->\n",
       "  <polygon points=\"80.58823529411765,70.58823529411765 114.16493702475714,70.58823529411765 114.16493702475714,99.76748240752141 80.58823529411765,99.76748240752141\" style=\"fill:#ECB172A0;stroke-width:0\"/>\n",
       "\n",
       "  <!-- Text -->\n",
       "  <text x=\"97.376586\" y=\"119.767482\" font-size=\"1.0rem\" font-weight=\"100\" text-anchor=\"middle\" >1068</text>\n",
       "  <text x=\"134.164937\" y=\"85.177859\" font-size=\"1.0rem\" font-weight=\"100\" text-anchor=\"middle\" transform=\"rotate(-90,134.164937,85.177859)\">510</text>\n",
       "  <text x=\"35.294118\" y=\"84.473365\" font-size=\"1.0rem\" font-weight=\"100\" text-anchor=\"middle\" transform=\"rotate(45,35.294118,84.473365)\">24837</text>\n",
       "</svg>\n",
       "</td>\n",
       "</tr>\n",
       "</table></div></li><li class='xr-var-item'><div class='xr-var-name'><span>tasmax</span></div><div class='xr-var-dims'>(time, lat, lon)</div><div class='xr-var-dtype'>float32</div><div class='xr-var-preview xr-preview'>dask.array&lt;chunksize=(7390, 51, 89), meta=np.ndarray&gt;</div><input id='attrs-df4844b3-453c-4dc9-99ea-d510ea62848b' class='xr-var-attrs-in' type='checkbox' ><label for='attrs-df4844b3-453c-4dc9-99ea-d510ea62848b' title='Show/Hide attributes'><svg class='icon xr-icon-file-text2'><use xlink:href='#icon-file-text2'></use></svg></label><input id='data-01f4fa18-2d71-4e34-a82e-e6a6ef13875a' class='xr-var-data-in' type='checkbox'><label for='data-01f4fa18-2d71-4e34-a82e-e6a6ef13875a' title='Show/Hide data repr'><svg class='icon xr-icon-database'><use xlink:href='#icon-database'></use></svg></label><div class='xr-var-attrs'><dl class='xr-attrs'><dt><span>units :</span></dt><dd>K</dd><dt><span>long_name :</span></dt><dd>air_temperature</dd><dt><span>standard_name :</span></dt><dd>air_temperature</dd><dt><span>_ChunkSizes :</span></dt><dd>[   1  510 1068]</dd></dl></div><div class='xr-var-data'><table>\n",
       "<tr>\n",
       "<td>\n",
       "<table>\n",
       "  <thead>\n",
       "    <tr><td> </td><th> Array </th><th> Chunk </th></tr>\n",
       "  </thead>\n",
       "  <tbody>\n",
       "    <tr><th> Bytes </th><td> 50.40 GiB </td> <td> 127.96 MiB </td></tr>\n",
       "    <tr><th> Shape </th><td> (24837, 510, 1068) </td> <td> (7390, 51, 89) </td></tr>\n",
       "    <tr><th> Count </th><td> 481 Tasks </td><td> 480 Chunks </td></tr>\n",
       "    <tr><th> Type </th><td> float32 </td><td> numpy.ndarray </td></tr>\n",
       "  </tbody>\n",
       "</table>\n",
       "</td>\n",
       "<td>\n",
       "<svg width=\"164\" height=\"149\" style=\"stroke:rgb(0,0,0);stroke-width:1\" >\n",
       "\n",
       "  <!-- Horizontal lines -->\n",
       "  <line x1=\"10\" y1=\"0\" x2=\"80\" y2=\"70\" style=\"stroke-width:2\" />\n",
       "  <line x1=\"10\" y1=\"2\" x2=\"80\" y2=\"73\" />\n",
       "  <line x1=\"10\" y1=\"5\" x2=\"80\" y2=\"76\" />\n",
       "  <line x1=\"10\" y1=\"8\" x2=\"80\" y2=\"79\" />\n",
       "  <line x1=\"10\" y1=\"11\" x2=\"80\" y2=\"82\" />\n",
       "  <line x1=\"10\" y1=\"14\" x2=\"80\" y2=\"85\" />\n",
       "  <line x1=\"10\" y1=\"17\" x2=\"80\" y2=\"88\" />\n",
       "  <line x1=\"10\" y1=\"20\" x2=\"80\" y2=\"91\" />\n",
       "  <line x1=\"10\" y1=\"23\" x2=\"80\" y2=\"93\" />\n",
       "  <line x1=\"10\" y1=\"26\" x2=\"80\" y2=\"96\" />\n",
       "  <line x1=\"10\" y1=\"29\" x2=\"80\" y2=\"99\" style=\"stroke-width:2\" />\n",
       "\n",
       "  <!-- Vertical lines -->\n",
       "  <line x1=\"10\" y1=\"0\" x2=\"10\" y2=\"29\" style=\"stroke-width:2\" />\n",
       "  <line x1=\"31\" y1=\"21\" x2=\"31\" y2=\"50\" />\n",
       "  <line x1=\"52\" y1=\"42\" x2=\"52\" y2=\"71\" />\n",
       "  <line x1=\"73\" y1=\"63\" x2=\"73\" y2=\"92\" />\n",
       "  <line x1=\"80\" y1=\"70\" x2=\"80\" y2=\"99\" style=\"stroke-width:2\" />\n",
       "\n",
       "  <!-- Colored Rectangle -->\n",
       "  <polygon points=\"10.0,0.0 80.58823529411765,70.58823529411765 80.58823529411765,99.76748240752141 10.0,29.179247113403765\" style=\"fill:#ECB172A0;stroke-width:0\"/>\n",
       "\n",
       "  <!-- Horizontal lines -->\n",
       "  <line x1=\"10\" y1=\"0\" x2=\"43\" y2=\"0\" style=\"stroke-width:2\" />\n",
       "  <line x1=\"31\" y1=\"21\" x2=\"64\" y2=\"21\" />\n",
       "  <line x1=\"52\" y1=\"42\" x2=\"85\" y2=\"42\" />\n",
       "  <line x1=\"73\" y1=\"63\" x2=\"106\" y2=\"63\" />\n",
       "  <line x1=\"80\" y1=\"70\" x2=\"114\" y2=\"70\" style=\"stroke-width:2\" />\n",
       "\n",
       "  <!-- Vertical lines -->\n",
       "  <line x1=\"10\" y1=\"0\" x2=\"80\" y2=\"70\" style=\"stroke-width:2\" />\n",
       "  <line x1=\"12\" y1=\"0\" x2=\"83\" y2=\"70\" />\n",
       "  <line x1=\"15\" y1=\"0\" x2=\"86\" y2=\"70\" />\n",
       "  <line x1=\"18\" y1=\"0\" x2=\"88\" y2=\"70\" />\n",
       "  <line x1=\"21\" y1=\"0\" x2=\"91\" y2=\"70\" />\n",
       "  <line x1=\"23\" y1=\"0\" x2=\"94\" y2=\"70\" />\n",
       "  <line x1=\"26\" y1=\"0\" x2=\"97\" y2=\"70\" />\n",
       "  <line x1=\"29\" y1=\"0\" x2=\"100\" y2=\"70\" />\n",
       "  <line x1=\"32\" y1=\"0\" x2=\"102\" y2=\"70\" />\n",
       "  <line x1=\"35\" y1=\"0\" x2=\"105\" y2=\"70\" />\n",
       "  <line x1=\"37\" y1=\"0\" x2=\"108\" y2=\"70\" />\n",
       "  <line x1=\"40\" y1=\"0\" x2=\"111\" y2=\"70\" />\n",
       "  <line x1=\"43\" y1=\"0\" x2=\"114\" y2=\"70\" style=\"stroke-width:2\" />\n",
       "\n",
       "  <!-- Colored Rectangle -->\n",
       "  <polygon points=\"10.0,0.0 43.57670173063948,0.0 114.16493702475714,70.58823529411765 80.58823529411765,70.58823529411765\" style=\"fill:#ECB172A0;stroke-width:0\"/>\n",
       "\n",
       "  <!-- Horizontal lines -->\n",
       "  <line x1=\"80\" y1=\"70\" x2=\"114\" y2=\"70\" style=\"stroke-width:2\" />\n",
       "  <line x1=\"80\" y1=\"73\" x2=\"114\" y2=\"73\" />\n",
       "  <line x1=\"80\" y1=\"76\" x2=\"114\" y2=\"76\" />\n",
       "  <line x1=\"80\" y1=\"79\" x2=\"114\" y2=\"79\" />\n",
       "  <line x1=\"80\" y1=\"82\" x2=\"114\" y2=\"82\" />\n",
       "  <line x1=\"80\" y1=\"85\" x2=\"114\" y2=\"85\" />\n",
       "  <line x1=\"80\" y1=\"88\" x2=\"114\" y2=\"88\" />\n",
       "  <line x1=\"80\" y1=\"91\" x2=\"114\" y2=\"91\" />\n",
       "  <line x1=\"80\" y1=\"93\" x2=\"114\" y2=\"93\" />\n",
       "  <line x1=\"80\" y1=\"96\" x2=\"114\" y2=\"96\" />\n",
       "  <line x1=\"80\" y1=\"99\" x2=\"114\" y2=\"99\" style=\"stroke-width:2\" />\n",
       "\n",
       "  <!-- Vertical lines -->\n",
       "  <line x1=\"80\" y1=\"70\" x2=\"80\" y2=\"99\" style=\"stroke-width:2\" />\n",
       "  <line x1=\"83\" y1=\"70\" x2=\"83\" y2=\"99\" />\n",
       "  <line x1=\"86\" y1=\"70\" x2=\"86\" y2=\"99\" />\n",
       "  <line x1=\"88\" y1=\"70\" x2=\"88\" y2=\"99\" />\n",
       "  <line x1=\"91\" y1=\"70\" x2=\"91\" y2=\"99\" />\n",
       "  <line x1=\"94\" y1=\"70\" x2=\"94\" y2=\"99\" />\n",
       "  <line x1=\"97\" y1=\"70\" x2=\"97\" y2=\"99\" />\n",
       "  <line x1=\"100\" y1=\"70\" x2=\"100\" y2=\"99\" />\n",
       "  <line x1=\"102\" y1=\"70\" x2=\"102\" y2=\"99\" />\n",
       "  <line x1=\"105\" y1=\"70\" x2=\"105\" y2=\"99\" />\n",
       "  <line x1=\"108\" y1=\"70\" x2=\"108\" y2=\"99\" />\n",
       "  <line x1=\"111\" y1=\"70\" x2=\"111\" y2=\"99\" />\n",
       "  <line x1=\"114\" y1=\"70\" x2=\"114\" y2=\"99\" style=\"stroke-width:2\" />\n",
       "\n",
       "  <!-- Colored Rectangle -->\n",
       "  <polygon points=\"80.58823529411765,70.58823529411765 114.16493702475714,70.58823529411765 114.16493702475714,99.76748240752141 80.58823529411765,99.76748240752141\" style=\"fill:#ECB172A0;stroke-width:0\"/>\n",
       "\n",
       "  <!-- Text -->\n",
       "  <text x=\"97.376586\" y=\"119.767482\" font-size=\"1.0rem\" font-weight=\"100\" text-anchor=\"middle\" >1068</text>\n",
       "  <text x=\"134.164937\" y=\"85.177859\" font-size=\"1.0rem\" font-weight=\"100\" text-anchor=\"middle\" transform=\"rotate(-90,134.164937,85.177859)\">510</text>\n",
       "  <text x=\"35.294118\" y=\"84.473365\" font-size=\"1.0rem\" font-weight=\"100\" text-anchor=\"middle\" transform=\"rotate(45,35.294118,84.473365)\">24837</text>\n",
       "</svg>\n",
       "</td>\n",
       "</tr>\n",
       "</table></div></li><li class='xr-var-item'><div class='xr-var-name'><span>pr</span></div><div class='xr-var-dims'>(time, lat, lon)</div><div class='xr-var-dtype'>float32</div><div class='xr-var-preview xr-preview'>dask.array&lt;chunksize=(7390, 51, 89), meta=np.ndarray&gt;</div><input id='attrs-b03e7dbe-49f8-48eb-b0dd-9c85c85f8c14' class='xr-var-attrs-in' type='checkbox' ><label for='attrs-b03e7dbe-49f8-48eb-b0dd-9c85c85f8c14' title='Show/Hide attributes'><svg class='icon xr-icon-file-text2'><use xlink:href='#icon-file-text2'></use></svg></label><input id='data-fae69796-b2ba-4aa3-9d6d-93817332c995' class='xr-var-data-in' type='checkbox'><label for='data-fae69796-b2ba-4aa3-9d6d-93817332c995' title='Show/Hide data repr'><svg class='icon xr-icon-database'><use xlink:href='#icon-database'></use></svg></label><div class='xr-var-attrs'><dl class='xr-attrs'><dt><span>units :</span></dt><dd>mm s-1</dd><dt><span>long_name :</span></dt><dd>lwe_precipitation_rate</dd><dt><span>standard_name :</span></dt><dd>lwe_precipitation_rate</dd><dt><span>_ChunkSizes :</span></dt><dd>[   1  510 1068]</dd></dl></div><div class='xr-var-data'><table>\n",
       "<tr>\n",
       "<td>\n",
       "<table>\n",
       "  <thead>\n",
       "    <tr><td> </td><th> Array </th><th> Chunk </th></tr>\n",
       "  </thead>\n",
       "  <tbody>\n",
       "    <tr><th> Bytes </th><td> 50.40 GiB </td> <td> 127.96 MiB </td></tr>\n",
       "    <tr><th> Shape </th><td> (24837, 510, 1068) </td> <td> (7390, 51, 89) </td></tr>\n",
       "    <tr><th> Count </th><td> 481 Tasks </td><td> 480 Chunks </td></tr>\n",
       "    <tr><th> Type </th><td> float32 </td><td> numpy.ndarray </td></tr>\n",
       "  </tbody>\n",
       "</table>\n",
       "</td>\n",
       "<td>\n",
       "<svg width=\"164\" height=\"149\" style=\"stroke:rgb(0,0,0);stroke-width:1\" >\n",
       "\n",
       "  <!-- Horizontal lines -->\n",
       "  <line x1=\"10\" y1=\"0\" x2=\"80\" y2=\"70\" style=\"stroke-width:2\" />\n",
       "  <line x1=\"10\" y1=\"2\" x2=\"80\" y2=\"73\" />\n",
       "  <line x1=\"10\" y1=\"5\" x2=\"80\" y2=\"76\" />\n",
       "  <line x1=\"10\" y1=\"8\" x2=\"80\" y2=\"79\" />\n",
       "  <line x1=\"10\" y1=\"11\" x2=\"80\" y2=\"82\" />\n",
       "  <line x1=\"10\" y1=\"14\" x2=\"80\" y2=\"85\" />\n",
       "  <line x1=\"10\" y1=\"17\" x2=\"80\" y2=\"88\" />\n",
       "  <line x1=\"10\" y1=\"20\" x2=\"80\" y2=\"91\" />\n",
       "  <line x1=\"10\" y1=\"23\" x2=\"80\" y2=\"93\" />\n",
       "  <line x1=\"10\" y1=\"26\" x2=\"80\" y2=\"96\" />\n",
       "  <line x1=\"10\" y1=\"29\" x2=\"80\" y2=\"99\" style=\"stroke-width:2\" />\n",
       "\n",
       "  <!-- Vertical lines -->\n",
       "  <line x1=\"10\" y1=\"0\" x2=\"10\" y2=\"29\" style=\"stroke-width:2\" />\n",
       "  <line x1=\"31\" y1=\"21\" x2=\"31\" y2=\"50\" />\n",
       "  <line x1=\"52\" y1=\"42\" x2=\"52\" y2=\"71\" />\n",
       "  <line x1=\"73\" y1=\"63\" x2=\"73\" y2=\"92\" />\n",
       "  <line x1=\"80\" y1=\"70\" x2=\"80\" y2=\"99\" style=\"stroke-width:2\" />\n",
       "\n",
       "  <!-- Colored Rectangle -->\n",
       "  <polygon points=\"10.0,0.0 80.58823529411765,70.58823529411765 80.58823529411765,99.76748240752141 10.0,29.179247113403765\" style=\"fill:#ECB172A0;stroke-width:0\"/>\n",
       "\n",
       "  <!-- Horizontal lines -->\n",
       "  <line x1=\"10\" y1=\"0\" x2=\"43\" y2=\"0\" style=\"stroke-width:2\" />\n",
       "  <line x1=\"31\" y1=\"21\" x2=\"64\" y2=\"21\" />\n",
       "  <line x1=\"52\" y1=\"42\" x2=\"85\" y2=\"42\" />\n",
       "  <line x1=\"73\" y1=\"63\" x2=\"106\" y2=\"63\" />\n",
       "  <line x1=\"80\" y1=\"70\" x2=\"114\" y2=\"70\" style=\"stroke-width:2\" />\n",
       "\n",
       "  <!-- Vertical lines -->\n",
       "  <line x1=\"10\" y1=\"0\" x2=\"80\" y2=\"70\" style=\"stroke-width:2\" />\n",
       "  <line x1=\"12\" y1=\"0\" x2=\"83\" y2=\"70\" />\n",
       "  <line x1=\"15\" y1=\"0\" x2=\"86\" y2=\"70\" />\n",
       "  <line x1=\"18\" y1=\"0\" x2=\"88\" y2=\"70\" />\n",
       "  <line x1=\"21\" y1=\"0\" x2=\"91\" y2=\"70\" />\n",
       "  <line x1=\"23\" y1=\"0\" x2=\"94\" y2=\"70\" />\n",
       "  <line x1=\"26\" y1=\"0\" x2=\"97\" y2=\"70\" />\n",
       "  <line x1=\"29\" y1=\"0\" x2=\"100\" y2=\"70\" />\n",
       "  <line x1=\"32\" y1=\"0\" x2=\"102\" y2=\"70\" />\n",
       "  <line x1=\"35\" y1=\"0\" x2=\"105\" y2=\"70\" />\n",
       "  <line x1=\"37\" y1=\"0\" x2=\"108\" y2=\"70\" />\n",
       "  <line x1=\"40\" y1=\"0\" x2=\"111\" y2=\"70\" />\n",
       "  <line x1=\"43\" y1=\"0\" x2=\"114\" y2=\"70\" style=\"stroke-width:2\" />\n",
       "\n",
       "  <!-- Colored Rectangle -->\n",
       "  <polygon points=\"10.0,0.0 43.57670173063948,0.0 114.16493702475714,70.58823529411765 80.58823529411765,70.58823529411765\" style=\"fill:#ECB172A0;stroke-width:0\"/>\n",
       "\n",
       "  <!-- Horizontal lines -->\n",
       "  <line x1=\"80\" y1=\"70\" x2=\"114\" y2=\"70\" style=\"stroke-width:2\" />\n",
       "  <line x1=\"80\" y1=\"73\" x2=\"114\" y2=\"73\" />\n",
       "  <line x1=\"80\" y1=\"76\" x2=\"114\" y2=\"76\" />\n",
       "  <line x1=\"80\" y1=\"79\" x2=\"114\" y2=\"79\" />\n",
       "  <line x1=\"80\" y1=\"82\" x2=\"114\" y2=\"82\" />\n",
       "  <line x1=\"80\" y1=\"85\" x2=\"114\" y2=\"85\" />\n",
       "  <line x1=\"80\" y1=\"88\" x2=\"114\" y2=\"88\" />\n",
       "  <line x1=\"80\" y1=\"91\" x2=\"114\" y2=\"91\" />\n",
       "  <line x1=\"80\" y1=\"93\" x2=\"114\" y2=\"93\" />\n",
       "  <line x1=\"80\" y1=\"96\" x2=\"114\" y2=\"96\" />\n",
       "  <line x1=\"80\" y1=\"99\" x2=\"114\" y2=\"99\" style=\"stroke-width:2\" />\n",
       "\n",
       "  <!-- Vertical lines -->\n",
       "  <line x1=\"80\" y1=\"70\" x2=\"80\" y2=\"99\" style=\"stroke-width:2\" />\n",
       "  <line x1=\"83\" y1=\"70\" x2=\"83\" y2=\"99\" />\n",
       "  <line x1=\"86\" y1=\"70\" x2=\"86\" y2=\"99\" />\n",
       "  <line x1=\"88\" y1=\"70\" x2=\"88\" y2=\"99\" />\n",
       "  <line x1=\"91\" y1=\"70\" x2=\"91\" y2=\"99\" />\n",
       "  <line x1=\"94\" y1=\"70\" x2=\"94\" y2=\"99\" />\n",
       "  <line x1=\"97\" y1=\"70\" x2=\"97\" y2=\"99\" />\n",
       "  <line x1=\"100\" y1=\"70\" x2=\"100\" y2=\"99\" />\n",
       "  <line x1=\"102\" y1=\"70\" x2=\"102\" y2=\"99\" />\n",
       "  <line x1=\"105\" y1=\"70\" x2=\"105\" y2=\"99\" />\n",
       "  <line x1=\"108\" y1=\"70\" x2=\"108\" y2=\"99\" />\n",
       "  <line x1=\"111\" y1=\"70\" x2=\"111\" y2=\"99\" />\n",
       "  <line x1=\"114\" y1=\"70\" x2=\"114\" y2=\"99\" style=\"stroke-width:2\" />\n",
       "\n",
       "  <!-- Colored Rectangle -->\n",
       "  <polygon points=\"80.58823529411765,70.58823529411765 114.16493702475714,70.58823529411765 114.16493702475714,99.76748240752141 80.58823529411765,99.76748240752141\" style=\"fill:#ECB172A0;stroke-width:0\"/>\n",
       "\n",
       "  <!-- Text -->\n",
       "  <text x=\"97.376586\" y=\"119.767482\" font-size=\"1.0rem\" font-weight=\"100\" text-anchor=\"middle\" >1068</text>\n",
       "  <text x=\"134.164937\" y=\"85.177859\" font-size=\"1.0rem\" font-weight=\"100\" text-anchor=\"middle\" transform=\"rotate(-90,134.164937,85.177859)\">510</text>\n",
       "  <text x=\"35.294118\" y=\"84.473365\" font-size=\"1.0rem\" font-weight=\"100\" text-anchor=\"middle\" transform=\"rotate(45,35.294118,84.473365)\">24837</text>\n",
       "</svg>\n",
       "</td>\n",
       "</tr>\n",
       "</table></div></li></ul></div></li><li class='xr-section-item'><input id='section-b2aa5246-eab5-4de4-b669-22947fc045e5' class='xr-section-summary-in' type='checkbox'  ><label for='section-b2aa5246-eab5-4de4-b669-22947fc045e5' class='xr-section-summary' >Attributes: <span>(15)</span></label><div class='xr-section-inline-details'></div><div class='xr-section-details'><dl class='xr-attrs'><dt><span>Conventions :</span></dt><dd>CF-1.5</dd><dt><span>title :</span></dt><dd>NRCAN ANUSPLIN daily gridded dataset : version 2</dd><dt><span>history :</span></dt><dd>Fri Jan 25 14:11:15 2019 : Convert from original format to NetCDF</dd><dt><span>institute_id :</span></dt><dd>NRCAN</dd><dt><span>frequency :</span></dt><dd>day</dd><dt><span>abstract :</span></dt><dd>Gridded daily observational dataset produced by Natural Resources Canada (NRCan), available at 300 arc second spatial resolution (1/12° grids, ~10 km) over Canada. The version 2 dataset was updated in its entirety compared with version 1 and is not a simple extension of version 1 with additional years of data. Gridding was accomplished with the Australian National University Spline (ANUSPLIN) implementation of the trivariate thin plate splines interpolation method with latitude, longitude and elevation as predictors. </dd><dt><span>dataset_description :</span></dt><dd>https://cfs.nrcan.gc.ca/projects/3/1</dd><dt><span>type :</span></dt><dd>gridded_obs</dd><dt><span>institute :</span></dt><dd>Natural Resources Canada : Canadian Forest Service</dd><dt><span>dataset_id :</span></dt><dd>NRCAN_anusplin_daily_v2</dd><dt><span>version :</span></dt><dd>2.0</dd><dt><span>license_type :</span></dt><dd>permissive</dd><dt><span>license :</span></dt><dd>https://open.canada.ca/en/open-government-licence-canada</dd><dt><span>attribution :</span></dt><dd>The authors provide this data under the Environment and Climate Change Canada Data Server End Use License and demand that any references to or derivative works based on this dataset be cited using the provided citation information</dd><dt><span>citation :</span></dt><dd>Natural Resources Canada ANUSPLIN interpolated historical climate model from McKenney, D.W., M.F. Hutchinson, P. Papadol, K. Lawrence, J. Pedlar, K. Campbell, E. Milewska, R.F. Hopkinson, D. Price, and T. Owen, 2011. Customized Spatial Climate Models for North America. Bull. Amer. Meteor. Soc., 92, 1611-1622, https://doi.org/10.1175/2011BAMS3132.1</dd></dl></div></li></ul></div></div>"
      ],
      "text/plain": [
       "<xarray.Dataset>\n",
       "Dimensions:  (lat: 510, lon: 1068, time: 24837)\n",
       "Coordinates:\n",
       "  * lat      (lat) float32 83.46 83.38 83.29 83.21 ... 41.29 41.21 41.12 41.04\n",
       "  * lon      (lon) float32 -141.0 -140.9 -140.8 -140.7 ... -52.21 -52.13 -52.04\n",
       "  * time     (time) datetime64[ns] 1950-01-01 1950-01-02 ... 2017-12-31\n",
       "Data variables:\n",
       "    tasmin   (time, lat, lon) float32 dask.array<chunksize=(7390, 51, 89), meta=np.ndarray>\n",
       "    tasmax   (time, lat, lon) float32 dask.array<chunksize=(7390, 51, 89), meta=np.ndarray>\n",
       "    pr       (time, lat, lon) float32 dask.array<chunksize=(7390, 51, 89), meta=np.ndarray>\n",
       "Attributes: (12/15)\n",
       "    Conventions:          CF-1.5\n",
       "    title:                NRCAN ANUSPLIN daily gridded dataset : version 2\n",
       "    history:              Fri Jan 25 14:11:15 2019 : Convert from original fo...\n",
       "    institute_id:         NRCAN\n",
       "    frequency:            day\n",
       "    abstract:             Gridded daily observational dataset produced by Nat...\n",
       "    ...                   ...\n",
       "    dataset_id:           NRCAN_anusplin_daily_v2\n",
       "    version:              2.0\n",
       "    license_type:         permissive\n",
       "    license:              https://open.canada.ca/en/open-government-licence-c...\n",
       "    attribution:          The authors provide this data under the Environment...\n",
       "    citation:             Natural Resources Canada ANUSPLIN interpolated hist..."
      ]
     },
     "execution_count": 14,
     "metadata": {},
     "output_type": "execute_result"
    }
   ],
   "source": [
    "# If we want a preview of the data, here's what it looks like:\n",
    "\n",
    "import xarray as xr\n",
    "\n",
    "ds = xr.open_dataset(data, chunks=\"auto\")\n",
    "ds"
   ]
  },
  {
   "cell_type": "code",
   "execution_count": 15,
   "metadata": {},
   "outputs": [
    {
     "data": {
      "application/vnd.jupyter.widget-view+json": {
       "model_id": "2e6cb05358ae4c85ac70310400a2c843",
       "version_major": 2,
       "version_minor": 0
      },
      "text/plain": [
       "HBox(children=(IntProgress(value=0, bar_style='info', description='Processing:'), Button(button_style='danger'…"
      ]
     },
     "metadata": {},
     "output_type": "display_data"
    }
   ],
   "source": [
    "lon0 = float(bounds.minx)\n",
    "lon1 = float(bounds.maxx)\n",
    "lat0 = float(bounds.miny)\n",
    "lat1 = float(bounds.maxy)\n",
    "\n",
    "result_tasmin = finch.subset_bbox(resource=data, variable=\"tasmin\", lon0=lon0, lon1=lon1, lat0=lat0, lat1=lat1, start_date=\"1958-01-01\", end_date=\"1958-12-31\")"
   ]
  },
  {
   "cell_type": "code",
   "execution_count": 16,
   "metadata": {},
   "outputs": [
    {
     "data": {
      "text/plain": [
       "'http://localhost:5000/outputs/65b6279d-cd43-11eb-ba5f-28d24417f566/nrcan_v2_sub.ncml'"
      ]
     },
     "execution_count": 16,
     "metadata": {},
     "output_type": "execute_result"
    }
   ],
   "source": [
    "# wait for process to complete before running this cell (the process is async)\n",
    "tasmin_subset = result_tasmin.get().output\n",
    "tasmin_subset"
   ]
  },
  {
   "cell_type": "code",
   "execution_count": 17,
   "metadata": {},
   "outputs": [
    {
     "data": {
      "application/vnd.jupyter.widget-view+json": {
       "model_id": "1201a8619b3047f7942d9145e21a169c",
       "version_major": 2,
       "version_minor": 0
      },
      "text/plain": [
       "HBox(children=(IntProgress(value=0, bar_style='info', description='Processing:'), Button(button_style='danger'…"
      ]
     },
     "metadata": {},
     "output_type": "display_data"
    }
   ],
   "source": [
    "result_tasmax = finch.subset_bbox(resource=data, variable=\"tasmax\", lon0=lon0, lon1=lon1, lat0=lat0, lat1=lat1, start_date=\"1958-01-01\", end_date=\"1958-12-31\")"
   ]
  },
  {
   "cell_type": "code",
   "execution_count": 18,
   "metadata": {},
   "outputs": [
    {
     "data": {
      "text/plain": [
       "'http://localhost:5000/outputs/d1b83e5f-cd43-11eb-8bff-28d24417f566/nrcan_v2_sub.ncml'"
      ]
     },
     "execution_count": 18,
     "metadata": {},
     "output_type": "execute_result"
    }
   ],
   "source": [
    "# wait for process to complete before running this cell (the process is async)\n",
    "tasmax_subset = result_tasmax.get().output\n",
    "tasmax_subset"
   ]
  },
  {
   "cell_type": "markdown",
   "metadata": {},
   "source": [
    "### Launch a heat wave frequency analysis with the subsetted datasets"
   ]
  },
  {
   "cell_type": "code",
   "execution_count": 19,
   "metadata": {},
   "outputs": [
    {
     "name": "stdout",
     "output_type": "stream",
     "text": [
      "Help on method heat_wave_frequency in module birdy.client.base:\n",
      "\n",
      "heat_wave_frequency(tasmin=None, tasmax=None, check_missing='any', cf_compliance='warn', data_validation='raise', thresh_tasmin='22.0 degC', thresh_tasmax='30 degC', window=3, freq='YS', missing_options=None, variable=None, output_formats=None) method of birdy.client.base.WPSClient instance\n",
      "    Number of heat waves over a given period. A heat wave is defined as an event where the minimum and maximum daily temperature both exceeds specific thresholds over a minimum number of days.\n",
      "    \n",
      "    Parameters\n",
      "    ----------\n",
      "    tasmin : ComplexData:mimetype:`application/x-netcdf`, :mimetype:`application/x-ogc-dods`\n",
      "        NetCDF Files or archive (tar/zip) containing netCDF files.\n",
      "    tasmax : ComplexData:mimetype:`application/x-netcdf`, :mimetype:`application/x-ogc-dods`\n",
      "        NetCDF Files or archive (tar/zip) containing netCDF files.\n",
      "    thresh_tasmin : string\n",
      "        The minimum temperature threshold needed to trigger a heatwave event.\n",
      "    thresh_tasmax : string\n",
      "        The maximum temperature threshold needed to trigger a heatwave event.\n",
      "    window : integer\n",
      "        Minimum number of days with temperatures above thresholds to qualify as a heatwave.\n",
      "    freq : {'YS', 'MS', 'QS-DEC', 'AS-JUL'}string\n",
      "        Resampling frequency.\n",
      "    check_missing : {'any', 'wmo', 'pct', 'at_least_n', 'skip', 'from_context'}string\n",
      "        Method used to determine which aggregations should be considered missing.\n",
      "    missing_options : ComplexData:mimetype:`application/json`\n",
      "        JSON representation of dictionary of missing method parameters.\n",
      "    cf_compliance : {'log', 'warn', 'raise'}string\n",
      "        Whether to log, warn or raise when inputs have non-CF-compliant attributes.\n",
      "    data_validation : {'log', 'warn', 'raise'}string\n",
      "        Whether to log, warn or raise when inputs fail data validation checks.\n",
      "    variable : string\n",
      "        Name of the variable in the NetCDF file.\n",
      "    \n",
      "    Returns\n",
      "    -------\n",
      "    output_netcdf : ComplexData:mimetype:`application/x-netcdf`\n",
      "        The indicator values computed on the original input grid.\n",
      "    output_log : ComplexData:mimetype:`text/plain`\n",
      "        Collected logs during process run.\n",
      "    ref : ComplexData:mimetype:`application/metalink+xml; version=4.0`\n",
      "        Metalink file storing all references to output files.\n",
      "\n"
     ]
    }
   ],
   "source": [
    "help(finch.heat_wave_frequency)"
   ]
  },
  {
   "cell_type": "code",
   "execution_count": 20,
   "metadata": {},
   "outputs": [
    {
     "data": {
      "application/vnd.jupyter.widget-view+json": {
       "model_id": "e8841e01597a423bbafb3eb9b30fe288",
       "version_major": 2,
       "version_minor": 0
      },
      "text/plain": [
       "HBox(children=(IntProgress(value=0, bar_style='info', description='Processing:'), Button(button_style='danger'…"
      ]
     },
     "metadata": {},
     "output_type": "display_data"
    }
   ],
   "source": [
    "result = finch.heat_wave_frequency(tasmin=tasmin_subset, tasmax=tasmax_subset, thresh_tasmin=\"14 degC\", thresh_tasmax=\"22 degC\")"
   ]
  },
  {
   "cell_type": "markdown",
   "metadata": {},
   "source": [
    "Get the output as a python object (xarray Dataset)"
   ]
  },
  {
   "cell_type": "code",
   "execution_count": 21,
   "metadata": {},
   "outputs": [],
   "source": [
    "response = result.get(asobj=True)"
   ]
  },
  {
   "cell_type": "code",
   "execution_count": 22,
   "metadata": {},
   "outputs": [],
   "source": [
    "ds = response.output_netcdf\n"
   ]
  },
  {
   "cell_type": "code",
   "execution_count": 23,
   "metadata": {},
   "outputs": [
    {
     "data": {
      "text/plain": [
       "<matplotlib.collections.QuadMesh at 0x7fc452f81b50>"
      ]
     },
     "execution_count": 23,
     "metadata": {},
     "output_type": "execute_result"
    },
    {
     "data": {
      "image/png": "[encoded data removed]",
      "text/plain": [
       "<Figure size 432x288 with 2 Axes>"
      ]
     },
     "metadata": {
      "needs_background": "light"
     },
     "output_type": "display_data"
    }
   ],
   "source": [
    "ds.heat_wave_frequency.plot()"
   ]
  },
  {
   "cell_type": "markdown",
   "metadata": {},
   "source": [
    "### Showing wms layers on a map (TODO)"
   ]
  },
  {
   "cell_type": "markdown",
   "metadata": {},
   "source": [
    "The results are stored in a folder that is available to thredds, which provides a WMS service to its datasets. In the case of large outputs, the user could view ths results of the analysis as a wms service without downloading the data."
   ]
  },
  {
   "cell_type": "markdown",
   "metadata": {},
   "source": [
    "#### Get the wms url from the 'wpsoutputs'"
   ]
  },
  {
   "cell_type": "code",
   "execution_count": 24,
   "metadata": {},
   "outputs": [
    {
     "name": "stdout",
     "output_type": "stream",
     "text": [
      "output_url =  http://localhost:5000/outputs/4782e2af-cd44-11eb-895f-28d24417f566/out.nc\n",
      "output_path =  c\n"
     ]
    },
    {
     "data": {
      "text/plain": [
       "'https://pavics.ouranos.ca:8083/thredds/wms/birdhouse/c'"
      ]
     },
     "execution_count": 24,
     "metadata": {},
     "output_type": "execute_result"
    }
   ],
   "source": [
    "output_url = result.get().output_netcdf\n",
    "print(\"output_url = \", output_url)\n",
    "output_path = output_url[output_url.find(\"wpsoutputs\"):]\n",
    "output_path = output_path.replace(\"wpsoutputs\", \"wps_outputs\")\n",
    "print(\"output_path = \", output_path)\n",
    "\n",
    "output_thredds_url = f\"{pavics_url}:8083/thredds/wms/birdhouse/{output_path}\"\n",
    "output_thredds_url"
   ]
  },
  {
   "cell_type": "markdown",
   "metadata": {},
   "source": [
    "Using ipyleaflet again, we can connect to this wms service."
   ]
  },
  {
   "cell_type": "code",
   "execution_count": 25,
   "metadata": {},
   "outputs": [
    {
     "data": {
      "application/vnd.jupyter.widget-view+json": {
       "model_id": "2e9e9029dd2943cdad13dd8a0e3b5c41",
       "version_major": 2,
       "version_minor": 0
      },
      "text/plain": [
       "Map(center=[52.4292, -93.2959], controls=(ZoomControl(options=['position', 'zoom_in_text', 'zoom_in_title', 'z…"
      ]
     },
     "metadata": {},
     "output_type": "display_data"
    }
   ],
   "source": [
    "def show_wms(url):\n",
    "    canada_center = (52.4292, -93.2959)\n",
    "    \n",
    "    wms = ipyleaflet.WMSLayer(\n",
    "        url=url,\n",
    "        layers=\"heat_wave_frequency\",\n",
    "        styles=\"boxfill/ferret\",\n",
    "        format=\"image/png\",\n",
    "        transparent=True,\n",
    "        opacity=1,\n",
    "        version=\"1.3.0\",\n",
    "    )\n",
    "    basemap_layer = ipyleaflet.basemap_to_tiles(ipyleaflet.basemaps.Stamen.Terrain)\n",
    "    m = ipyleaflet.Map(\n",
    "        layers=(basemap_layer, wms),\n",
    "        center=canada_center,\n",
    "        zoom=4,\n",
    "    )\n",
    "    return m\n",
    "    \n",
    "m = show_wms(output_thredds_url)\n",
    "m"
   ]
  }
 ],
 "metadata": {
  "kernelspec": {
   "display_name": "Python 3",
   "language": "python",
   "name": "python3"
  },
  "language_info": {
   "codemirror_mode": {
    "name": "ipython",
    "version": 3
   },
   "file_extension": ".py",
   "mimetype": "text/x-python",
   "name": "python",
   "nbconvert_exporter": "python",
   "pygments_lexer": "ipython3",
   "version": "3.9.4"
  },
  "pycharm": {
   "stem_cell": {
    "cell_type": "raw",
    "metadata": {
     "collapsed": false
    },
    "source": []
   }
  }
 },
 "nbformat": 4,
 "nbformat_minor": 4
}
