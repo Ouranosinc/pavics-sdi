{
 "cells": [
  {
   "cell_type": "markdown",
   "metadata": {},
   "source": [
    "# General workflow demonstration"
   ]
  },
  {
   "cell_type": "markdown",
   "metadata": {},
   "source": [
    "## Setup and configuration"
   ]
  },
  {
   "cell_type": "code",
   "execution_count": 1,
   "metadata": {},
   "outputs": [
    {
     "name": "stdout",
     "output_type": "stream",
     "text": [
      "Collecting package metadata (current_repodata.json): ...working... done\n",
      "Solving environment: ...working... done\n",
      "\n",
      "# All requested packages already installed.\n",
      "\n"
     ]
    }
   ],
   "source": [
    "# Install dependencies not in the base jupyter image\n",
    "\n",
    "import sys\n",
    "!conda install -q -y -c conda-forge --prefix {sys.prefix} ipyleaflet\n",
    "\n",
    "# If you have JupyterLab, you will also need to install the JupyterLab extension:\n",
    "# jupyter labextension install @jupyter-widgets/jupyterlab-manager jupyter-leaflet"
   ]
  },
  {
   "cell_type": "code",
   "execution_count": 2,
   "metadata": {},
   "outputs": [],
   "source": [
    "import ipyleaflet\n",
    "from birdy import WPSClient\n",
    "\n",
    "# we will use these coordinates later to center the map on Canada\n",
    "canada_center_lat_lon = (52.4292, -93.2959)"
   ]
  },
  {
   "cell_type": "markdown",
   "metadata": {},
   "source": [
    "#### Pavics url configuration"
   ]
  },
  {
   "cell_type": "code",
   "execution_count": 3,
   "metadata": {},
   "outputs": [],
   "source": [
    "# pavics.ouranos.ca\n",
    "# pavics_url = \"https://pavics.ouranos.ca\"\n",
    "# finch_url = f'{pavics_url}/twitcher/ows/proxy/finch/wps'\n",
    "\n",
    "# colibri\n",
    "# Important note: this is a development server, uptime is not guaranteed\n",
    "pavics_url = \"https://colibri.crim.ca\"\n",
    "finch_url = f\"{pavics_url}/twitcher/ows/proxy/finch/wps\""
   ]
  },
  {
   "cell_type": "markdown",
   "metadata": {},
   "source": [
    "## Getting user input from a map widget"
   ]
  },
  {
   "cell_type": "markdown",
   "metadata": {},
   "source": [
    "### Notes about ipyleaflet\n",
    "\n",
    "ipyleaflet is a **\"A Jupyter / Leaflet bridge enabling interactive maps in the Jupyter notebook\"**\n",
    "\n",
    "This means that the interactions with graphical objects on the map and in python are synchronized. The documentation is at: https://ipyleaflet.readthedocs.io"
   ]
  },
  {
   "cell_type": "code",
   "execution_count": 4,
   "metadata": {},
   "outputs": [
    {
     "data": {
      "application/vnd.jupyter.widget-view+json": {
       "model_id": "9de1a5b8a1a748cdaa976c467a41e9f0",
       "version_major": 2,
       "version_minor": 0
      },
      "text/plain": [
       "Map(basemap={'url': 'https://stamen-tiles-a.a.ssl.fastly.net/terrain/{z}/{x}/{y}.png', 'attribution': 'Map til…"
      ]
     },
     "metadata": {},
     "output_type": "display_data"
    }
   ],
   "source": [
    "leaflet_map = ipyleaflet.Map(\n",
    "    center=canada_center_lat_lon,\n",
    "    basemap=ipyleaflet.basemaps.Stamen.Terrain,\n",
    "    zoom=4,\n",
    ")\n",
    "\n",
    "initial_marker_location = canada_center_lat_lon\n",
    "marker = ipyleaflet.Marker(location=initial_marker_location, draggable=True)\n",
    "leaflet_map.add_layer(marker)\n",
    "\n",
    "leaflet_map"
   ]
  },
  {
   "cell_type": "markdown",
   "metadata": {},
   "source": [
    "If you move the marker on the map, it will update the `marker.location` variable. Also, if you update `marker.location` manually (`marker.location = (45.44, -90.44)`) it will also move on the map."
   ]
  },
  {
   "cell_type": "code",
   "execution_count": 7,
   "metadata": {},
   "outputs": [],
   "source": [
    "marker.location = (45.55, -72.44)"
   ]
  },
  {
   "cell_type": "code",
   "execution_count": 6,
   "metadata": {},
   "outputs": [
    {
     "name": "stdout",
     "output_type": "stream",
     "text": [
      "(52.4292, -93.2959)\n",
      "[52.28282434012458, -106.0440355539322]\n"
     ]
    }
   ],
   "source": [
    "print(initial_marker_location)\n",
    "print(marker.location)"
   ]
  },
  {
   "cell_type": "markdown",
   "metadata": {},
   "source": [
    "#### Helper function to get user input"
   ]
  },
  {
   "cell_type": "code",
   "execution_count": 8,
   "metadata": {},
   "outputs": [],
   "source": [
    "import ipyleaflet\n",
    "from IPython.display import display\n",
    "import ipywidgets as widgets\n",
    "\n",
    "def get_rectangle():\n",
    "    canada_center = (52.4292, -93.2959)\n",
    "    m = ipyleaflet.Map(\n",
    "        center=canada_center,\n",
    "        basemap=ipyleaflet.basemaps.Stamen.Terrain,\n",
    "        zoom=4,\n",
    "    )\n",
    "    \n",
    "    # Create a new draw control\n",
    "    draw_control = ipyleaflet.DrawControl()\n",
    "\n",
    "    # disable some drawing inputs\n",
    "    draw_control.polyline = {}\n",
    "    draw_control.circlemarker = {}\n",
    "    draw_control.polygon = {}\n",
    "\n",
    "    draw_control.rectangle = {\n",
    "        \"shapeOptions\": {\n",
    "            \"fillColor\": \"#4ae\",\n",
    "            \"color\": \"#4ae\",\n",
    "            \"fillOpacity\": 0.3,\n",
    "        }\n",
    "    }\n",
    "\n",
    "    output = widgets.Output(layout={'border': '1px solid black'})\n",
    "    \n",
    "    rectangle = {}\n",
    "\n",
    "    # set drawing callback\n",
    "    def callback(control, action, geo_json):\n",
    "        if action == \"created\":\n",
    "            # note: we can't close the map or remove it from the output\n",
    "            # from this callback. The map keeps the focus, and the \n",
    "            # jupyter keyboard input is messed up.\n",
    "            # So we set it very thin to make it disappear :)\n",
    "            m.layout = {\"max_height\": \"0\"}\n",
    "            with output:\n",
    "                print(\"*User selected 1 rectangle*\")\n",
    "                rectangle.update(geo_json)\n",
    "\n",
    "    draw_control.on_draw(callback)    \n",
    "\n",
    "    m.add_control(draw_control)\n",
    "    \n",
    "    with output:\n",
    "        print(\"Select a rectangle:\")\n",
    "        display(m)\n",
    "        \n",
    "    display(output)\n",
    "    \n",
    "    return rectangle"
   ]
  },
  {
   "cell_type": "markdown",
   "metadata": {},
   "source": [
    "#### The user wants to select a rectangle on a map, and get a GeoJSON back"
   ]
  },
  {
   "cell_type": "code",
   "execution_count": 9,
   "metadata": {},
   "outputs": [
    {
     "data": {
      "application/vnd.jupyter.widget-view+json": {
       "model_id": "66f9a6e7757849e4ad6ac3d7cd5f46bd",
       "version_major": 2,
       "version_minor": 0
      },
      "text/plain": [
       "Output(layout=Layout(border='1px solid black'))"
      ]
     },
     "metadata": {},
     "output_type": "display_data"
    }
   ],
   "source": [
    "rectangle = get_rectangle()"
   ]
  },
  {
   "cell_type": "code",
   "execution_count": 10,
   "metadata": {},
   "outputs": [
    {
     "data": {
      "text/plain": [
       "{'type': 'Feature',\n",
       " 'properties': {'style': {'stroke': True,\n",
       "   'color': '#4ae',\n",
       "   'weight': 4,\n",
       "   'opacity': 0.5,\n",
       "   'fill': True,\n",
       "   'fillColor': '#4ae',\n",
       "   'fillOpacity': 0.3,\n",
       "   'clickable': True}},\n",
       " 'geometry': {'type': 'Polygon',\n",
       "  'coordinates': [[[-91.689606, 47.597073],\n",
       "    [-91.689606, 52.951345],\n",
       "    [-82.028825, 52.951345],\n",
       "    [-82.028825, 47.597073],\n",
       "    [-91.689606, 47.597073]]]}}"
      ]
     },
     "execution_count": 10,
     "metadata": {},
     "output_type": "execute_result"
    }
   ],
   "source": [
    "rectangle  # GeoJSON with custom style properties"
   ]
  },
  {
   "cell_type": "markdown",
   "metadata": {},
   "source": [
    "#### Get the maximum and minimum bounds"
   ]
  },
  {
   "cell_type": "code",
   "execution_count": 11,
   "metadata": {},
   "outputs": [
    {
     "data": {
      "text/html": [
       "<div>\n",
       "<style scoped>\n",
       "    .dataframe tbody tr th:only-of-type {\n",
       "        vertical-align: middle;\n",
       "    }\n",
       "\n",
       "    .dataframe tbody tr th {\n",
       "        vertical-align: top;\n",
       "    }\n",
       "\n",
       "    .dataframe thead th {\n",
       "        text-align: right;\n",
       "    }\n",
       "</style>\n",
       "<table border=\"1\" class=\"dataframe\">\n",
       "  <thead>\n",
       "    <tr style=\"text-align: right;\">\n",
       "      <th></th>\n",
       "      <th>minx</th>\n",
       "      <th>miny</th>\n",
       "      <th>maxx</th>\n",
       "      <th>maxy</th>\n",
       "    </tr>\n",
       "  </thead>\n",
       "  <tbody>\n",
       "    <tr>\n",
       "      <td>0</td>\n",
       "      <td>-91.689606</td>\n",
       "      <td>47.597073</td>\n",
       "      <td>-82.028825</td>\n",
       "      <td>52.951345</td>\n",
       "    </tr>\n",
       "  </tbody>\n",
       "</table>\n",
       "</div>"
      ],
      "text/plain": [
       "        minx       miny       maxx       maxy\n",
       "0 -91.689606  47.597073 -82.028825  52.951345"
      ]
     },
     "execution_count": 11,
     "metadata": {},
     "output_type": "execute_result"
    }
   ],
   "source": [
    "import geopandas as gpd\n",
    "\n",
    "rect = gpd.GeoDataFrame.from_features([rectangle])\n",
    "bounds = rect.bounds\n",
    "bounds"
   ]
  },
  {
   "cell_type": "markdown",
   "metadata": {},
   "source": [
    "## Calling wps processes"
   ]
  },
  {
   "cell_type": "markdown",
   "metadata": {},
   "source": [
    "For this example, we will **subset** a dataset with the user-selected bounds, and launch a **heat wave frequency** analysis on it."
   ]
  },
  {
   "cell_type": "code",
   "execution_count": 12,
   "metadata": {},
   "outputs": [],
   "source": [
    "finch = WPSClient(finch_url, progress=True)"
   ]
  },
  {
   "cell_type": "code",
   "execution_count": 13,
   "metadata": {},
   "outputs": [
    {
     "name": "stdout",
     "output_type": "stream",
     "text": [
      "Help on method subset_bbox in module birdy.client.base:\n",
      "\n",
      "subset_bbox(resource=None, lon0=0.0, lon1=360.0, lat0=-90.0, lat1=90.0, y0=None, y1=None, variable=None) method of birdy.client.base.WPSClient instance\n",
      "    Return the data for which grid cells intersect the bounding box for each input dataset as well as the time range selected.\n",
      "    \n",
      "    Parameters\n",
      "    ----------\n",
      "    resource : ComplexData:mimetype:`application/x-netcdf`, :mimetype:`application/x-ogc-dods`\n",
      "        NetCDF files, can be OPEnDAP urls.\n",
      "    lon0 : float\n",
      "        Minimum longitude.\n",
      "    lon1 : float\n",
      "        Maximum longitude.\n",
      "    lat0 : float\n",
      "        Minimum latitude.\n",
      "    lat1 : float\n",
      "        Maximum latitude.\n",
      "    y0 : integer\n",
      "        Initial year for temporal subsetting. Defaults to first year in file.\n",
      "    y1 : integer\n",
      "        Final year for temporal subsetting. Defaults to last year in file.\n",
      "    variable : string\n",
      "        Name of the variable in the NetCDF file.If not provided, all variables will be subsetted.\n",
      "    \n",
      "    Returns\n",
      "    -------\n",
      "    output : ComplexData:mimetype:`application/x-netcdf`\n",
      "        netCDF output\n",
      "    ref : ComplexData:mimetype:`application/metalink+xml; version=4.0`\n",
      "        Metalink file storing all references to output file.\n",
      "\n"
     ]
    }
   ],
   "source": [
    "help(finch.subset_bbox)"
   ]
  },
  {
   "cell_type": "markdown",
   "metadata": {},
   "source": [
    "### Subset tasmin and tasmax datasets"
   ]
  },
  {
   "cell_type": "markdown",
   "metadata": {},
   "source": [
    "#### Note: the datasets will soon be made searchable through a catalog"
   ]
  },
  {
   "cell_type": "code",
   "execution_count": 14,
   "metadata": {},
   "outputs": [],
   "source": [
    "tasmin = \"http://colibri.crim.ca:8083/thredds/dodsC/birdhouse/nrcan/nrcan_canada_daily/nrcan_canada_daily_tasmin_1958.nc\"\n",
    "tasmax = \"http://colibri.crim.ca:8083/thredds/dodsC/birdhouse/nrcan/nrcan_canada_daily/nrcan_canada_daily_tasmax_1958.nc\"\n",
    "lon0 = float(bounds.minx)\n",
    "lon1 = float(bounds.maxx)\n",
    "lat0 = float(bounds.miny)\n",
    "lat1 = float(bounds.maxy)\n"
   ]
  },
  {
   "cell_type": "code",
   "execution_count": 15,
   "metadata": {},
   "outputs": [
    {
     "data": {
      "application/vnd.jupyter.widget-view+json": {
       "model_id": "43ed77ac752240dabc9038adebc5f8f4",
       "version_major": 2,
       "version_minor": 0
      },
      "text/plain": [
       "HBox(children=(IntProgress(value=0, bar_style='info', description='Processing:'), Button(button_style='danger'…"
      ]
     },
     "metadata": {},
     "output_type": "display_data"
    }
   ],
   "source": [
    "result_tasmin = finch.subset_bbox(resource=tasmin, lon0=lon0, lon1=lon1, lat0=lat0, lat1=lat1)"
   ]
  },
  {
   "cell_type": "code",
   "execution_count": 16,
   "metadata": {},
   "outputs": [
    {
     "data": {
      "text/plain": [
       "'https://colibri.crim.ca/wpsoutputs/8bb83582-db15-11e9-bed5-0242ac130004/nrcan_canada_daily_tasmin_1958_sub.nc'"
      ]
     },
     "execution_count": 16,
     "metadata": {},
     "output_type": "execute_result"
    }
   ],
   "source": [
    "# wait for process to complete before running this cell (the process is async)\n",
    "tasmin_subset = result_tasmin.get().output\n",
    "tasmin_subset"
   ]
  },
  {
   "cell_type": "code",
   "execution_count": 17,
   "metadata": {},
   "outputs": [
    {
     "data": {
      "application/vnd.jupyter.widget-view+json": {
       "model_id": "91f0c7326fd64ecb981c2936c663ca91",
       "version_major": 2,
       "version_minor": 0
      },
      "text/plain": [
       "HBox(children=(IntProgress(value=0, bar_style='info', description='Processing:'), Button(button_style='danger'…"
      ]
     },
     "metadata": {},
     "output_type": "display_data"
    }
   ],
   "source": [
    "result_tasmax = finch.subset_bbox(resource=tasmax, lon0=lon0, lon1=lon1, lat0=lat0, lat1=lat1)"
   ]
  },
  {
   "cell_type": "code",
   "execution_count": 18,
   "metadata": {},
   "outputs": [
    {
     "data": {
      "text/plain": [
       "'https://colibri.crim.ca/wpsoutputs/919127de-db15-11e9-bed5-0242ac130004/nrcan_canada_daily_tasmax_1958_sub.nc'"
      ]
     },
     "execution_count": 18,
     "metadata": {},
     "output_type": "execute_result"
    }
   ],
   "source": [
    "# wait for process to complete before running this cell (the process is async)\n",
    "tasmax_subset = result_tasmax.get().output\n",
    "tasmax_subset"
   ]
  },
  {
   "cell_type": "markdown",
   "metadata": {},
   "source": [
    "### Launch a heat wave frequency analysis with the subsetted datasets"
   ]
  },
  {
   "cell_type": "code",
   "execution_count": 19,
   "metadata": {},
   "outputs": [
    {
     "name": "stdout",
     "output_type": "stream",
     "text": [
      "Help on method heat_wave_frequency in module birdy.client.base:\n",
      "\n",
      "heat_wave_frequency(tasmin=None, tasmax=None, thresh_tasmin='22.0 degC', thresh_tasmax='30 degC', window=3, freq='YS') method of birdy.client.base.WPSClient instance\n",
      "    Number of heat waves over a given period. A heat wave is defined as an event\n",
      "        where the minimum and maximum daily temperature both exceeds specific thresholds\n",
      "        over a minimum number of days.\n",
      "    \n",
      "    Parameters\n",
      "    ----------\n",
      "    tasmin : ComplexData:mimetype:`application/x-netcdf`\n",
      "        NetCDF Files or archive (tar/zip) containing netCDF files.\n",
      "    tasmax : ComplexData:mimetype:`application/x-netcdf`\n",
      "        NetCDF Files or archive (tar/zip) containing netCDF files.\n",
      "    thresh_tasmin : string\n",
      "        threshold\n",
      "    thresh_tasmax : string\n",
      "        threshold\n",
      "    window : integer\n",
      "        window\n",
      "    freq : {'YS', 'MS', 'QS-DEC', 'AS-JUL'}string\n",
      "        Resampling frequency\n",
      "    \n",
      "    Returns\n",
      "    -------\n",
      "    output_netcdf : ComplexData:mimetype:`application/x-netcdf`\n",
      "        The indicator values computed on the original input grid.\n",
      "    output_log : ComplexData:mimetype:`text/plain`\n",
      "        Collected logs during process run.\n",
      "\n"
     ]
    }
   ],
   "source": [
    "help(finch.heat_wave_frequency)"
   ]
  },
  {
   "cell_type": "code",
   "execution_count": 20,
   "metadata": {},
   "outputs": [
    {
     "data": {
      "application/vnd.jupyter.widget-view+json": {
       "model_id": "b9defed4f6694a199a500784f3e65d94",
       "version_major": 2,
       "version_minor": 0
      },
      "text/plain": [
       "HBox(children=(IntProgress(value=0, bar_style='info', description='Processing:'), Button(button_style='danger'…"
      ]
     },
     "metadata": {},
     "output_type": "display_data"
    }
   ],
   "source": [
    "result = finch.heat_wave_frequency(tasmin=tasmin_subset, tasmax=tasmax_subset, thresh_tasmin=\"14C\", thresh_tasmax=\"22C\")"
   ]
  },
  {
   "cell_type": "markdown",
   "metadata": {},
   "source": [
    "Get the output as a python object (xarray Dataset)"
   ]
  },
  {
   "cell_type": "code",
   "execution_count": 21,
   "metadata": {},
   "outputs": [],
   "source": [
    "ds, logs = result.get(asobj=True)"
   ]
  },
  {
   "cell_type": "code",
   "execution_count": 22,
   "metadata": {},
   "outputs": [
    {
     "data": {
      "text/plain": [
       "<xarray.Dataset>\n",
       "Dimensions:              (lat: 64, lon: 116, time: 1)\n",
       "Coordinates:\n",
       "  * time                 (time) datetime64[ns] 1958-01-01\n",
       "  * lon                  (lon) float32 -91.625 -91.54167 ... -82.125 -82.04167\n",
       "  * lat                  (lat) float32 52.875 52.791668 ... 47.708332 47.625\n",
       "Data variables:\n",
       "    heat_wave_frequency  (time, lat, lon) float64 ...\n",
       "Attributes:\n",
       "    Conventions:                     CF-1.5\n",
       "    title:                           NRCAN 10km Gridded Climate Dataset\n",
       "    history:                         2012-10-22T09:11:24: Convert from origin...\n",
       "    institution:                     NRCAN\n",
       "    source:                          ANUSPLIN\n",
       "    redistribution:                  Redistribution policy unknown. For inter...\n",
       "    DODS_EXTRA.Unlimited_Dimension:  time"
      ]
     },
     "execution_count": 22,
     "metadata": {},
     "output_type": "execute_result"
    }
   ],
   "source": [
    "ds"
   ]
  },
  {
   "cell_type": "code",
   "execution_count": 24,
   "metadata": {},
   "outputs": [
    {
     "data": {
      "text/plain": [
       "<matplotlib.collections.QuadMesh at 0x7fec07c923c8>"
      ]
     },
     "execution_count": 24,
     "metadata": {},
     "output_type": "execute_result"
    },
    {
     "data": {
      "image/png": "[encoded data removed]",
      "text/plain": [
       "<Figure size 432x288 with 2 Axes>"
      ]
     },
     "metadata": {
      "needs_background": "light"
     },
     "output_type": "display_data"
    }
   ],
   "source": [
    "ds.heat_wave_frequency.isel(time=0).plot()"
   ]
  },
  {
   "cell_type": "markdown",
   "metadata": {},
   "source": [
    "### Showing wms layers on a map"
   ]
  },
  {
   "cell_type": "markdown",
   "metadata": {},
   "source": [
    "The results are stored in a folder that is available to thredds, which provides a WMS service to its datasets. In the case of large outputs, the user could view ths results of the analysis as a wms service without downloading the data."
   ]
  },
  {
   "cell_type": "markdown",
   "metadata": {},
   "source": [
    "#### Get the wms url from the 'wpsoutputs'"
   ]
  },
  {
   "cell_type": "code",
   "execution_count": 25,
   "metadata": {},
   "outputs": [
    {
     "name": "stdout",
     "output_type": "stream",
     "text": [
      "output_url =  https://colibri.crim.ca/wpsoutputs/9ecf08c6-db15-11e9-bed5-0242ac130004/out.nc\n",
      "output_path =  wps_outputs/9ecf08c6-db15-11e9-bed5-0242ac130004/out.nc\n"
     ]
    },
    {
     "data": {
      "text/plain": [
       "'http://colibri.crim.ca:8083/thredds/wms/birdhouse/wps_outputs/9ecf08c6-db15-11e9-bed5-0242ac130004/out.nc'"
      ]
     },
     "execution_count": 25,
     "metadata": {},
     "output_type": "execute_result"
    }
   ],
   "source": [
    "output_url = result.get().output_netcdf\n",
    "print(\"output_url = \", output_url)\n",
    "output_path = output_url[output_url.find(\"wpsoutputs\"):]\n",
    "output_path = output_path.replace(\"wpsoutputs\", \"wps_outputs\")\n",
    "print(\"output_path = \", output_path)\n",
    "\n",
    "output_thredds_url = f\"{pavics_url}:8083/thredds/wms/birdhouse/{output_path}\"\n",
    "output_thredds_url"
   ]
  },
  {
   "cell_type": "markdown",
   "metadata": {},
   "source": [
    "Using ipyleaflet again, we can connect to this wms service."
   ]
  },
  {
   "cell_type": "code",
   "execution_count": 26,
   "metadata": {},
   "outputs": [
    {
     "data": {
      "application/vnd.jupyter.widget-view+json": {
       "model_id": "59605bc6994940839590a74455090b18",
       "version_major": 2,
       "version_minor": 0
      },
      "text/plain": [
       "Map(basemap={'url': 'https://{s}.tile.openstreetmap.org/{z}/{x}/{y}.png', 'max_zoom': 19, 'attribution': 'Map …"
      ]
     },
     "metadata": {},
     "output_type": "display_data"
    }
   ],
   "source": [
    "def show_wms(url):\n",
    "    canada_center = (52.4292, -93.2959)\n",
    "    \n",
    "    wms = ipyleaflet.WMSLayer(\n",
    "        url=url,\n",
    "        layers=\"heat_wave_frequency\",\n",
    "        styles=\"boxfill/ferret\",\n",
    "        format=\"image/png\",\n",
    "        transparent=True,\n",
    "        opacity=1,\n",
    "        version=\"1.3.0\",\n",
    "    )\n",
    "    basemap_layer = ipyleaflet.basemap_to_tiles(ipyleaflet.basemaps.Stamen.Terrain)\n",
    "    m = ipyleaflet.Map(\n",
    "        layers=(basemap_layer, wms),\n",
    "        center=canada_center,\n",
    "        zoom=4,\n",
    "    )\n",
    "    return m\n",
    "    \n",
    "m = show_wms(output_thredds_url)\n",
    "m"
   ]
  },
  {
   "cell_type": "code",
   "execution_count": null,
   "metadata": {},
   "outputs": [],
   "source": []
  }
 ],
 "metadata": {
  "kernelspec": {
   "display_name": "Python 3",
   "language": "python",
   "name": "python3"
  },
  "language_info": {
   "codemirror_mode": {
    "name": "ipython",
    "version": 3
   },
   "file_extension": ".py",
   "mimetype": "text/x-python",
   "name": "python",
   "nbconvert_exporter": "python",
   "pygments_lexer": "ipython3",
   "version": "3.7.3"
  },
  "pycharm": {
   "stem_cell": {
    "cell_type": "raw",
    "source": [],
    "metadata": {
     "collapsed": false
    }
   }
  }
 },
 "nbformat": 4,
 "nbformat_minor": 4
}