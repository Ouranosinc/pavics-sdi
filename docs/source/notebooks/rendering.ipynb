{
 "cells": [
  {
   "cell_type": "markdown",
   "metadata": {},
   "source": [
    "# Gridded Data Renderer\n",
    "\n",
    "PAVICS uses THREDDS WMS service to render netCDF data on a map canvas. The WMS `GetMap` operation passers the layer identification (`<variable name>`), styles, figure size and format, projection and color range and the server returns an image that can be displayed in a figure or a map canvas. "
   ]
  },
  {
   "cell_type": "code",
   "execution_count": 1,
   "metadata": {},
   "outputs": [
    {
     "ename": "HTTPError",
     "evalue": "404 Client Error:  for url: https://pavics.ouranos.ca/twitcher/ows/proxy/thredds/wms/birdhouse/testdata/flyingpigeon/cmip5/tasmax_Amon_MPI-ESM-MR_rcp45_r2i1p1_200601-200612.nc?service=WMS&version=1.3.0&request=GetMap&layers=tasmax&styles=&width=256&height=256&crs=CRS%3A84&bbox=150%2C30%2C250%2C80&format=image%2Fpng&transparent=TRUE&exceptions=XML&bgcolor=0xFFFFFF&time=2006-02-15&colorscalerange=250%2C350",
     "output_type": "error",
     "traceback": [
      "\u001b[31m---------------------------------------------------------------------------\u001b[39m",
      "\u001b[31mHTTPError\u001b[39m                                 Traceback (most recent call last)",
      "\u001b[36mCell\u001b[39m\u001b[36m \u001b[39m\u001b[32mIn[1]\u001b[39m\u001b[32m, line 7\u001b[39m\n\u001b[32m      5\u001b[39m path = \u001b[33m\"\u001b[39m\u001b[33m/birdhouse/testdata/flyingpigeon/cmip5/tasmax_Amon_MPI-ESM-MR_rcp45_r2i1p1_200601-200612.nc\u001b[39m\u001b[33m\"\u001b[39m\n\u001b[32m      6\u001b[39m wms = WebMapService(server + \u001b[33m\"\u001b[39m\u001b[33mwms\u001b[39m\u001b[33m\"\u001b[39m + path, version=\u001b[33m\"\u001b[39m\u001b[33m1.3.0\u001b[39m\u001b[33m\"\u001b[39m)\n\u001b[32m----> \u001b[39m\u001b[32m7\u001b[39m resp = \u001b[43mwms\u001b[49m\u001b[43m.\u001b[49m\u001b[43mgetmap\u001b[49m\u001b[43m(\u001b[49m\n\u001b[32m      8\u001b[39m \u001b[43m    \u001b[49m\u001b[43mlayers\u001b[49m\u001b[43m=\u001b[49m\u001b[43m[\u001b[49m\u001b[33;43m\"\u001b[39;49m\u001b[33;43mtasmax\u001b[39;49m\u001b[33;43m\"\u001b[39;49m\u001b[43m]\u001b[49m\u001b[43m,\u001b[49m\n\u001b[32m      9\u001b[39m \u001b[43m    \u001b[49m\u001b[38;5;28;43mformat\u001b[39;49m\u001b[43m=\u001b[49m\u001b[33;43m\"\u001b[39;49m\u001b[33;43mimage/png\u001b[39;49m\u001b[33;43m\"\u001b[39;49m\u001b[43m,\u001b[49m\n\u001b[32m     10\u001b[39m \u001b[43m    \u001b[49m\u001b[43mcolorscalerange\u001b[49m\u001b[43m=\u001b[49m\u001b[33;43mf\u001b[39;49m\u001b[33;43m\"\u001b[39;49m\u001b[38;5;132;43;01m{\u001b[39;49;00m\u001b[32;43m250\u001b[39;49m\u001b[38;5;132;43;01m}\u001b[39;49;00m\u001b[33;43m,\u001b[39;49m\u001b[38;5;132;43;01m{\u001b[39;49;00m\u001b[32;43m350\u001b[39;49m\u001b[38;5;132;43;01m}\u001b[39;49;00m\u001b[33;43m\"\u001b[39;49m\u001b[43m,\u001b[49m\n\u001b[32m     11\u001b[39m \u001b[43m    \u001b[49m\u001b[43msize\u001b[49m\u001b[43m=\u001b[49m\u001b[43m[\u001b[49m\u001b[32;43m256\u001b[39;49m\u001b[43m,\u001b[49m\u001b[43m \u001b[49m\u001b[32;43m256\u001b[39;49m\u001b[43m]\u001b[49m\u001b[43m,\u001b[49m\n\u001b[32m     12\u001b[39m \u001b[43m    \u001b[49m\u001b[43msrs\u001b[49m\u001b[43m=\u001b[49m\u001b[33;43m\"\u001b[39;49m\u001b[33;43mCRS:84\u001b[39;49m\u001b[33;43m\"\u001b[39;49m\u001b[43m,\u001b[49m\n\u001b[32m     13\u001b[39m \u001b[43m    \u001b[49m\u001b[43mbbox\u001b[49m\u001b[43m=\u001b[49m\u001b[43m(\u001b[49m\u001b[32;43m150\u001b[39;49m\u001b[43m,\u001b[49m\u001b[43m \u001b[49m\u001b[32;43m30\u001b[39;49m\u001b[43m,\u001b[49m\u001b[43m \u001b[49m\u001b[32;43m250\u001b[39;49m\u001b[43m,\u001b[49m\u001b[43m \u001b[49m\u001b[32;43m80\u001b[39;49m\u001b[43m)\u001b[49m\u001b[43m,\u001b[49m\n\u001b[32m     14\u001b[39m \u001b[43m    \u001b[49m\u001b[43mtime\u001b[49m\u001b[43m=\u001b[49m\u001b[33;43m\"\u001b[39;49m\u001b[33;43m2006-02-15\u001b[39;49m\u001b[33;43m\"\u001b[39;49m\u001b[43m,\u001b[49m\n\u001b[32m     15\u001b[39m \u001b[43m    \u001b[49m\u001b[43mtransparent\u001b[49m\u001b[43m=\u001b[49m\u001b[38;5;28;43;01mTrue\u001b[39;49;00m\u001b[43m,\u001b[49m\n\u001b[32m     16\u001b[39m \u001b[43m)\u001b[49m\n\u001b[32m     17\u001b[39m Image(resp.read())\n",
      "\u001b[36mFile \u001b[39m\u001b[32m/opt/conda/envs/birdy/lib/python3.11/site-packages/owslib/map/wms130.py:309\u001b[39m, in \u001b[36mWebMapService_1_3_0.getmap\u001b[39m\u001b[34m(self, layers, styles, srs, bbox, format, size, time, elevation, dimensions, transparent, bgcolor, exceptions, method, timeout, **kwargs)\u001b[39m\n\u001b[32m    305\u001b[39m data = urlencode(request)\n\u001b[32m    307\u001b[39m \u001b[38;5;28mself\u001b[39m.request = bind_url(base_url) + data\n\u001b[32m--> \u001b[39m\u001b[32m309\u001b[39m u = \u001b[43mopenURL\u001b[49m\u001b[43m(\u001b[49m\u001b[43mbase_url\u001b[49m\u001b[43m,\u001b[49m\u001b[43m \u001b[49m\u001b[43mdata\u001b[49m\u001b[43m,\u001b[49m\u001b[43m \u001b[49m\u001b[43mmethod\u001b[49m\u001b[43m,\u001b[49m\u001b[43m \u001b[49m\u001b[43mtimeout\u001b[49m\u001b[43m=\u001b[49m\u001b[43mtimeout\u001b[49m\u001b[43m \u001b[49m\u001b[38;5;129;43;01mor\u001b[39;49;00m\u001b[43m \u001b[49m\u001b[38;5;28;43mself\u001b[39;49m\u001b[43m.\u001b[49m\u001b[43mtimeout\u001b[49m\u001b[43m,\u001b[49m\u001b[43m \u001b[49m\u001b[43mauth\u001b[49m\u001b[43m=\u001b[49m\u001b[38;5;28;43mself\u001b[39;49m\u001b[43m.\u001b[49m\u001b[43mauth\u001b[49m\u001b[43m,\u001b[49m\u001b[43m \u001b[49m\u001b[43mheaders\u001b[49m\u001b[43m=\u001b[49m\u001b[38;5;28;43mself\u001b[39;49m\u001b[43m.\u001b[49m\u001b[43mheaders\u001b[49m\u001b[43m)\u001b[49m\n\u001b[32m    311\u001b[39m \u001b[38;5;66;03m# need to handle casing in the header keys\u001b[39;00m\n\u001b[32m    312\u001b[39m headers = {}\n",
      "\u001b[36mFile \u001b[39m\u001b[32m/opt/conda/envs/birdy/lib/python3.11/site-packages/owslib/util.py:213\u001b[39m, in \u001b[36mopenURL\u001b[39m\u001b[34m(url_base, data, method, cookies, username, password, timeout, headers, verify, cert, auth)\u001b[39m\n\u001b[32m    210\u001b[39m     \u001b[38;5;28;01mraise\u001b[39;00m ServiceException(req.text)\n\u001b[32m    212\u001b[39m \u001b[38;5;28;01mif\u001b[39;00m req.status_code \u001b[38;5;129;01min\u001b[39;00m [\u001b[32m404\u001b[39m, \u001b[32m500\u001b[39m, \u001b[32m502\u001b[39m, \u001b[32m503\u001b[39m, \u001b[32m504\u001b[39m]:    \u001b[38;5;66;03m# add more if needed\u001b[39;00m\n\u001b[32m--> \u001b[39m\u001b[32m213\u001b[39m     \u001b[43mreq\u001b[49m\u001b[43m.\u001b[49m\u001b[43mraise_for_status\u001b[49m\u001b[43m(\u001b[49m\u001b[43m)\u001b[49m\n\u001b[32m    215\u001b[39m \u001b[38;5;66;03m# check for service exceptions without the http header set\u001b[39;00m\n\u001b[32m    216\u001b[39m \u001b[38;5;28;01mif\u001b[39;00m \u001b[33m'\u001b[39m\u001b[33mContent-Type\u001b[39m\u001b[33m'\u001b[39m \u001b[38;5;129;01min\u001b[39;00m req.headers \u001b[38;5;129;01mand\u001b[39;00m \\\n\u001b[32m    217\u001b[39m         req.headers[\u001b[33m'\u001b[39m\u001b[33mContent-Type\u001b[39m\u001b[33m'\u001b[39m] \u001b[38;5;129;01min\u001b[39;00m [\u001b[33m'\u001b[39m\u001b[33mtext/xml\u001b[39m\u001b[33m'\u001b[39m, \u001b[33m'\u001b[39m\u001b[33mapplication/xml\u001b[39m\u001b[33m'\u001b[39m, \u001b[33m'\u001b[39m\u001b[33mapplication/vnd.ogc.se_xml\u001b[39m\u001b[33m'\u001b[39m]:\n\u001b[32m    218\u001b[39m     \u001b[38;5;66;03m# just in case 400 headers were not set, going to have to read the xml to see if it's an exception report.\u001b[39;00m\n",
      "\u001b[36mFile \u001b[39m\u001b[32m/opt/conda/envs/birdy/lib/python3.11/site-packages/requests/models.py:1024\u001b[39m, in \u001b[36mResponse.raise_for_status\u001b[39m\u001b[34m(self)\u001b[39m\n\u001b[32m   1019\u001b[39m     http_error_msg = (\n\u001b[32m   1020\u001b[39m         \u001b[33mf\u001b[39m\u001b[33m\"\u001b[39m\u001b[38;5;132;01m{\u001b[39;00m\u001b[38;5;28mself\u001b[39m.status_code\u001b[38;5;132;01m}\u001b[39;00m\u001b[33m Server Error: \u001b[39m\u001b[38;5;132;01m{\u001b[39;00mreason\u001b[38;5;132;01m}\u001b[39;00m\u001b[33m for url: \u001b[39m\u001b[38;5;132;01m{\u001b[39;00m\u001b[38;5;28mself\u001b[39m.url\u001b[38;5;132;01m}\u001b[39;00m\u001b[33m\"\u001b[39m\n\u001b[32m   1021\u001b[39m     )\n\u001b[32m   1023\u001b[39m \u001b[38;5;28;01mif\u001b[39;00m http_error_msg:\n\u001b[32m-> \u001b[39m\u001b[32m1024\u001b[39m     \u001b[38;5;28;01mraise\u001b[39;00m HTTPError(http_error_msg, response=\u001b[38;5;28mself\u001b[39m)\n",
      "\u001b[31mHTTPError\u001b[39m: 404 Client Error:  for url: https://pavics.ouranos.ca/twitcher/ows/proxy/thredds/wms/birdhouse/testdata/flyingpigeon/cmip5/tasmax_Amon_MPI-ESM-MR_rcp45_r2i1p1_200601-200612.nc?service=WMS&version=1.3.0&request=GetMap&layers=tasmax&styles=&width=256&height=256&crs=CRS%3A84&bbox=150%2C30%2C250%2C80&format=image%2Fpng&transparent=TRUE&exceptions=XML&bgcolor=0xFFFFFF&time=2006-02-15&colorscalerange=250%2C350"
     ]
    }
   ],
   "source": [
    "from IPython.display import Image\n",
    "from owslib.wms import WebMapService\n",
    "\n",
    "server = \"https://pavics.ouranos.ca/twitcher/ows/proxy/thredds/\"\n",
    "path = \"/birdhouse/testdata/flyingpigeon/cmip5/tasmax_Amon_MPI-ESM-MR_rcp45_r2i1p1_200601-200612.nc\"\n",
    "wms = WebMapService(server + \"wms\" + path, version=\"1.3.0\")\n",
    "resp = wms.getmap(\n",
    "    layers=[\"tasmax\"],\n",
    "    format=\"image/png\",\n",
    "    colorscalerange=f\"{250},{350}\",\n",
    "    size=[256, 256],\n",
    "    srs=\"CRS:84\",\n",
    "    bbox=(150, 30, 250, 80),\n",
    "    time=\"2006-02-15\",\n",
    "    transparent=True,\n",
    ")\n",
    "Image(resp.read())"
   ]
  },
  {
   "cell_type": "markdown",
   "metadata": {},
   "source": [
    "One issue with the figure above is the colorscale range and the colormap, which do not provide a lot of contrast. So lets get a copy of the data using the OPeNDAP protocol to find the actual minimum and maximum values. "
   ]
  },
  {
   "cell_type": "code",
   "execution_count": 2,
   "metadata": {},
   "outputs": [
    {
     "data": {
      "text/plain": [
       "(235.5495147705078, 306.79168701171875)"
      ]
     },
     "execution_count": 2,
     "metadata": {},
     "output_type": "execute_result"
    }
   ],
   "source": [
    "import xarray as xr\n",
    "\n",
    "ds = xr.open_dataset(server + \"dodsC\" + path)\n",
    "subtas = ds.tasmax.sel(\n",
    "    time=slice(\"2006-02-01\", \"2006-03-01\"), lon=slice(188, 330), lat=slice(6, 70)\n",
    ")\n",
    "mn, mx = subtas.min().values.tolist(), subtas.max().values.tolist()\n",
    "mn, mx"
   ]
  },
  {
   "cell_type": "markdown",
   "metadata": {},
   "source": [
    "Now we'll simply pass those min/max to `getmap` with the colorscalerange parameter, and change the palette in the same go using the `styles` parameter. The supported styles are stored in the layer's metadata."
   ]
  },
  {
   "cell_type": "code",
   "execution_count": 3,
   "metadata": {},
   "outputs": [
    {
     "data": {
      "text/plain": [
       "['colored_contours/default',\n",
       " 'contours',\n",
       " 'default-scalar/default',\n",
       " 'raster/default']"
      ]
     },
     "execution_count": 3,
     "metadata": {},
     "output_type": "execute_result"
    }
   ],
   "source": [
    "sorted(wms.contents[\"tasmax\"].styles.keys())"
   ]
  },
  {
   "cell_type": "code",
   "execution_count": 4,
   "metadata": {
    "tags": []
   },
   "outputs": [
    {
     "ename": "HTTPError",
     "evalue": "404 Client Error:  for url: https://pavics.ouranos.ca/twitcher/ows/proxy/thredds/wms/birdhouse/testdata/flyingpigeon/cmip5/tasmax_Amon_MPI-ESM-MR_rcp45_r2i1p1_200601-200612.nc?service=WMS&version=1.3.0&request=GetMap&layers=tasmax&styles=default-scalar%2Fdefault&width=256&height=256&crs=CRS%3A84&bbox=150%2C30%2C250%2C80&format=image%2Fpng&transparent=TRUE&exceptions=XML&bgcolor=0xFFFFFF&time=2006-02-15&colorscalerange=235.5495147705078%2C306.79168701171875",
     "output_type": "error",
     "traceback": [
      "\u001b[31m---------------------------------------------------------------------------\u001b[39m",
      "\u001b[31mHTTPError\u001b[39m                                 Traceback (most recent call last)",
      "\u001b[36mCell\u001b[39m\u001b[36m \u001b[39m\u001b[32mIn[4]\u001b[39m\u001b[32m, line 1\u001b[39m\n\u001b[32m----> \u001b[39m\u001b[32m1\u001b[39m resp = \u001b[43mwms\u001b[49m\u001b[43m.\u001b[49m\u001b[43mgetmap\u001b[49m\u001b[43m(\u001b[49m\n\u001b[32m      2\u001b[39m \u001b[43m    \u001b[49m\u001b[43mlayers\u001b[49m\u001b[43m=\u001b[49m\u001b[43m[\u001b[49m\u001b[33;43m\"\u001b[39;49m\u001b[33;43mtasmax\u001b[39;49m\u001b[33;43m\"\u001b[39;49m\u001b[43m]\u001b[49m\u001b[43m,\u001b[49m\n\u001b[32m      3\u001b[39m \u001b[43m    \u001b[49m\u001b[43mstyles\u001b[49m\u001b[43m=\u001b[49m\u001b[43m[\u001b[49m\u001b[33;43m\"\u001b[39;49m\u001b[33;43mdefault-scalar/default\u001b[39;49m\u001b[33;43m\"\u001b[39;49m\u001b[43m]\u001b[49m\u001b[43m,\u001b[49m\n\u001b[32m      4\u001b[39m \u001b[43m    \u001b[49m\u001b[38;5;28;43mformat\u001b[39;49m\u001b[43m=\u001b[49m\u001b[33;43m\"\u001b[39;49m\u001b[33;43mimage/png\u001b[39;49m\u001b[33;43m\"\u001b[39;49m\u001b[43m,\u001b[49m\n\u001b[32m      5\u001b[39m \u001b[43m    \u001b[49m\u001b[43mcolorscalerange\u001b[49m\u001b[43m=\u001b[49m\u001b[33;43mf\u001b[39;49m\u001b[33;43m\"\u001b[39;49m\u001b[38;5;132;43;01m{\u001b[39;49;00m\u001b[43mmn\u001b[49m\u001b[38;5;132;43;01m}\u001b[39;49;00m\u001b[33;43m,\u001b[39;49m\u001b[38;5;132;43;01m{\u001b[39;49;00m\u001b[43mmx\u001b[49m\u001b[38;5;132;43;01m}\u001b[39;49;00m\u001b[33;43m\"\u001b[39;49m\u001b[43m,\u001b[49m\n\u001b[32m      6\u001b[39m \u001b[43m    \u001b[49m\u001b[43msize\u001b[49m\u001b[43m=\u001b[49m\u001b[43m[\u001b[49m\u001b[32;43m256\u001b[39;49m\u001b[43m,\u001b[49m\u001b[43m \u001b[49m\u001b[32;43m256\u001b[39;49m\u001b[43m]\u001b[49m\u001b[43m,\u001b[49m\n\u001b[32m      7\u001b[39m \u001b[43m    \u001b[49m\u001b[43msrs\u001b[49m\u001b[43m=\u001b[49m\u001b[33;43m\"\u001b[39;49m\u001b[33;43mCRS:84\u001b[39;49m\u001b[33;43m\"\u001b[39;49m\u001b[43m,\u001b[49m\n\u001b[32m      8\u001b[39m \u001b[43m    \u001b[49m\u001b[43mbbox\u001b[49m\u001b[43m=\u001b[49m\u001b[43m(\u001b[49m\u001b[32;43m150\u001b[39;49m\u001b[43m,\u001b[49m\u001b[43m \u001b[49m\u001b[32;43m30\u001b[39;49m\u001b[43m,\u001b[49m\u001b[43m \u001b[49m\u001b[32;43m250\u001b[39;49m\u001b[43m,\u001b[49m\u001b[43m \u001b[49m\u001b[32;43m80\u001b[39;49m\u001b[43m)\u001b[49m\u001b[43m,\u001b[49m\n\u001b[32m      9\u001b[39m \u001b[43m    \u001b[49m\u001b[43mtime\u001b[49m\u001b[43m=\u001b[49m\u001b[33;43m\"\u001b[39;49m\u001b[33;43m2006-02-15\u001b[39;49m\u001b[33;43m\"\u001b[39;49m\u001b[43m,\u001b[49m\n\u001b[32m     10\u001b[39m \u001b[43m    \u001b[49m\u001b[43mtransparent\u001b[49m\u001b[43m=\u001b[49m\u001b[38;5;28;43;01mTrue\u001b[39;49;00m\u001b[43m,\u001b[49m\n\u001b[32m     11\u001b[39m \u001b[43m)\u001b[49m\n\u001b[32m     12\u001b[39m Image(resp.read())\n",
      "\u001b[36mFile \u001b[39m\u001b[32m/opt/conda/envs/birdy/lib/python3.11/site-packages/owslib/map/wms130.py:309\u001b[39m, in \u001b[36mWebMapService_1_3_0.getmap\u001b[39m\u001b[34m(self, layers, styles, srs, bbox, format, size, time, elevation, dimensions, transparent, bgcolor, exceptions, method, timeout, **kwargs)\u001b[39m\n\u001b[32m    305\u001b[39m data = urlencode(request)\n\u001b[32m    307\u001b[39m \u001b[38;5;28mself\u001b[39m.request = bind_url(base_url) + data\n\u001b[32m--> \u001b[39m\u001b[32m309\u001b[39m u = \u001b[43mopenURL\u001b[49m\u001b[43m(\u001b[49m\u001b[43mbase_url\u001b[49m\u001b[43m,\u001b[49m\u001b[43m \u001b[49m\u001b[43mdata\u001b[49m\u001b[43m,\u001b[49m\u001b[43m \u001b[49m\u001b[43mmethod\u001b[49m\u001b[43m,\u001b[49m\u001b[43m \u001b[49m\u001b[43mtimeout\u001b[49m\u001b[43m=\u001b[49m\u001b[43mtimeout\u001b[49m\u001b[43m \u001b[49m\u001b[38;5;129;43;01mor\u001b[39;49;00m\u001b[43m \u001b[49m\u001b[38;5;28;43mself\u001b[39;49m\u001b[43m.\u001b[49m\u001b[43mtimeout\u001b[49m\u001b[43m,\u001b[49m\u001b[43m \u001b[49m\u001b[43mauth\u001b[49m\u001b[43m=\u001b[49m\u001b[38;5;28;43mself\u001b[39;49m\u001b[43m.\u001b[49m\u001b[43mauth\u001b[49m\u001b[43m,\u001b[49m\u001b[43m \u001b[49m\u001b[43mheaders\u001b[49m\u001b[43m=\u001b[49m\u001b[38;5;28;43mself\u001b[39;49m\u001b[43m.\u001b[49m\u001b[43mheaders\u001b[49m\u001b[43m)\u001b[49m\n\u001b[32m    311\u001b[39m \u001b[38;5;66;03m# need to handle casing in the header keys\u001b[39;00m\n\u001b[32m    312\u001b[39m headers = {}\n",
      "\u001b[36mFile \u001b[39m\u001b[32m/opt/conda/envs/birdy/lib/python3.11/site-packages/owslib/util.py:213\u001b[39m, in \u001b[36mopenURL\u001b[39m\u001b[34m(url_base, data, method, cookies, username, password, timeout, headers, verify, cert, auth)\u001b[39m\n\u001b[32m    210\u001b[39m     \u001b[38;5;28;01mraise\u001b[39;00m ServiceException(req.text)\n\u001b[32m    212\u001b[39m \u001b[38;5;28;01mif\u001b[39;00m req.status_code \u001b[38;5;129;01min\u001b[39;00m [\u001b[32m404\u001b[39m, \u001b[32m500\u001b[39m, \u001b[32m502\u001b[39m, \u001b[32m503\u001b[39m, \u001b[32m504\u001b[39m]:    \u001b[38;5;66;03m# add more if needed\u001b[39;00m\n\u001b[32m--> \u001b[39m\u001b[32m213\u001b[39m     \u001b[43mreq\u001b[49m\u001b[43m.\u001b[49m\u001b[43mraise_for_status\u001b[49m\u001b[43m(\u001b[49m\u001b[43m)\u001b[49m\n\u001b[32m    215\u001b[39m \u001b[38;5;66;03m# check for service exceptions without the http header set\u001b[39;00m\n\u001b[32m    216\u001b[39m \u001b[38;5;28;01mif\u001b[39;00m \u001b[33m'\u001b[39m\u001b[33mContent-Type\u001b[39m\u001b[33m'\u001b[39m \u001b[38;5;129;01min\u001b[39;00m req.headers \u001b[38;5;129;01mand\u001b[39;00m \\\n\u001b[32m    217\u001b[39m         req.headers[\u001b[33m'\u001b[39m\u001b[33mContent-Type\u001b[39m\u001b[33m'\u001b[39m] \u001b[38;5;129;01min\u001b[39;00m [\u001b[33m'\u001b[39m\u001b[33mtext/xml\u001b[39m\u001b[33m'\u001b[39m, \u001b[33m'\u001b[39m\u001b[33mapplication/xml\u001b[39m\u001b[33m'\u001b[39m, \u001b[33m'\u001b[39m\u001b[33mapplication/vnd.ogc.se_xml\u001b[39m\u001b[33m'\u001b[39m]:\n\u001b[32m    218\u001b[39m     \u001b[38;5;66;03m# just in case 400 headers were not set, going to have to read the xml to see if it's an exception report.\u001b[39;00m\n",
      "\u001b[36mFile \u001b[39m\u001b[32m/opt/conda/envs/birdy/lib/python3.11/site-packages/requests/models.py:1024\u001b[39m, in \u001b[36mResponse.raise_for_status\u001b[39m\u001b[34m(self)\u001b[39m\n\u001b[32m   1019\u001b[39m     http_error_msg = (\n\u001b[32m   1020\u001b[39m         \u001b[33mf\u001b[39m\u001b[33m\"\u001b[39m\u001b[38;5;132;01m{\u001b[39;00m\u001b[38;5;28mself\u001b[39m.status_code\u001b[38;5;132;01m}\u001b[39;00m\u001b[33m Server Error: \u001b[39m\u001b[38;5;132;01m{\u001b[39;00mreason\u001b[38;5;132;01m}\u001b[39;00m\u001b[33m for url: \u001b[39m\u001b[38;5;132;01m{\u001b[39;00m\u001b[38;5;28mself\u001b[39m.url\u001b[38;5;132;01m}\u001b[39;00m\u001b[33m\"\u001b[39m\n\u001b[32m   1021\u001b[39m     )\n\u001b[32m   1023\u001b[39m \u001b[38;5;28;01mif\u001b[39;00m http_error_msg:\n\u001b[32m-> \u001b[39m\u001b[32m1024\u001b[39m     \u001b[38;5;28;01mraise\u001b[39;00m HTTPError(http_error_msg, response=\u001b[38;5;28mself\u001b[39m)\n",
      "\u001b[31mHTTPError\u001b[39m: 404 Client Error:  for url: https://pavics.ouranos.ca/twitcher/ows/proxy/thredds/wms/birdhouse/testdata/flyingpigeon/cmip5/tasmax_Amon_MPI-ESM-MR_rcp45_r2i1p1_200601-200612.nc?service=WMS&version=1.3.0&request=GetMap&layers=tasmax&styles=default-scalar%2Fdefault&width=256&height=256&crs=CRS%3A84&bbox=150%2C30%2C250%2C80&format=image%2Fpng&transparent=TRUE&exceptions=XML&bgcolor=0xFFFFFF&time=2006-02-15&colorscalerange=235.5495147705078%2C306.79168701171875"
     ]
    }
   ],
   "source": [
    "resp = wms.getmap(\n",
    "    layers=[\"tasmax\"],\n",
    "    styles=[\"default-scalar/default\"],\n",
    "    format=\"image/png\",\n",
    "    colorscalerange=f\"{mn},{mx}\",\n",
    "    size=[256, 256],\n",
    "    srs=\"CRS:84\",\n",
    "    bbox=(150, 30, 250, 80),\n",
    "    time=\"2006-02-15\",\n",
    "    transparent=True,\n",
    ")\n",
    "Image(resp.read())"
   ]
  }
 ],
 "metadata": {
  "kernelspec": {
   "display_name": "Python 3 (ipykernel)",
   "language": "python",
   "name": "python3"
  },
  "language_info": {
   "codemirror_mode": {
    "name": "ipython",
    "version": 3
   },
   "file_extension": ".py",
   "mimetype": "text/x-python",
   "name": "python",
   "nbconvert_exporter": "python",
   "pygments_lexer": "ipython3",
   "version": "3.11.12"
  }
 },
 "nbformat": 4,
 "nbformat_minor": 4
}
