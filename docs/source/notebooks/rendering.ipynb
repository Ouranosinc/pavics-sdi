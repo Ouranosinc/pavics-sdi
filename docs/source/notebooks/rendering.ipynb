{
 "cells": [
  {
   "cell_type": "markdown",
   "metadata": {},
   "source": [
    "## Gridded Data Renderer\n",
    "\n",
    "PAVICS uses THREDDS WMS service to render netCDF data on a map canvas. The WMS `GetMap` operation passers the layer identification (`<variable name>`), styles, figure size and format, projection and color range and the server returns an image that can be displayed in a figure or a map canvas. "
   ]
  },
  {
   "cell_type": "code",
   "execution_count": 1,
   "metadata": {},
   "outputs": [
    {
     "data": {
      "image/png": "[encoded data removed]",
      "text/plain": [
       "<IPython.core.display.Image object>"
      ]
     },
     "execution_count": 1,
     "metadata": {},
     "output_type": "execute_result"
    }
   ],
   "source": [
    "from IPython.display import Image\n",
    "from owslib.wms import WebMapService\n",
    "\n",
    "server = \"https://pavics.ouranos.ca/twitcher/ows/proxy/thredds/\"\n",
    "path = \"/birdhouse/testdata/flyingpigeon/cmip5/tasmax_Amon_MPI-ESM-MR_rcp45_r2i1p1_200601-200612.nc\"\n",
    "wms = WebMapService(server + \"wms\" + path, version=\"1.3.0\")\n",
    "resp = wms.getmap(\n",
    "    layers=[\"tasmax\"],\n",
    "    format=\"image/png\",\n",
    "    colorscalerange=f\"{250},{350}\",\n",
    "    size=[256, 256],\n",
    "    srs=\"CRS:84\",\n",
    "    bbox=(150, 30, 250, 80),\n",
    "    time=\"2006-02-15\",\n",
    "    transparent=True,\n",
    ")\n",
    "Image(resp.read())"
   ]
  },
  {
   "cell_type": "markdown",
   "metadata": {},
   "source": [
    "One issue with the figure above is the colorscale range and the colormap, which do not provide a lot of contrast. So lets get a copy of the data using the OPeNDAP protocol to find the actual minimum and maximum values. "
   ]
  },
  {
   "cell_type": "code",
   "execution_count": 2,
   "metadata": {},
   "outputs": [
    {
     "data": {
      "text/plain": [
       "(235.5495147705078, 306.79168701171875)"
      ]
     },
     "execution_count": 2,
     "metadata": {},
     "output_type": "execute_result"
    }
   ],
   "source": [
    "import xarray as xr\n",
    "\n",
    "ds = xr.open_dataset(server + \"dodsC\" + path)\n",
    "subtas = ds.tasmax.sel(\n",
    "    time=slice(\"2006-02-01\", \"2006-03-01\"), lon=slice(188, 330), lat=slice(6, 70)\n",
    ")\n",
    "mn, mx = subtas.min().values.tolist(), subtas.max().values.tolist()\n",
    "mn, mx"
   ]
  },
  {
   "cell_type": "markdown",
   "metadata": {},
   "source": [
    "Now we'll simply pass those min/max to `getmap` with the colorscalerange parameter, and change the palette in the same go using the `styles` parameter. The supported styles are stored in the layer's metadata."
   ]
  },
  {
   "cell_type": "code",
   "execution_count": 3,
   "metadata": {},
   "outputs": [
    {
     "data": {
      "text/plain": [
       "['boxfill/alg',\n",
       " 'boxfill/alg2',\n",
       " 'boxfill/ferret',\n",
       " 'boxfill/greyscale',\n",
       " 'boxfill/ncview',\n",
       " 'boxfill/occam',\n",
       " 'boxfill/occam_pastel-30',\n",
       " 'boxfill/rainbow',\n",
       " 'boxfill/redblue',\n",
       " 'boxfill/sst_36']"
      ]
     },
     "execution_count": 3,
     "metadata": {},
     "output_type": "execute_result"
    }
   ],
   "source": [
    "sorted(wms.contents[\"tasmax\"].styles.keys())"
   ]
  },
  {
   "cell_type": "code",
   "execution_count": 4,
   "metadata": {},
   "outputs": [
    {
     "data": {
      "image/png": "[encoded data removed]",
      "text/plain": [
       "<IPython.core.display.Image object>"
      ]
     },
     "execution_count": 4,
     "metadata": {},
     "output_type": "execute_result"
    }
   ],
   "source": [
    "resp = wms.getmap(\n",
    "    layers=[\"tasmax\"],\n",
    "    styles=[\"boxfill/occam\"],\n",
    "    format=\"image/png\",\n",
    "    colorscalerange=f\"{mn},{mx}\",\n",
    "    size=[256, 256],\n",
    "    srs=\"CRS:84\",\n",
    "    bbox=(150, 30, 250, 80),\n",
    "    time=\"2006-02-15\",\n",
    "    transparent=True,\n",
    ")\n",
    "Image(resp.read())"
   ]
  }
 ],
 "metadata": {
  "kernelspec": {
   "display_name": "Python 3",
   "language": "python",
   "name": "python3"
  },
  "language_info": {
   "codemirror_mode": {
    "name": "ipython",
    "version": 3
   },
   "file_extension": ".py",
   "mimetype": "text/x-python",
   "name": "python",
   "nbconvert_exporter": "python",
   "pygments_lexer": "ipython3",
   "version": "3.7.9"
  }
 },
 "nbformat": 4,
 "nbformat_minor": 2
}
