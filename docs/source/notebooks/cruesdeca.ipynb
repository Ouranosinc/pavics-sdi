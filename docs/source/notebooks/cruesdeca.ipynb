{
 "cells": [
  {
   "cell_type": "markdown",
   "source": [
    "# Programmatic access to geospatial layers from decamillenial flood project\n",
    "\n",
    "The relative and absolute changes in 1,000 and 10,000 flood frequency values have been computed for over 500 watersheds using two climate projection large ensembles, CESM1 and CanESM2 (see [project overview](../projects/cruesdeca.rst) for more info). These results are available on the PAVICS GeoServer, and this notebook shows how to get access to those files from a programming environment.\n",
    "\n"
   ],
   "metadata": {
    "collapsed": false,
    "pycharm": {
     "name": "#%% md\n"
    }
   }
  },
  {
   "cell_type": "code",
   "execution_count": 59,
   "metadata": {},
   "outputs": [],
   "source": [
    "from owslib.wfs import WebFeatureService\n",
    "import geopandas as gpd\n",
    "\n",
    "# Connect to Ouranos' GeoServer WFS service.\n",
    "url = 'http://boreas.ouranos.ca/geoserver/wfs'\n",
    "wfs = WebFeatureService(url, version='2.0.0')\n",
    "\n",
    "layer = \"public:decamillenial_flood_CC_wip\"\n",
    "# The outputFormat is set to 'shape-zip', this is not great because field names are limited to 10 characters.\n",
    "# When GeoServer is updated to a newer version, then it will be possible to download the data in geopackage format.\n",
    "# The table includes NaNs, which are not supported by JSON.\n",
    "# KML transport apparently does not include table metadata (just the geometry)\n",
    "data = wfs.getfeature(typename=layer, outputFormat=\"shape-zip\")"
   ]
  },
  {
   "cell_type": "code",
   "execution_count": 62,
   "metadata": {},
   "outputs": [],
   "source": [
    "# Write the data to disk\n",
    "fn = 'output.zip'\n",
    "with open(fn, 'wb') as fh:\n",
    "    fh.write(data.read())"
   ]
  },
  {
   "cell_type": "code",
   "execution_count": 65,
   "metadata": {},
   "outputs": [],
   "source": [
    "# Open as a GeoDataFrame\n",
    "zipfile = \"zip:///home/david/src/pavics-sdi/docs/source/notebooks/output.zip\"\n",
    "df = gpd.read_file(zipfile)\n"
   ]
  },
  {
   "cell_type": "code",
   "execution_count": 17,
   "metadata": {
    "pycharm": {
     "name": "#%%\n"
    }
   },
   "outputs": [
    {
     "data": {
      "application/vnd.jupyter.widget-view+json": {
       "model_id": "9ec2c5b73ed948ee838701081e0888be",
       "version_major": 2,
       "version_minor": 0
      },
      "text/plain": [
       "Map(basemap={'url': 'https://{s}.tile.openstreetmap.org/{z}/{x}/{y}.png', 'max_zoom': 19, 'attribution': 'Map …"
      ]
     },
     "metadata": {},
     "output_type": "display_data"
    }
   ],
   "source": [
    "from birdy import IpyleafletWFS\n",
    "from ipyleaflet import Map\n",
    "\n",
    "url = 'http://boreas.ouranos.ca/geoserver/wfs'\n",
    "version = '2.0.0'\n",
    "\n",
    "wfs_connection = IpyleafletWFS(url, version)\n",
    "\n",
    "demo_map = Map(center=(52.42, -95.14), zoom=4)\n",
    "demo_map\n",
    "\n",
    "# Does not work due to JSON format not supporting NaNs.\n",
    "# wfs_connection.build_layer(layer_typename=layer, source_map=demo_map)\n",
    "\n",
    "\n"
   ]
  }
 ],
 "metadata": {
  "kernelspec": {
   "display_name": "Python 3",
   "language": "python",
   "name": "python3"
  },
  "language_info": {
   "codemirror_mode": {
    "name": "ipython",
    "version": 3
   },
   "file_extension": ".py",
   "mimetype": "text/x-python",
   "name": "python",
   "nbconvert_exporter": "python",
   "pygments_lexer": "ipython3",
   "version": "3.6.7"
  }
 },
 "nbformat": 4,
 "nbformat_minor": 2
}