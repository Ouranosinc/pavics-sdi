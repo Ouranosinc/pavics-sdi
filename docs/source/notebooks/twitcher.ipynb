{
 "cells": [
  {
   "cell_type": "code",
   "execution_count": null,
   "metadata": {},
   "outputs": [],
   "source": [
    "# Reproduce and test issue https://github.com/bird-house/twitcher/issues/97\n",
    "\n",
    "import xarray as xr\n",
    "\n",
    "def extract(url):\n",
    "    ds = xr.open_dataset(url, drop_variables=['ts', 'time_vectors'],\n",
    "                         chunks={'time': 256, 'lat': 16, 'lon': 16})\n",
    "    ds.isel(lon=slice(0, 10), lat=slice(0, 10)).to_netcdf('test.nc', compute=True)\n",
    "    \n",
    "testhost = 'https://pavics.ouranos.ca'\n",
    "# testhosthttp = 'http://pavics.ouranos.ca:8083'\n",
    "testfile = 'testdata/ouranos/cb-oura-1.0_rechunk/MPI-ESM-LR/rcp85/day/MPI-ESM-LR_rcp85_allvars.ncml'"
   ]
  },
  {
   "cell_type": "code",
   "execution_count": 2,
   "metadata": {},
   "outputs": [
    {
     "name": "stdout",
     "output_type": "stream",
     "text": [
      "CPU times: user 3.96 s, sys: 2.73 s, total: 6.69 s\n",
      "Wall time: 46.8 s\n"
     ]
    }
   ],
   "source": [
    "%%time\n",
    "# Thredds behind Nginx and Twitcher with bug (my test VM)\n",
    "baseurl = f\"{testhost}/twitcher/ows/proxy/thredds/dodsC/birdhouse/{testfile}\"\n",
    "extract(baseurl)"
   ]
  },
  {
   "cell_type": "code",
   "execution_count": 3,
   "metadata": {},
   "outputs": [
    {
     "name": "stdout",
     "output_type": "stream",
     "text": [
      "CPU times: user 3.89 s, sys: 2.26 s, total: 6.15 s\n",
      "Wall time: 22.8 s\n"
     ]
    }
   ],
   "source": [
    "%%time\n",
    "# Thredds behind Nginx (my test VM)\n",
    "baseurl = f\"{testhost}/testthredds/dodsC/testdatasets/{testfile}\"\n",
    "extract(baseurl)"
   ]
  },
  {
   "cell_type": "code",
   "execution_count": 4,
   "metadata": {},
   "outputs": [
    {
     "name": "stdout",
     "output_type": "stream",
     "text": [
      "CPU times: user 3.67 s, sys: 1.95 s, total: 5.61 s\n",
      "Wall time: 19.8 s\n"
     ]
    }
   ],
   "source": [
    "# %%time\n",
    "# # direct hit Thredds (my test VM)\n",
    "# baseurl = f\"{testhosthttp}/twitcher/ows/proxy/thredds/dodsC/birdhouse/{testfile}\"\n",
    "# extract(baseurl)"
   ]
  },
  {
   "cell_type": "code",
   "execution_count": 6,
   "metadata": {},
   "outputs": [
    {
     "name": "stdout",
     "output_type": "stream",
     "text": [
      "CPU times: user 4.08 s, sys: 2.37 s, total: 6.46 s\n",
      "Wall time: 47.6 s\n"
     ]
    }
   ],
   "source": [
    "%%time\n",
    "# Deploy fix (https://github.com/bird-house/birdhouse-deploy/commit/84df6c944b844814ca55e3db488473cd8fcf09d7), then test again here\n",
    "# Thredds behind Twitcher with fix (my test VM)\n",
    "baseurl = f\"{testhost}/twitcher/ows/proxy/thredds/dodsC/birdhouse/{testfile}\"\n",
    "extract(baseurl)"
   ]
  },
  {
   "cell_type": "code",
   "execution_count": null,
   "metadata": {},
   "outputs": [],
   "source": []
  }
 ],
 "metadata": {
  "kernelspec": {
   "display_name": "Python 3",
   "language": "python",
   "name": "python3"
  },
  "language_info": {
   "codemirror_mode": {
    "name": "ipython",
    "version": 3
   },
   "file_extension": ".py",
   "mimetype": "text/x-python",
   "name": "python",
   "nbconvert_exporter": "python",
   "pygments_lexer": "ipython3",
   "version": "3.6.8"
  }
 },
 "nbformat": 4,
 "nbformat_minor": 4
}
