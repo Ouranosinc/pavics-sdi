{
 "cells": [
  {
   "cell_type": "markdown",
   "metadata": {
    "pycharm": {
     "name": "#%% md\n"
    }
   },
   "source": [
    "## PAVICS Web Processing Services using OGC-API integration with Weaver\n",
    "\n",
    "When [Weaver component](https://github.com/bird-house/birdhouse-deploy/tree/master/birdhouse/components#weaver)\n",
    "is enabled, all WPS *birds* registered as process *providers* will be automatically accessible using\n",
    "[OGC-API - Processes][ogcapi-proc] interface from the endpoint where [Weaver][weaver] is defined.\n",
    "\n",
    "[weaver]: https://github.com/crim-ca/weaver\n",
    "[ogcapi-proc]: https://github.com/opengeospatial/ogcapi-processes/\n",
    "\n",
    "**NOTE**:\n",
    "\n",
    "> This test will only work when the component is enabled, and therefore requires explicit specification of test\n",
    "  execution using `WEAVER_TEST_ENABLED = true`\n"
   ]
  },
  {
   "cell_type": "code",
   "execution_count": 1,
   "metadata": {
    "collapsed": false,
    "jupyter": {
     "outputs_hidden": false
    },
    "pycharm": {
     "name": "#%%\n"
    }
   },
   "outputs": [
    {
     "name": "stdout",
     "output_type": "stream",
     "text": [
      "Variables:\n",
      "  WEAVER_TEST_FQDN         pavics.ouranos.ca\n",
      "  WEAVER_TEST_URL          http://localhost:4002\n",
      "  WEAVER_TEST_FILE         https://host-140-4.rdext.crim.ca/twitcher/ows/proxy/thredds/dodsC/birdhouse/nrcan/nrcan_canada_daily/tasmin/nrcan_canada_daily_tasmin_2013.nc\n",
      "  WEAVER_TEST_KNOWN_BIRDS  ['catalog', 'finch', 'flyingpigeon', 'hummingbird', 'malleefowl', 'raven']\n"
     ]
    }
   ],
   "source": [
    "import json\n",
    "import requests\n",
    "import os\n",
    "import sys\n",
    "import time\n",
    "\n",
    "WEAVER_TEST_ENABLED=str(os.getenv(\"WEAVER_TEST_ENABLED\", \"false\")).lower()\n",
    "if WEAVER_TEST_ENABLED not in [\"true\", \"yes\", \"1\"]:\n",
    "    print(\"Weaver test not enabled. Skipping...\")\n",
    "    sys.exit(0)\n",
    "\n",
    "\n",
    "WEAVER_TEST_FQDN=os.getenv(\"WEAVER_TEST_FQDN\", os.getenv(\"PAVICS_HOST\", \"pavics.ouranos.ca\"))\n",
    "WEAVER_TEST_URL=os.getenv(\"WEAVER_TEST_URL\", \"https://{}/weaver\".format(WEAVER_TEST_FQDN))\n",
    "WEAVER_TEST_DEFAULT_BIRDS = \"catalog, finch, flyingpigeon, hummingbird, malleefowl, raven\"\n",
    "WEAVER_TEST_KNOWN_BIRDS=os.getenv(\"WEAVER_TEST_KNOWN_BIRDS\", WEAVER_TEST_DEFAULT_BIRDS)\n",
    "WEAVER_TEST_KNOWN_BIRDS=list(bird.strip() for bird in WEAVER_TEST_KNOWN_BIRDS.split(\",\"))\n",
    "assert len(WEAVER_TEST_KNOWN_BIRDS) >= 1, \"No test WPS provider provided in 'WEAVER_TEST_KNOWN_BIRDS'.\"\n",
    "\n",
    "WEAVER_TEST_DEFAULT_FILE = \"/twitcher/ows/proxy/thredds/dodsC/birdhouse/nrcan/nrcan_canada_daily/tasmin/nrcan_canada_daily_tasmin_2013.nc\"\n",
    "WEAVER_TEST_FILE = os.getenv(\"WEAVER_TEST_FILE\", \"https://{}{}\".format(WEAVER_TEST_FQDN, WEAVER_TEST_DEFAULT_FILE))\n",
    "\n",
    "WEAVER_HEADERS = {\"Accept\": \"application/json\", \"Content-Type\": \"application/json\"}\n",
    "\n",
    "\n",
    "def json_print(_json):\n",
    "    print(json.dumps(_json, indent=2, ensure_ascii=False))\n",
    "\n",
    "\n",
    "print(\"Variables:\")\n",
    "variables = [\n",
    "    (\"WEAVER_TEST_FQDN\", WEAVER_TEST_FQDN),\n",
    "    (\"WEAVER_TEST_URL\", WEAVER_TEST_URL),\n",
    "    (\"WEAVER_TEST_FILE\", WEAVER_TEST_FILE),\n",
    "    (\"WEAVER_TEST_KNOWN_BIRDS\", WEAVER_TEST_KNOWN_BIRDS),\n",
    "]\n",
    "max_len = max(len(var[0]) for var in variables) + 2\n",
    "msg = f\"  {{:{max_len}}}{{}}\"\n",
    "for var, val in variables:\n",
    "    print(msg.format(var, val))\n"
   ]
  },
  {
   "cell_type": "markdown",
   "metadata": {
    "pycharm": {
     "name": "#%% md\n"
    }
   },
   "source": [
    "### Start with simple listing of registered WPS providers in Weaver\n"
   ]
  },
  {
   "cell_type": "code",
   "execution_count": 3,
   "metadata": {
    "collapsed": false,
    "jupyter": {
     "outputs_hidden": false
    },
    "pycharm": {
     "name": "#%%\n"
    }
   },
   "outputs": [
    {
     "name": "stdout",
     "output_type": "stream",
     "text": [
      "Listing WPS providers registered under Weaver...\n",
      "\n",
      "{\"providers\":[{\"id\":\"hummingbird\",\"title\":\"Hummingbird 0.5_dev\",\"abstract\":\"WPS processes for general tools used in the climate science community like cdo and compliance checker.\",\"url\":\"http://localhost:4002/providers/hummingbird\",\"public\":false},{\"id\":\"hummingbird-69\",\"title\":\"Hummingbird 0.5_dev\",\"abstract\":\"WPS processes for general tools used in the climate science community like cdo and compliance checker.\",\"url\":\"http://localhost:4002/providers/hummingbird-69\",\"public\":false}]}\n",
      "{\n",
      "  \"providers\": [\n",
      "    {\n",
      "      \"id\": \"hummingbird\",\n",
      "      \"title\": \"Hummingbird 0.5_dev\",\n",
      "      \"abstract\": \"WPS processes for general tools used in the climate science community like cdo and compliance checker.\",\n",
      "      \"url\": \"http://localhost:4002/providers/hummingbird\",\n",
      "      \"public\": false\n",
      "    },\n",
      "    {\n",
      "      \"id\": \"hummingbird-69\",\n",
      "      \"title\": \"Hummingbird 0.5_dev\",\n",
      "      \"abstract\": \"WPS processes for general tools used in the climate science community like cdo and compliance checker.\",\n",
      "      \"url\": \"http://localhost:4002/providers/hummingbird-69\",\n",
      "      \"public\": false\n",
      "    }\n",
      "  ]\n",
      "}\n"
     ]
    }
   ],
   "source": [
    "print(\"Listing WPS providers registered under Weaver...\\n\")\n",
    "\n",
    "path = f\"{WEAVER_TEST_URL}/providers\"\n",
    "resp = requests.get(path, headers=WEAVER_HEADERS)\n",
    "print(resp.text)\n",
    "assert resp.status_code == 200, f\"Error during WPS bird providers listing:\\n[{resp.text}]\"\n",
    "body = resp.json()\n",
    "json_print(body)\n",
    "\n",
    "assert \"providers\" in body and len(body[\"providers\"]), \"Could not find Weaver WPS providers\"\n",
    "bird_ids = [bird[\"id\"] for bird in body[\"providers\"]]\n",
    "assert all(bird in bird_ids for bird in WEAVER_TEST_KNOWN_BIRDS), \"Could not find all expected Weaver WPS providers\"\n"
   ]
  },
  {
   "cell_type": "markdown",
   "metadata": {},
   "source": [
    "### Obtain OGC-API converted WPS processes by Weaver from original WPS providers endpoints\n",
    "\n",
    "For each registered provider, Weaver sends a *GetCapabilities* WPS request to the remote endpoint and parses\n",
    "the XML result in order to form the corresponding OGC-API JSON content."
   ]
  },
  {
   "cell_type": "code",
   "execution_count": 4,
   "metadata": {
    "collapsed": false,
    "jupyter": {
     "outputs_hidden": false
    },
    "pycharm": {
     "name": "#%%\n"
    }
   },
   "outputs": [
    {
     "name": "stdout",
     "output_type": "stream",
     "text": [
      "Listing WPS provider processes converted to OGC-API interface by Weaver:\n",
      "\n",
      " - http://localhost:4002/providers/hummingbird/processes/hummingbird_ncdump\n",
      " - http://localhost:4002/providers/hummingbird/processes/hummingbird_spotchecker\n",
      " - http://localhost:4002/providers/hummingbird/processes/hummingbird_cchecker\n",
      " - http://localhost:4002/providers/hummingbird/processes/hummingbird_cfchecker\n",
      " - http://localhost:4002/providers/hummingbird/processes/hummingbird_cmor_checker\n",
      " - http://localhost:4002/providers/hummingbird/processes/hummingbird_qa_cfchecker\n",
      " - http://localhost:4002/providers/hummingbird/processes/hummingbird_qa_checker\n",
      " - http://localhost:4002/providers/hummingbird/processes/hummingbird_cdo_sinfo\n",
      " - http://localhost:4002/providers/hummingbird/processes/hummingbird_cdo_operation\n",
      " - http://localhost:4002/providers/hummingbird/processes/hummingbird_cdo_copy\n",
      " - http://localhost:4002/providers/hummingbird/processes/hummingbird_cdo_bbox\n",
      " - http://localhost:4002/providers/hummingbird/processes/hummingbird_cdo_indices\n",
      " - http://localhost:4002/providers/hummingbird/processes/hummingbird_ensembles\n",
      " - http://localhost:4002/providers/hummingbird/processes/hummingbird_cdo_inter_mpi\n",
      " - http://localhost:4002/providers/hummingbird-69/processes/hummingbird-69_ncdump\n",
      " - http://localhost:4002/providers/hummingbird-69/processes/hummingbird-69_spotchecker\n",
      " - http://localhost:4002/providers/hummingbird-69/processes/hummingbird-69_cchecker\n",
      " - http://localhost:4002/providers/hummingbird-69/processes/hummingbird-69_cfchecker\n",
      " - http://localhost:4002/providers/hummingbird-69/processes/hummingbird-69_cmor_checker\n",
      " - http://localhost:4002/providers/hummingbird-69/processes/hummingbird-69_qa_cfchecker\n",
      " - http://localhost:4002/providers/hummingbird-69/processes/hummingbird-69_qa_checker\n",
      " - http://localhost:4002/providers/hummingbird-69/processes/hummingbird-69_cdo_sinfo\n",
      " - http://localhost:4002/providers/hummingbird-69/processes/hummingbird-69_cdo_operation\n",
      " - http://localhost:4002/providers/hummingbird-69/processes/hummingbird-69_cdo_copy\n",
      " - http://localhost:4002/providers/hummingbird-69/processes/hummingbird-69_cdo_bbox\n",
      " - http://localhost:4002/providers/hummingbird-69/processes/hummingbird-69_cdo_indices\n",
      " - http://localhost:4002/providers/hummingbird-69/processes/hummingbird-69_ensembles\n",
      " - http://localhost:4002/providers/hummingbird-69/processes/hummingbird-69_cdo_inter_mpi\n"
     ]
    }
   ],
   "source": [
    "print(\"Listing WPS provider processes converted to OGC-API interface by Weaver:\\n\")\n",
    "\n",
    "process_locations = []\n",
    "for bird in bird_ids:\n",
    "    path = f\"{WEAVER_TEST_URL}/providers/{bird}/processes\"\n",
    "    resp = requests.get(path, headers=WEAVER_HEADERS)\n",
    "    assert resp.status_code == 200, f\"Error during WPS bird processes retrieval:\\n[{resp.text}]\"\n",
    "    body = resp.json()\n",
    "    for process in body[\"processes\"]:\n",
    "        process_desc_url = f\"{path}/{process['id']}\"\n",
    "        process_locations.append(process_desc_url)\n",
    "        print(\" -\", process_desc_url)\n",
    "assert len(process_locations), \"Could not find any process!\""
   ]
  },
  {
   "cell_type": "markdown",
   "metadata": {},
   "source": [
    "### Dispatched execution of Flyingpigeon WPS process\n",
    "\n",
    "Here, we attempt running the same process defined in [WPS_example Notebook](WPS_example.ipynb), but through the OGC-API\n",
    "interface provided by Weaver.\n",
    "\n",
    "The process execution received by Weaver gets dispatched to the real WPS location. Weaver then\n",
    "monitors the process until completion and, once completed, returns the location where results can be retrieved."
   ]
  },
  {
   "cell_type": "code",
   "execution_count": 5,
   "metadata": {
    "collapsed": false,
    "jupyter": {
     "outputs_hidden": false
    },
    "pycharm": {
     "name": "#%%\n"
    }
   },
   "outputs": [
    {
     "ename": "AssertionError",
     "evalue": "Could not find WPS bird process URL to test execution [http://localhost:4002/providers/hummingbird/processes/ncdump].",
     "output_type": "error",
     "traceback": [
      "\u001B[0;31m---------------------------------------------------------------------------\u001B[0m",
      "\u001B[0;31mAssertionError\u001B[0m                            Traceback (most recent call last)",
      "\u001B[0;32m<ipython-input-5-a249f6287721>\u001B[0m in \u001B[0;36m<module>\u001B[0;34m()\u001B[0m\n\u001B[1;32m      5\u001B[0m \u001B[0mWEAVER_BIRD_URL\u001B[0m \u001B[0;34m=\u001B[0m \u001B[0;34mf\"{WEAVER_TEST_URL}/providers/hummingbird\"\u001B[0m\u001B[0;34m\u001B[0m\u001B[0;34m\u001B[0m\u001B[0m\n\u001B[1;32m      6\u001B[0m \u001B[0mWEAVER_BIRD_PROCESS_URL\u001B[0m \u001B[0;34m=\u001B[0m \u001B[0;34mf\"{WEAVER_BIRD_URL}/processes/ncdump\"\u001B[0m\u001B[0;34m\u001B[0m\u001B[0;34m\u001B[0m\u001B[0m\n\u001B[0;32m----> 7\u001B[0;31m \u001B[0;32massert\u001B[0m \u001B[0mWEAVER_BIRD_PROCESS_URL\u001B[0m \u001B[0;32min\u001B[0m \u001B[0mprocess_locations\u001B[0m\u001B[0;34m,\u001B[0m \u001B[0;34mf\"Could not find WPS bird process URL to test execution [{WEAVER_BIRD_PROCESS_URL}].\"\u001B[0m\u001B[0;34m\u001B[0m\u001B[0;34m\u001B[0m\u001B[0m\n\u001B[0m\u001B[1;32m      8\u001B[0m \u001B[0;34m\u001B[0m\u001B[0m\n\u001B[1;32m      9\u001B[0m \u001B[0mprint\u001B[0m\u001B[0;34m(\u001B[0m\u001B[0;34mf\"Will run process: [{WEAVER_BIRD_PROCESS_URL}]\"\u001B[0m\u001B[0;34m)\u001B[0m\u001B[0;34m\u001B[0m\u001B[0;34m\u001B[0m\u001B[0m\n",
      "\u001B[0;31mAssertionError\u001B[0m: Could not find WPS bird process URL to test execution [http://localhost:4002/providers/hummingbird/processes/ncdump]."
     ]
    }
   ],
   "source": [
    "if not \"hummingbird\" in WEAVER_TEST_KNOWN_BIRDS:\n",
    "    print(\"Hummingbird not specified within known WPS provider birds by Weaver. Skipping dispatched execution test...\")\n",
    "    sys.exit(0)\n",
    "\n",
    "WEAVER_BIRD_URL = f\"{WEAVER_TEST_URL}/providers/hummingbird\"\n",
    "WEAVER_BIRD_PROCESS_URL = f\"{WEAVER_BIRD_URL}/processes/ncdump\"\n",
    "assert WEAVER_BIRD_PROCESS_URL in process_locations, f\"Could not find WPS bird process URL to test execution [{WEAVER_BIRD_PROCESS_URL}].\"\n",
    "\n",
    "print(f\"Will run process: [{WEAVER_BIRD_PROCESS_URL}]\")\n"
   ]
  },
  {
   "cell_type": "markdown",
   "metadata": {},
   "source": [
    "#### First let's obtain the specific description of the test WPS process\n",
    "\n",
    "This request will tell us the explicit details of the process such as its inputs, outputs, and other metadata.\n",
    "Weaver parses the results retrieved from the original WPS provider using *DescribeProcess* request to\n",
    "generate the corresponding outputs. Weaver also adds additional metadata when it can infer some missing\n",
    "details from returned description fields."
   ]
  },
  {
   "cell_type": "code",
   "execution_count": null,
   "metadata": {
    "collapsed": false,
    "jupyter": {
     "outputs_hidden": false
    },
    "pycharm": {
     "name": "#%%\n"
    }
   },
   "outputs": [],
   "source": [
    "print(\"Getting WPS process description...\\n\")\n",
    "\n",
    "resp = requests.get(WEAVER_BIRD_PROCESS_URL, headers=WEAVER_HEADERS)\n",
    "assert resp.status_code == 200, f\"Error getting WPS process description:\\n[{resp.text}]\"\n",
    "body = resp.json()\n",
    "json_print(body)"
   ]
  },
  {
   "cell_type": "markdown",
   "metadata": {},
   "source": [
    "#### Submit the new process execution\n",
    "\n",
    "Using OGC-API interface, WPS process execution are accomplished using a *Job*. That job will tell us the status\n",
    "location where we can monitor the process execution.\n",
    "\n",
    "From the previous response, we can see that the process accepts many inputs and format variations.\n",
    "In this case, we are interested in the input named `dataset` to submit the file defined by `WEAVER_TEST_FILE`.\n",
    "\n",
    "Following execution of the process, we expect to obtain a raw text data dump of the test file content.\n",
    "The location of the raw text file is expected be provided by output named `output` according to the process description."
   ]
  },
  {
   "cell_type": "code",
   "execution_count": null,
   "metadata": {
    "collapsed": false,
    "jupyter": {
     "outputs_hidden": false
    },
    "pycharm": {
     "name": "#%%\n"
    }
   },
   "outputs": [],
   "source": [
    "print(\"Submitting process job with:\")\n",
    "print(\"  File:     [{}]\".format(WEAVER_TEST_FILE))\n",
    "print(\"  Process:  [{}]\".format(WEAVER_BIRD_PROCESS_URL))\n",
    "\n",
    "data = {\n",
    "  \"mode\": \"async\",  # This tells Weaver to run the process asynchronously, such that we get non-blocking status location\n",
    "  \"response\": \"document\",  # Type of status response (only this mode supported for the time being)\n",
    "  \"inputs\": [\n",
    "    {\n",
    "      \"id\": \"dataset\",  # The target input\n",
    "      \"href\": WEAVER_TEST_FILE\n",
    "    }\n",
    "  ],\n",
    "  \"outputs\": [\n",
    "    {\n",
    "      \"id\": \"output\",   # Target output we want to retrieve\n",
    "      \"transmissionMode\": \"reference\"  # Ask to provide the result as HTTP reference\n",
    "    }\n",
    "  ]\n",
    "}\n",
    "\n",
    "path = f\"{WEAVER_BIRD_PROCESS_URL}/jobs\"\n",
    "resp = requests.post(path, json=data, headers=WEAVER_HEADERS)\n",
    "assert resp.status_code in [200, 201], f\"Error during WPS job submission:\\n{resp.text}\"\n",
    "status_location = resp.headers.get(\"Location\")\n",
    "assert status_location, \"Could not find status location URL\"\n",
    "print(f\"Job Status Location: [{status_location}]\")\n"
   ]
  },
  {
   "cell_type": "markdown",
   "metadata": {},
   "source": [
    "#### Monitor execution until completion\n",
    "\n",
    "Now, we wait until the process completes by periodically verifying the provided status location of the job.\n",
    "The job will be running asynchronously and will be gradually updated with progression and logging details.\n",
    "\n",
    "Following job submission request, the `status` can be either `accepted` if it is still in queue pending execution, or\n",
    "already be `running`. Once the job completes, the `status` should indicate it was either `succeeded` or `failed`.\n"
   ]
  },
  {
   "cell_type": "code",
   "execution_count": null,
   "metadata": {
    "collapsed": false,
    "jupyter": {
     "outputs_hidden": false
    },
    "pycharm": {
     "name": "#%%\n"
    }
   },
   "outputs": [],
   "source": [
    "print(\"Waiting for job completion with pooling monitoring of its status...\")\n",
    "\n",
    "timeout = 60  # Define a timeout to abandon this monitoring. Process is relatively quick and shouldn't last too long.\n",
    "delta = 5\n",
    "body = {}\n",
    "while timeout >= 0:\n",
    "    resp = requests.get(status_location, headers=WEAVER_HEADERS)\n",
    "    assert resp.status_code == 200, \"Failed retrieving job status at location [{}]\".format(status_location)\n",
    "    body = resp.json()\n",
    "    timeout -= delta\n",
    "    if body[\"status\"] in [\"accepted\", \"running\"]:\n",
    "        print(f\"Delay: {delta}s, Duration: {body['duration']}, Status: {body['status']}\")\n",
    "        time.sleep(delta)\n",
    "        continue\n",
    "    if body[\"status\"] in [\"failed\", \"succeeded\"]:\n",
    "        break\n",
    "    raise ValueError(f\"Unhandled job status during monitoring: [{body['status']}]\")\n",
    "\n",
    "assert body and \"status\" in body, f\"Could not retrieve job status [{status_location}]\"\n",
    "status = body[\"status\"]"
   ]
  },
  {
   "cell_type": "markdown",
   "metadata": {},
   "source": [
    "#### Obtain job execution logs\n",
    "\n",
    "Retrieve job logs listing execution steps accomplished by Weaver and the underlying process if it provided\n",
    "status messages. During job execution, Weaver attempts to collect any output the original WPS produces and\n",
    "integrates them within its own job logs in order to generate sequential chain of log events by each executed steps.\n",
    "\n",
    "In case the job `failed` execution, this log will help us identify the cause of the problem.\n",
    "Otherwise, we will have a summary of processing steps.\n",
    "\n",
    "**NOTE**:\n",
    "\n",
    "> Job logs is a feature specific to Weaver that is not necessarily implemented by other implementations\n",
    "  of [OGC-API - Processes](https://github.com/opengeospatial/ogcapi-processes/).\n"
   ]
  },
  {
   "cell_type": "code",
   "execution_count": null,
   "metadata": {
    "collapsed": false,
    "jupyter": {
     "outputs_hidden": false
    },
    "pycharm": {
     "name": "#%%\n"
    }
   },
   "outputs": [],
   "source": [
    "print(\"Obtaining job logs from execution...\")\n",
    "\n",
    "path = f\"{status_location}/logs\"\n",
    "resp = requests.get(path, headers=WEAVER_HEADERS)\n",
    "assert resp.status_code == 200, f\"Failed to retrieve job logs [{path}]\"\n",
    "logs = resp.json()\n",
    "\n",
    "log_lines = \"\\n\".join(logs)\n",
    "print(f\"Job logs retrieved from [{path}]:\\n\\n{log_lines}\")\n",
    "\n",
    "assert status == \"succeeded\", \"Job execution was not successful\"\n"
   ]
  },
  {
   "cell_type": "markdown",
   "metadata": {},
   "source": [
    "#### Obtain the result location and output the data\n",
    "\n",
    "When job is `succeeded`, the result endpoint under the corresponding job will provide the downloadable file references\n",
    "for each of the available output ID defined by the WPS process.\n",
    "\n",
    "Since the sample NetCDF file provided as input is expected to be converted to raw text data, it can be displayed below."
   ]
  },
  {
   "cell_type": "code",
   "execution_count": null,
   "metadata": {
    "collapsed": false,
    "jupyter": {
     "outputs_hidden": false
    },
    "pycharm": {
     "name": "#%%\n"
    }
   },
   "outputs": [],
   "source": [
    "print(\"\\nJob was successful! Retrieving result location...\")\n",
    "\n",
    "# NOTE:\n",
    "#   Path 'result' becomes 'results' in later versions and should be employed for same interface as OGC-API - Processes\n",
    "#   It is preserved here for backward compatibility.\n",
    "path = f\"{status_location}/result\"\n",
    "resp = requests.get(path, headers=WEAVER_HEADERS)\n",
    "assert resp.status_code == 200, f\"Failed to retrieve job results location [{path}]\"\n",
    "body = resp.json()\n",
    "\n",
    "# Here, our target output ID is named 'output' according to the process description\n",
    "output = list(filter(lambda out: out[\"id\"] == \"output\", body.get(\"outputs\", [])))\n",
    "assert len(output) == 1, f\"Could not find result matching ID 'output' within:\\n{body}\"\n",
    "href = output[0][\"href\"]\n",
    "assert isinstance(href, str) and href.startswith(\"https://\"), \"Output result does not have expected reference format\"\n",
    "\n",
    "resp = requests.get(href)\n",
    "print(f\"\\nNCDUMP results:\\n\\n{resp.text}\")\n",
    "\n"
   ]
  }
 ],
 "metadata": {
  "kernelspec": {
   "display_name": "Python 3",
   "language": "python",
   "name": "python3"
  },
  "language_info": {
   "codemirror_mode": {
    "name": "ipython",
    "version": 3
   },
   "file_extension": ".py",
   "mimetype": "text/x-python",
   "name": "python",
   "nbconvert_exporter": "python",
   "pygments_lexer": "ipython3",
   "version": "3.7.9"
  }
 },
 "nbformat": 4,
 "nbformat_minor": 4
}