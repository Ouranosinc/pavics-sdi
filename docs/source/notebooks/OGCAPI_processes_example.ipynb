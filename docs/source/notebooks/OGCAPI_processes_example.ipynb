{
 "cells": [
  {
   "cell_type": "markdown",
   "metadata": {
    "collapsed": true,
    "pycharm": {
     "name": "#%% md\n"
    }
   },
   "source": [
    "## PAVICS Web Processing Services using OGC-API integration with Weaver\n",
    "\n",
    "When [Weaver component](https://github.com/bird-house/birdhouse-deploy/tree/master/birdhouse/components#weaver)\n",
    "is enabled, all WPS *birds* registered as process *providers* will be automatically accessible using\n",
    "[OGC-API - Processes][ogcapi-proc] interface from the endpoint where [Weaver][weaver] is defined.\n",
    "\n",
    "[weaver]: https://github.com/crim-ca/weaver\n",
    "[ogcapi-proc]: https://github.com/opengeospatial/ogcapi-processes/\n",
    "\n",
    "**NOTE**:\n",
    "\n",
    "> This test will only work when the component is enabled, and therefore requires explicit specification of test\n",
    "  execution using `WEAVER_TEST_ENABLED = true`\n"
   ]
  },
  {
   "cell_type": "code",
   "execution_count": null,
   "outputs": [],
   "source": [
    "import requests\n",
    "import os\n",
    "import sys\n",
    "import time\n",
    "\n",
    "WEAVER_TEST_ENABLED=str(os.getenv(\"WEAVER_TEST_ENABLED\", \"false\")).lower()\n",
    "if WEAVER_TEST_ENABLED not in [\"true\", \"yes\", \"1\"]:\n",
    "    print(\"Weaver test not enabled. Skipping...\")\n",
    "    sys.exit(0)\n",
    "\n",
    "\n",
    "WEAVER_TEST_FQDN=os.getenv(\"WEAVER_TEST_FQDN\", \"pavics.ouranos.ca\")\n",
    "WEAVER_TEST_URL=os.getenv(\"WEAVER_TEST_URL\", \"https://{}/weaver\".format(WEAVER_TEST_FQDN))\n",
    "WEAVER_TEST_DEFAULT_BIRDS = \"catalog, finch, flyingpigeon, hummingbird, malleefowl, raven\"\n",
    "WEAVER_TEST_KNOWN_BIRDS=os.getenv(\"WEAVER_TEST_KNOWN_BIRDS\", WEAVER_TEST_DEFAULT_BIRDS)\n",
    "WEAVER_TEST_KNOWN_BIRDS=list(bird.strip() for bird in WEAVER_TEST_KNOWN_BIRDS.split(\",\"))\n",
    "assert len(WEAVER_TEST_KNOWN_BIRDS) >= 1, \"No test WPS provider provided in 'WEAVER_TEST_KNOWN_BIRDS'.\"\n",
    "\n",
    "WEAVER_TEST_DEFAULT_FILE = \"/twitcher/ows/proxy/thredds/dodsC/birdhouse/nrcan/nrcan_canada_daily/tasmin/nrcan_canada_daily_tasmin_2013.nc\"\n",
    "WEAVER_TEST_FILE = os.getenv(\"WEAVER_TEST_FILE\", \"https://{}{}\".format(WEAVER_TEST_FQDN, WEAVER_TEST_DEFAULT_FILE))\n",
    "\n",
    "WEAVER_HEADERS = {\"Accept\": \"application/json\", \"Content-Type\": \"application/json\"}"
   ],
   "metadata": {
    "collapsed": false,
    "pycharm": {
     "name": "#%%\n"
    }
   }
  },
  {
   "cell_type": "markdown",
   "source": [
    "### Start with simple listing of registered WPS providers in Weaver\n"
   ],
   "metadata": {
    "collapsed": false,
    "pycharm": {
     "name": "#%% md\n"
    }
   }
  },
  {
   "cell_type": "code",
   "execution_count": null,
   "outputs": [],
   "source": [
    "print(\"Listing WPS providers registered under Weaver...\\n\")\n",
    "\n",
    "path = \"{}/providers\".format(WEAVER_TEST_URL)\n",
    "resp = requests.get(path, headers=WEAVER_HEADERS)\n",
    "assert resp.status_code == 200, \"Error during WPS bird providers listing:\\n[{}]\".format(resp.text)\n",
    "body = resp.json()\n",
    "print(body)\n",
    "\n",
    "assert \"providers\" in body and len(body[\"providers\"]), \"Could not find Weaver WPS providers\"\n",
    "bird_ids = [bird[\"id\"] for bird in body[\"providers\"]]\n",
    "assert all(bird in bird_ids for bird in WEAVER_TEST_KNOWN_BIRDS), \"Could not find all expected Weaver WPS providers\"\n"
   ],
   "metadata": {
    "collapsed": false,
    "pycharm": {
     "name": "#%%\n"
    }
   }
  },
  {
   "cell_type": "markdown",
   "source": [
    "### Obtain OGC-API converted WPS processes by Weaver from original WPS providers endpoints\n",
    "\n",
    "For each registered provider, [Weaver][weaver] sends a *GetCapabilities* WPS request to the remote endpoint and parses\n",
    "the XML result in order to form the corresponding OGC-API JSON content."
   ],
   "metadata": {
    "collapsed": false
   }
  },
  {
   "cell_type": "code",
   "execution_count": null,
   "outputs": [],
   "source": [
    "print(\"Listing WPS provider processes converted to OGC-API interface by Weaver:\\n\")\n",
    "\n",
    "process_locations = []\n",
    "for bird in bird_ids:\n",
    "    path = \"{}/providers/{}/processes\".format(WEAVER_TEST_URL, bird)\n",
    "    resp = requests.get(path, headers=WEAVER_HEADERS)\n",
    "    assert resp.status_code == 200, \"Error during WPS bird processes retrieval:\\n[{}]\".format(resp.text)\n",
    "    body = resp.json()\n",
    "    for process in body[\"processes\"]:\n",
    "        process_desc_url = \"{}/{}\".format(path, process[\"id\"])\n",
    "        process_locations.append(process_desc_url)\n",
    "        print(\" -\", process_desc_url)\n",
    "assert len(process_locations), \"Could not find any process!\""
   ],
   "metadata": {
    "collapsed": false,
    "pycharm": {
     "name": "#%%\n"
    }
   }
  },
  {
   "cell_type": "markdown",
   "source": [
    "### Dispatched execution of Flyingpigeon WPS process\n",
    "\n",
    "Here, we attempt running the same process defined in [WPS_example Notebook](WPS_example.ipynb), but through the OGC-API\n",
    "interface provided by [Weaver][weaver].\n",
    "\n",
    "The process execution received by [Weaver][weaver] gets dispatched to the real WPS location. [Weaver][weaver] then\n",
    "monitors the process until completion and, once completed, returns the location where results can be retrieved."
   ],
   "metadata": {
    "collapsed": false
   }
  },
  {
   "cell_type": "code",
   "execution_count": null,
   "outputs": [],
   "source": [
    "if not \"hummingbird\" in WEAVER_TEST_KNOWN_BIRDS:\n",
    "    print(\"Hummingbird not specified within known WPS provider birds by Weaver. Skipping dispatched execution test...\")\n",
    "    sys.exit(0)\n",
    "\n",
    "WEAVER_BIRD_URL = \"{}/providers/hummingbird\".format(WEAVER_TEST_URL)\n",
    "WEAVER_BIRD_PROCESS_URL = \"{}/processes/ncdump\".format(WEAVER_BIRD_URL)\n",
    "assert WEAVER_BIRD_PROCESS_URL in process_locations, \"Could not find WPS bird process URL to test execution.\"\n"
   ],
   "metadata": {
    "collapsed": false,
    "pycharm": {
     "name": "#%%\n"
    }
   }
  },
  {
   "cell_type": "markdown",
   "source": [
    "#### First let's obtain the specific description of the test WPS process\n",
    "\n",
    "This request will tell us the explicit details of the process such as its inputs, outputs, and other metadata.\n",
    "[Weaver][weaver] parses the results retrieved from the original WPS provider using *DescribeProcess* request to\n",
    "generate the corresponding outputs. [Weaver][weaver] also adds additional metadata when it can infer some missing\n",
    "details from returned description fields."
   ],
   "metadata": {
    "collapsed": false
   }
  },
  {
   "cell_type": "code",
   "execution_count": null,
   "outputs": [],
   "source": [
    "print(\"Getting WPS process description...\\n\")\n",
    "\n",
    "resp = requests.get(WEAVER_BIRD_PROCESS_URL, headers=WEAVER_HEADERS)\n",
    "assert resp.status_code == 200, \"Error getting WPS process description:\\n[{}]\".format(resp.text)\n",
    "body = resp.json()\n",
    "print(body)"
   ],
   "metadata": {
    "collapsed": false,
    "pycharm": {
     "name": "#%%\n"
    }
   }
  },
  {
   "cell_type": "markdown",
   "source": [
    "#### Submit the new process execution\n",
    "\n",
    "Using OGC-API interface, WPS process execution are accomplished using a *Job*. That job will tell us the status\n",
    "location where we can monitor the process execution.\n",
    "\n",
    "From the previous response, we can see that the process accepts many inputs and format variations.\n",
    "In this case, we are interested in the input named `dataset` to submit the file defined by `WEAVER_TEST_FILE`.\n",
    "\n",
    "Following execution of the process, we expect to obtain a raw text data dump of the test file content.\n",
    "The location of the raw text file is expected be provided by output named `output` according to the process description."
   ],
   "metadata": {
    "collapsed": false
   }
  },
  {
   "cell_type": "code",
   "execution_count": null,
   "outputs": [],
   "source": [
    "print(\"Submitting process job with:\")\n",
    "print(\"  File:     [{}]\".format(WEAVER_TEST_FILE))\n",
    "print(\"  Process:  [{}]\".format(WEAVER_BIRD_PROCESS_URL))\n",
    "\n",
    "data = {\n",
    "  \"mode\": \"async\",  # This tells Weaver to run the process asynchronously, such that we get non-blocking status location\n",
    "  \"response\": \"document\",  # Type of status response (only this mode supported for the time being)\n",
    "  \"inputs\": [\n",
    "    {\n",
    "      \"id\": \"dataset\",  # The target input\n",
    "      \"href\": WEAVER_TEST_FILE\n",
    "    }\n",
    "  ],\n",
    "  \"outputs\": [\n",
    "    {\n",
    "      \"id\": \"output\",   # Target output we want to retrieve\n",
    "      \"transmissionMode\": \"reference\"  # Ask to provide the result as HTTP reference\n",
    "    }\n",
    "  ]\n",
    "}\n",
    "\n",
    "path = \"{}/jobs\".format(WEAVER_BIRD_PROCESS_URL)\n",
    "resp = requests.post(path, json=data, headers=WEAVER_HEADERS)\n",
    "assert resp.status_code == 201, \"Error during WPS job submission:\\n[{}]\".format(resp.text)\n",
    "status_location = resp.headers.get(\"Location\")\n",
    "assert status_location, \"Could not find status location URL\"\n",
    "print(\"Job Status Location: [{}]\".format(status_location))\n"
   ],
   "metadata": {
    "collapsed": false,
    "pycharm": {
     "name": "#%%\n"
    }
   }
  },
  {
   "cell_type": "markdown",
   "source": [
    "#### Monitor execution until completion\n",
    "\n",
    "Now, we wait until the process completes by periodically verifying the provided status location of the job.\n",
    "The job will be running asynchronously and will be gradually updated with progression and logging details.\n",
    "\n",
    "Following job submission request, the `status` can be either `accepted` if it is still in queue pending execution, or\n",
    "already be `running`. Once the job completes, the `status` should indicate it was either `succeeded` or `failed`.\n"
   ],
   "metadata": {
    "collapsed": false
   }
  },
  {
   "cell_type": "code",
   "execution_count": null,
   "outputs": [],
   "source": [
    "print(\"Waiting for job completion with pooling monitoring of its status...\")\n",
    "\n",
    "timeout = 60  # Define a timeout to abandon this monitoring. Process is relatively quick and shouldn't last too long.\n",
    "delta = 5\n",
    "body = {}\n",
    "while timeout >= 0:\n",
    "    resp = requests.get(status_location, headers=WEAVER_HEADERS)\n",
    "    assert resp.status_code == 200, \"Failed retrieving job status at location [{}]\".format(status_location)\n",
    "    body = resp.json()\n",
    "    timeout -= delta\n",
    "    if body[\"status\"] in [\"accepted\", \"running\"]:\n",
    "        time.sleep(delta)\n",
    "        continue\n",
    "    if body[\"status\"] in [\"failed\", \"succeeded\"]:\n",
    "        break\n",
    "    raise ValueError(\"Unhandled job status during monitoring: [{}]\".format(body[\"status\"]))\n",
    "\n",
    "assert body and \"status\" in body, \"Could not retrieve job status\"\n",
    "status = body[\"status\"]"
   ],
   "metadata": {
    "collapsed": false,
    "pycharm": {
     "name": "#%%\n"
    }
   }
  },
  {
   "cell_type": "markdown",
   "source": [
    "#### Obtain job execution logs\n",
    "\n",
    "Retrieve job logs listing execution steps accomplished by [Weaver][weaver] and the underlying process if it provided\n",
    "status messages. During job execution, [Weaver][weaver] attempts to collect any output the original WPS produces and\n",
    "integrates them within its own job logs in order to generate sequential chain of log events by each executed steps.\n",
    "\n",
    "In case the job `failed` execution, this log will help us identify the cause of the problem.\n",
    "Otherwise, we will have a summary of processing steps.\n",
    "\n",
    "**NOTE**:\n",
    "\n",
    "> Job logs is a feature specific to [Weaver][weaver] that is not necessarily implemented by other implementations\n",
    "  of [OGC-API - Processes][ogcapi-proc].\n"
   ],
   "metadata": {
    "collapsed": false
   }
  },
  {
   "cell_type": "code",
   "execution_count": null,
   "outputs": [],
   "source": [
    "print(\"Obtaining job logs from execution...\")\n",
    "\n",
    "path = \"{}/logs\".format(status_location)\n",
    "resp = requests.get(path, headers=WEAVER_HEADERS)\n",
    "assert resp.status_code == 200, \"Failed to retrieve job logs at [{}]\".format(path)\n",
    "logs = resp.json()\n",
    "\n",
    "print(\"Job logs retrieved from [{}]:\\n\\n{}\".format(path, \"\\n\".join(logs)))\n",
    "\n",
    "assert status == \"succeeded\", \"Job execution was not successful\"\n"
   ],
   "metadata": {
    "collapsed": false,
    "pycharm": {
     "name": "#%%\n"
    }
   }
  },
  {
   "cell_type": "markdown",
   "source": [
    "#### Obtain the result location and output the data\n",
    "\n",
    "When job is `succeeded`, the result endpoint under the corresponding job will provide the downloadable file references\n",
    "for each of the available output ID defined by the WPS process.\n",
    "\n",
    "Since the sample NetCDF file provided as input is expected to be converted to raw text data, it can be displayed below."
   ],
   "metadata": {
    "collapsed": false
   }
  },
  {
   "cell_type": "code",
   "execution_count": null,
   "outputs": [],
   "source": [
    "print(\"\\nJob was successful! Retrieving result location...\")\n",
    "\n",
    "# NOTE:\n",
    "#   Path 'result' becomes 'results' in later versions and should be employed for same interface as OGC-API - Processes\n",
    "#   It is preserved here for backward compatibility.\n",
    "path = \"{}/result\".format(status_location)\n",
    "resp = requests.get(path, headers=WEAVER_HEADERS)\n",
    "assert resp.status_code == 200, \"Failed to retrieve job results location [{}]\".format(path)\n",
    "body = resp.json()\n",
    "\n",
    "# Here, our target output ID is named 'output' according to the process description\n",
    "output = list(filter(lambda out: out[\"id\"] == \"output\", body.get(\"outputs\", [])))\n",
    "assert len(output) == 1, \"Could not find result matching ID 'output' within:\\n{}\".format(body)\n",
    "href = output[0][\"href\"]\n",
    "assert isinstance(href, str) and href.startswith(\"https://\"), \"Output result does not have expected reference format\"\n",
    "\n",
    "resp = requests.get(href)\n",
    "print(\"\\nNCDUMP results :\\n\", resp.text)\n",
    "\n"
   ],
   "metadata": {
    "collapsed": false,
    "pycharm": {
     "name": "#%%\n"
    }
   }
  }
 ],
 "metadata": {
  "kernelspec": {
   "display_name": "Python 3",
   "language": "python",
   "name": "python3"
  },
  "language_info": {
   "codemirror_mode": {
    "name": "ipython",
    "version": 2
   },
   "file_extension": ".py",
   "mimetype": "text/x-python",
   "name": "python",
   "nbconvert_exporter": "python",
   "pygments_lexer": "ipython2",
   "version": "2.7.6"
  }
 },
 "nbformat": 4,
 "nbformat_minor": 0
}