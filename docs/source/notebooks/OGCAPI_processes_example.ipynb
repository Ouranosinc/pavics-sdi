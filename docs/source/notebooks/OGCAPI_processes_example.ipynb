{
 "cells": [
  {
   "cell_type": "markdown",
   "metadata": {
    "collapsed": true,
    "pycharm": {
     "name": "#%% md\n"
    }
   },
   "source": [
    "## PAVICS Web Processing Services using OGC-API integration with Weaver\n",
    "\n",
    "When [Weaver component](https://github.com/bird-house/birdhouse-deploy/tree/master/birdhouse/components#weaver)\n",
    "is enabled, all WPS *birds* registered as process *providers* will be automatically accessible using\n",
    "[OGC-API - Processes](https://github.com/opengeospatial/ogcapi-processes/) interface from the endpoint where\n",
    "[Weaver](https://github.com/crim-ca/weaver) is defined.\n",
    "\n",
    "**NOTE**:\n",
    "This test will only work when the component is enabled, and therefore requires explicit specification of test execution\n",
    "using `WEAVER_TEST_ENABLED = true`\n"
   ]
  },
  {
   "cell_type": "code",
   "execution_count": null,
   "outputs": [],
   "source": [
    "import requests\n",
    "import os\n",
    "import sys\n",
    "\n",
    "WEAVER_TEST_ENABLED=str(os.getenv(\"WEAVER_TEST_ENABLED\", \"false\")).lower()\n",
    "if WEAVER_TEST_ENABLED not in [\"true\", \"yes\", \"1\"]:\n",
    "    print(\"Weaver test not enabled. Skipping...\")\n",
    "    sys.exit(0)\n",
    "\n",
    "\n",
    "WEAVER_TEST_HOST=os.getenv(\"WEAVER_TEST_HOST\", \"pavics.ouranos.ca\")\n",
    "WEAVER_TEST_URL=os.getenv(\"WEAVER_TEST_URL\", \"https://{}/weaver\".format(WEAVER_TEST_HOST))\n",
    "WEAVER_TEST_DEFAULT_BIRDS = \"catalog, finch, flyingpigeon, hummingbird, malleefowl, raven\"\n",
    "WEAVER_TEST_KNOWN_BIRDS=os.getenv(\"WEAVER_TEST_KNOWN_BIRDS\", WEAVER_TEST_DEFAULT_BIRDS)\n",
    "WEAVER_TEST_KNOWN_BIRDS=list(bird.strip() for bird in WEAVER_TEST_KNOWN_BIRDS.split(\",\"))\n",
    "assert len(WEAVER_TEST_KNOWN_BIRDS) >= 1, \"No test WPS provider provided in 'WEAVER_TEST_KNOWN_BIRDS'.\"\n",
    "\n",
    "WEAVER_TEST_DEFAULT_FILE = \"/twitcher/ows/proxy/thredds/dodsC/birdhouse/nrcan/nrcan_canada_daily/tasmin/nrcan_canada_daily_tasmin_2013.nc\"\n",
    "WEAVER_TEST_FILE = os.getenv(\"WEAVER_TEST_FILE\", \"https://{}{}\".format(WEAVER_TEST_HOST, WEAVER_TEST_DEFAULT_FILE))\n",
    "\n",
    "WEAVER_HEADERS = {\"Accept\": \"application/json\", \"Content-Type\": \"application/json\"}"
   ],
   "metadata": {
    "collapsed": false,
    "pycharm": {
     "name": "#%%\n"
    }
   }
  },
  {
   "cell_type": "markdown",
   "source": [
    "### Start with simple listing of registered WPS providers in Weaver\n"
   ],
   "metadata": {
    "collapsed": false,
    "pycharm": {
     "name": "#%% md\n"
    }
   }
  },
  {
   "cell_type": "code",
   "execution_count": null,
   "outputs": [],
   "source": [
    "path = \"{}/providers\".format(WEAVER_TEST_URL)\n",
    "resp = requests.get(path, headers=WEAVER_HEADERS)\n",
    "assert resp.status_code == 200, \"Error during WPS bird providers listing:\\n[{}]\".format(resp.text)\n",
    "body = resp.json()\n",
    "print(body)\n",
    "\n",
    "assert \"providers\" in body and len(body[\"providers\"]), \"Could not find Weaver WPS providers\"\n",
    "bird_ids = [bird[\"id\"] for bird in body[\"providers\"]]\n",
    "assert all(bird in bird_ids for bird in WEAVER_TEST_KNOWN_BIRDS), \"Could not find all expected Weaver WPS providers\"\n"
   ],
   "metadata": {
    "collapsed": false,
    "pycharm": {
     "name": "#%%\n"
    }
   }
  },
  {
   "cell_type": "markdown",
   "source": [
    "### Obtain OGC-API converted WPS processes by Weaver from original WPS providers endpoints\n",
    "\n",
    "For each registered provider, Weaver sends a *GetCapabilities* WPS request to the remote endpoint and parses the XML\n",
    "result in order to form the corresponding OGC-API JSON content."
   ],
   "metadata": {
    "collapsed": false
   }
  },
  {
   "cell_type": "code",
   "execution_count": null,
   "outputs": [],
   "source": [
    "print(\"All WPS provider processes converted to OGC-API interface by Weaver:\\n\")\n",
    "all_processes = []\n",
    "for bird in bird_ids:\n",
    "    path = \"{}/providers/{}/processes\".format(WEAVER_TEST_URL, bird)\n",
    "    resp = requests.get(path, headers=WEAVER_HEADERS)\n",
    "    assert resp.status_code == 200, \"Error during WPS bird processes retrieval:\\n[{}]\".format(resp.text)\n",
    "    body = resp.json()\n",
    "    for process in body[\"processes\"]:\n",
    "        process_desc_url = \"{}/{}\".format(path, process[\"id\"])\n",
    "        all_processes.append(process_desc_url)\n",
    "        print(\" -\", process_desc_url)\n",
    "assert len(all_processes), \"Could not find any process!\""
   ],
   "metadata": {
    "collapsed": false,
    "pycharm": {
     "name": "#%%\n"
    }
   }
  },
  {
   "cell_type": "markdown",
   "source": [
    "### Dispatched execution of Flyingpigeon WPS process\n",
    "\n",
    "Here, we attempt running the same process defined in [WPS_example Notebook](WPS_example.ipynb), but through the OGC-API\n",
    "interface provided by Weaver.\n",
    "\n",
    "The process execution received by Weaver gets dispatched to the real WPS location. Weaver then monitors the process\n",
    "until completion and, once completed, returns the location where results can be retrieved."
   ],
   "metadata": {
    "collapsed": false
   }
  },
  {
   "cell_type": "code",
   "execution_count": null,
   "outputs": [],
   "source": [
    "if not \"hummingbird\" in WEAVER_TEST_KNOWN_BIRDS:\n",
    "    print(\"Hummingbird not specified within known WPS provider birds by Weaver. Skipping dispatched execution test...\")\n",
    "    sys.exit(0)\n",
    "\n",
    "WEAVER_BIRD_URL = \"{}/providers/hummingbird\".format(WEAVER_TEST_URL)\n",
    "WEAVER_BIRD_PROCESS = \"{}/processes/ncdump\".format(WEAVER_BIRD_URL)\n",
    "assert WEAVER_BIRD_PROCESS in all_processes, \"Could not find WPS bird process URL to test execution.\"\n"
   ],
   "metadata": {
    "collapsed": false,
    "pycharm": {
     "name": "#%%\n"
    }
   }
  },
  {
   "cell_type": "markdown",
   "source": [
    "#### First let's obtain the specific description of the test WPS process\n",
    "\n",
    "This request will tell us the explicit details of the process such as its inputs, outputs, and other metadata.\n",
    "Once again, Weaver parses the results retrieved from the original WPS provider (using *DescribeProcess* this time),\n",
    "to generate the corresponding outputs. Weaver also adds additional metadata when it can infer some missing details\n",
    "from returned description fields."
   ],
   "metadata": {
    "collapsed": false
   }
  },
  {
   "cell_type": "code",
   "execution_count": null,
   "outputs": [],
   "source": [
    "resp = requests.get(WEAVER_BIRD_PROCESS, headers=WEAVER_HEADERS)\n",
    "assert resp.status_code == 200, \"Error getting WPS process description:\\n[{}]\".format(resp.text)\n",
    "body = resp.json()\n",
    "print(body)"
   ],
   "metadata": {
    "collapsed": false,
    "pycharm": {
     "name": "#%%\n"
    }
   }
  },
  {
   "cell_type": "markdown",
   "source": [
    "#### Submit the new process execution\n",
    "\n",
    "Using OGC-API interface, WPS process execution are accomplished using a *Job*. That job will tell us the status\n",
    "location where we can monitor the process execution.\n",
    "\n",
    "From the previous response, we can see that the process accepts many inputs and format variations.\n",
    "In this case, we are interested in the input named `dataset` to submit the file defined by `WEAVER_TEST_FILE`.\n",
    "\n",
    "Following execution of the process, we expect to obtain a raw text data dump of the test file content. \n",
    "The location of the raw text file is expected be provided by output named `output` according to the process description."
   ],
   "metadata": {
    "collapsed": false
   }
  },
  {
   "cell_type": "code",
   "execution_count": null,
   "outputs": [],
   "source": [
    "print(\"Testing with:\")\n",
    "print(\"  File:     [{}]\".format(WEAVER_TEST_FILE))\n",
    "print(\"  Process:  [{}]\".format(WEAVER_BIRD_PROCESS))\n",
    "\n",
    "data = {\n",
    "  \"mode\": \"async\",  # This tells Weaver to run the process asynchronously, such that we get non-blocking status location\n",
    "  \"response\": \"document\",  # Type of status response (only this mode supported for the time being)\n",
    "  \"inputs\": [\n",
    "    {\n",
    "      \"id\": \"dataset\",  # The target input\n",
    "      \"href\": WEAVER_TEST_FILE\n",
    "    }\n",
    "  ],\n",
    "  \"outputs\": [\n",
    "    {\n",
    "      \"id\": \"output\",   # Target output we want to retrieve\n",
    "      \"transmissionMode\": \"reference\"  # Ask to provide the result as HTTP reference \n",
    "    }\n",
    "  ]\n",
    "}\n",
    "\n"
   ],
   "metadata": {
    "collapsed": false,
    "pycharm": {
     "name": "#%%\n"
    }
   }
  }
 ],
 "metadata": {
  "kernelspec": {
   "display_name": "Python 3",
   "language": "python",
   "name": "python3"
  },
  "language_info": {
   "codemirror_mode": {
    "name": "ipython",
    "version": 2
   },
   "file_extension": ".py",
   "mimetype": "text/x-python",
   "name": "python",
   "nbconvert_exporter": "python",
   "pygments_lexer": "ipython2",
   "version": "2.7.6"
  }
 },
 "nbformat": 4,
 "nbformat_minor": 0
}