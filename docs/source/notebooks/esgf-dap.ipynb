{
 "cells": [
  {
   "cell_type": "markdown",
   "metadata": {},
   "source": [
    "# Earth System Grid Federation Data Access\n",
    "\n",
    "The Earth System Grid Federation (ESGF) has a search API that can be used by clients to query catalog content matching constraints (see [API documentation](https://github.com/ESGF/esgf.github.io/wiki/ESGF_Search_REST_API)). It's possible to send requests directly to the API using a simple function (see [example](https://esgf2.github.io/cmip6-cookbook/notebooks/foundations/esgf-opendap.html)), but here we'll use a python client named `pyesgf` to interact with the search API and get data from the ESGF THREDDS servers. The following shows examples of typical queries for data. \n",
    "\n",
    "If a login username and credentials are required, follow these [instructions](https://esgf-pyclient.readthedocs.io/en/latest/notebooks/examples/logon.html)."
   ]
  },
  {
   "cell_type": "code",
   "execution_count": 1,
   "metadata": {},
   "outputs": [
    {
     "ename": "ModuleNotFoundError",
     "evalue": "No module named 'pyesgf'",
     "output_type": "error",
     "traceback": [
      "\u001b[0;31m---------------------------------------------------------------------------\u001b[0m",
      "\u001b[0;31mModuleNotFoundError\u001b[0m                       Traceback (most recent call last)",
      "Cell \u001b[0;32mIn [1], line 1\u001b[0m\n\u001b[0;32m----> 1\u001b[0m \u001b[38;5;28;01mfrom\u001b[39;00m \u001b[38;5;21;01mpyesgf\u001b[39;00m\u001b[38;5;21;01m.\u001b[39;00m\u001b[38;5;21;01msearch\u001b[39;00m \u001b[38;5;28;01mimport\u001b[39;00m SearchConnection\n\u001b[1;32m      3\u001b[0m \u001b[38;5;66;03m# Create a connection for distributed search on ESGF nodes.\u001b[39;00m\n\u001b[1;32m      4\u001b[0m conn \u001b[38;5;241m=\u001b[39m SearchConnection(\u001b[38;5;124m\"\u001b[39m\u001b[38;5;124mhttps://esgf.ceda.ac.uk/esg-search\u001b[39m\u001b[38;5;124m\"\u001b[39m, distrib\u001b[38;5;241m=\u001b[39m\u001b[38;5;28;01mTrue\u001b[39;00m)\n",
      "\u001b[0;31mModuleNotFoundError\u001b[0m: No module named 'pyesgf'"
     ]
    }
   ],
   "source": [
    "from pyesgf.search import SearchConnection\n",
    "\n",
    "# Create a connection for distributed search on ESGF nodes.\n",
    "conn = SearchConnection(\"https://esgf.ceda.ac.uk/esg-search\", distrib=True)\n",
    "\n",
    "# Launch a search query.\n",
    "# Here we're looking for any variable related to humidity within the CMIP6 SSP2-4.5 experiment.\n",
    "# Results will be stored in a dictionary with keys defined by the `facets` argument.\n",
    "ctx = conn.new_context(\n",
    "    project=\"CMIP6\",\n",
    "    experiment_id=\"ssp245\",\n",
    "    query=\"humidity\",\n",
    "    facets=\"variable_id,source_id\",\n",
    ")\n",
    "\n",
    "print(\"Number of results: \", ctx.hit_count)\n",
    "print(\"Variables related to humidity: \")\n",
    "ctx.facet_counts[\"variable_id\"]"
   ]
  },
  {
   "cell_type": "code",
   "execution_count": null,
   "metadata": {},
   "outputs": [],
   "source": [
    "# Now let's look for simulations that have the `hurs` variable and pick the first member.\n",
    "ctx.constrain(variable_id=\"hurs\", ensemble=\"r1i1p1f1\")\n",
    "ctx.facet_counts[\"source_id\"]"
   ]
  },
  {
   "cell_type": "code",
   "execution_count": null,
   "metadata": {},
   "outputs": [],
   "source": [
    "# We can now search for datasets corresponding within our search context\n",
    "results = ctx.search()\n",
    "r = results[0]\n",
    "r.dataset_id"
   ]
  },
  {
   "cell_type": "code",
   "execution_count": null,
   "metadata": {},
   "outputs": [],
   "source": [
    "# To get file download links, there's an extra step\n",
    "file_ctx = r.file_context()\n",
    "file_ctx.facets = \"*\"\n",
    "files = file_ctx.search()\n",
    "[f.download_url for f in files]"
   ]
  },
  {
   "cell_type": "code",
   "execution_count": null,
   "metadata": {},
   "outputs": [],
   "source": [
    "# The same applies to get an OPENDAP link\n",
    "agg_ctx = r.aggregation_context()\n",
    "agg_ctx.facets = \"*\"\n",
    "agg = agg_ctx.search()[0]\n",
    "print(agg.opendap_url)"
   ]
  },
  {
   "cell_type": "code",
   "execution_count": null,
   "metadata": {},
   "outputs": [],
   "source": [
    "# Open the opendap link with xarray\n",
    "import xarray as xr\n",
    "\n",
    "ds = xr.open_dataset(agg.opendap_url)\n",
    "ds"
   ]
  }
 ],
 "metadata": {
  "kernelspec": {
   "display_name": "Python 3 (ipykernel)",
   "language": "python",
   "name": "python3"
  },
  "language_info": {
   "codemirror_mode": {
    "name": "ipython",
    "version": 3
   },
   "file_extension": ".py",
   "mimetype": "text/x-python",
   "name": "python",
   "nbconvert_exporter": "python",
   "pygments_lexer": "ipython3",
   "version": "3.8.15"
  }
 },
 "nbformat": 4,
 "nbformat_minor": 4
}
