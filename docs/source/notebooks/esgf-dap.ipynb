{
 "cells": [
  {
   "cell_type": "markdown",
   "metadata": {},
   "source": [
    "# Earth System Grid Federation Data Access\n",
    "\n",
    "The Earth System Grid Federation (ESGF) has a search API that can be used by clients to query catalog content matching constraints (see [API documentation](https://github.com/ESGF/esgf.github.io/wiki/ESGF_Search_REST_API)). It's possible to send requests directly to the API using a simple function (see [example](https://esgf2.github.io/cmip6-cookbook/notebooks/foundations/esgf-opendap.html)), but here we'll use a python client named `pyesgf` to interact with the search API and get data from the ESGF THREDDS servers. The following shows examples of typical queries for data. \n",
    "\n",
    "If a login username and credentials are required, follow these [instructions](https://esgf-pyclient.readthedocs.io/en/latest/notebooks/examples/logon.html)."
   ]
  },
  {
   "cell_type": "code",
   "execution_count": 1,
   "metadata": {
    "jupyter": {
     "is_executing": true
    }
   },
   "outputs": [
    {
     "ename": "HTTPError",
     "evalue": "504 Server Error: Gateway Time-out for url: https://esgf-node.ornl.gov/esgf-1-5-bridge?format=application%2Fsolr%2Bjson&limit=0&distrib=false&query=humidity&type=Dataset&project=CMIP6&experiment_id=ssp245&facets=variable_id%2Csource_id",
     "output_type": "error",
     "traceback": [
      "\u001b[31m---------------------------------------------------------------------------\u001b[39m",
      "\u001b[31mHTTPError\u001b[39m                                 Traceback (most recent call last)",
      "\u001b[36mCell\u001b[39m\u001b[36m \u001b[39m\u001b[32mIn[1]\u001b[39m\u001b[32m, line 18\u001b[39m\n\u001b[32m      8\u001b[39m \u001b[38;5;66;03m# Launch a search query.\u001b[39;00m\n\u001b[32m      9\u001b[39m \u001b[38;5;66;03m# Here we're looking for any variable related to humidity within the CMIP6 SSP2-4.5 experiment.\u001b[39;00m\n\u001b[32m     10\u001b[39m \u001b[38;5;66;03m# Results will be stored in a dictionary with keys defined by the `facets` argument.\u001b[39;00m\n\u001b[32m     11\u001b[39m ctx = conn.new_context(\n\u001b[32m     12\u001b[39m     project=\u001b[33m\"\u001b[39m\u001b[33mCMIP6\u001b[39m\u001b[33m\"\u001b[39m,\n\u001b[32m     13\u001b[39m     experiment_id=\u001b[33m\"\u001b[39m\u001b[33mssp245\u001b[39m\u001b[33m\"\u001b[39m,\n\u001b[32m     14\u001b[39m     query=\u001b[33m\"\u001b[39m\u001b[33mhumidity\u001b[39m\u001b[33m\"\u001b[39m,\n\u001b[32m     15\u001b[39m     facets=\u001b[33m\"\u001b[39m\u001b[33mvariable_id,source_id\u001b[39m\u001b[33m\"\u001b[39m,\n\u001b[32m     16\u001b[39m )\n\u001b[32m---> \u001b[39m\u001b[32m18\u001b[39m \u001b[38;5;28mprint\u001b[39m(\u001b[33m\"\u001b[39m\u001b[33mNumber of results: \u001b[39m\u001b[33m\"\u001b[39m, \u001b[43mctx\u001b[49m\u001b[43m.\u001b[49m\u001b[43mhit_count\u001b[49m)\n\u001b[32m     19\u001b[39m \u001b[38;5;28mprint\u001b[39m(\u001b[33m\"\u001b[39m\u001b[33mVariables related to humidity: \u001b[39m\u001b[33m\"\u001b[39m)\n\u001b[32m     20\u001b[39m ctx.facet_counts[\u001b[33m\"\u001b[39m\u001b[33mvariable_id\u001b[39m\u001b[33m\"\u001b[39m]\n",
      "\u001b[36mFile \u001b[39m\u001b[32m/opt/conda/envs/birdy/lib/python3.11/site-packages/pyesgf/search/context.py:182\u001b[39m, in \u001b[36mSearchContext.hit_count\u001b[39m\u001b[34m(self)\u001b[39m\n\u001b[32m    180\u001b[39m \u001b[38;5;129m@property\u001b[39m\n\u001b[32m    181\u001b[39m \u001b[38;5;28;01mdef\u001b[39;00m\u001b[38;5;250m \u001b[39m\u001b[34mhit_count\u001b[39m(\u001b[38;5;28mself\u001b[39m):\n\u001b[32m--> \u001b[39m\u001b[32m182\u001b[39m     \u001b[38;5;28;43mself\u001b[39;49m\u001b[43m.\u001b[49m\u001b[43m__update_counts\u001b[49m\u001b[43m(\u001b[49m\u001b[43m)\u001b[49m\n\u001b[32m    183\u001b[39m     \u001b[38;5;28;01mreturn\u001b[39;00m \u001b[38;5;28mself\u001b[39m.__hit_count\n",
      "\u001b[36mFile \u001b[39m\u001b[32m/opt/conda/envs/birdy/lib/python3.11/site-packages/pyesgf/search/context.py:220\u001b[39m, in \u001b[36mSearchContext.__update_counts\u001b[39m\u001b[34m(self)\u001b[39m\n\u001b[32m    217\u001b[39m     \u001b[38;5;28;01mif\u001b[39;00m \u001b[38;5;28mself\u001b[39m.connection.distrib:\n\u001b[32m    218\u001b[39m         \u001b[38;5;28mself\u001b[39m._do_facets_star_warning()\n\u001b[32m--> \u001b[39m\u001b[32m220\u001b[39m response = \u001b[38;5;28;43mself\u001b[39;49m\u001b[43m.\u001b[49m\u001b[43mconnection\u001b[49m\u001b[43m.\u001b[49m\u001b[43msend_search\u001b[49m\u001b[43m(\u001b[49m\u001b[43mquery_dict\u001b[49m\u001b[43m,\u001b[49m\u001b[43m \u001b[49m\u001b[43mlimit\u001b[49m\u001b[43m=\u001b[49m\u001b[32;43m0\u001b[39;49m\u001b[43m)\u001b[49m\n\u001b[32m    221\u001b[39m \u001b[38;5;28;01mfor\u001b[39;00m facet, counts \u001b[38;5;129;01min\u001b[39;00m (\u001b[38;5;28mlist\u001b[39m(response[\u001b[33m'\u001b[39m\u001b[33mfacet_counts\u001b[39m\u001b[33m'\u001b[39m][\u001b[33m'\u001b[39m\u001b[33mfacet_fields\u001b[39m\u001b[33m'\u001b[39m].items())):\n\u001b[32m    222\u001b[39m     d = \u001b[38;5;28mself\u001b[39m.__facet_counts[facet] = {}\n",
      "\u001b[36mFile \u001b[39m\u001b[32m/opt/conda/envs/birdy/lib/python3.11/site-packages/pyesgf/search/connection.py:159\u001b[39m, in \u001b[36mSearchConnection.send_search\u001b[39m\u001b[34m(self, query_dict, limit, offset, shards)\u001b[39m\n\u001b[32m    157\u001b[39m \u001b[38;5;28;01mif\u001b[39;00m \u001b[38;5;129;01mnot\u001b[39;00m \u001b[38;5;28mself\u001b[39m._isopen:\n\u001b[32m    158\u001b[39m     \u001b[38;5;28mself\u001b[39m.open()\n\u001b[32m--> \u001b[39m\u001b[32m159\u001b[39m response = \u001b[38;5;28;43mself\u001b[39;49m\u001b[43m.\u001b[49m\u001b[43m_send_query\u001b[49m\u001b[43m(\u001b[49m\u001b[33;43m'\u001b[39;49m\u001b[33;43msearch\u001b[39;49m\u001b[33;43m'\u001b[39;49m\u001b[43m,\u001b[49m\u001b[43m \u001b[49m\u001b[43mfull_query\u001b[49m\u001b[43m)\u001b[49m\n\u001b[32m    160\u001b[39m ret = response.json()\n\u001b[32m    161\u001b[39m response.close()\n",
      "\u001b[36mFile \u001b[39m\u001b[32m/opt/conda/envs/birdy/lib/python3.11/site-packages/pyesgf/search/connection.py:213\u001b[39m, in \u001b[36mSearchConnection._send_query\u001b[39m\u001b[34m(self, endpoint, full_query)\u001b[39m\n\u001b[32m    210\u001b[39m     \u001b[38;5;28;01mraise\u001b[39;00m \u001b[38;5;167;01mException\u001b[39;00m(\u001b[33m\"\u001b[39m\u001b[33mInvalid query parameter(s): \u001b[39m\u001b[38;5;132;01m%s\u001b[39;00m\u001b[33m\"\u001b[39m % content)\n\u001b[32m    212\u001b[39m \u001b[38;5;66;03m# Raise if query was unsucessful:\u001b[39;00m\n\u001b[32m--> \u001b[39m\u001b[32m213\u001b[39m \u001b[43mresponse\u001b[49m\u001b[43m.\u001b[49m\u001b[43mraise_for_status\u001b[49m\u001b[43m(\u001b[49m\u001b[43m)\u001b[49m\n\u001b[32m    214\u001b[39m \u001b[38;5;28;01mreturn\u001b[39;00m response\n",
      "\u001b[36mFile \u001b[39m\u001b[32m/opt/conda/envs/birdy/lib/python3.11/site-packages/requests/models.py:1024\u001b[39m, in \u001b[36mResponse.raise_for_status\u001b[39m\u001b[34m(self)\u001b[39m\n\u001b[32m   1019\u001b[39m     http_error_msg = (\n\u001b[32m   1020\u001b[39m         \u001b[33mf\u001b[39m\u001b[33m\"\u001b[39m\u001b[38;5;132;01m{\u001b[39;00m\u001b[38;5;28mself\u001b[39m.status_code\u001b[38;5;132;01m}\u001b[39;00m\u001b[33m Server Error: \u001b[39m\u001b[38;5;132;01m{\u001b[39;00mreason\u001b[38;5;132;01m}\u001b[39;00m\u001b[33m for url: \u001b[39m\u001b[38;5;132;01m{\u001b[39;00m\u001b[38;5;28mself\u001b[39m.url\u001b[38;5;132;01m}\u001b[39;00m\u001b[33m\"\u001b[39m\n\u001b[32m   1021\u001b[39m     )\n\u001b[32m   1023\u001b[39m \u001b[38;5;28;01mif\u001b[39;00m http_error_msg:\n\u001b[32m-> \u001b[39m\u001b[32m1024\u001b[39m     \u001b[38;5;28;01mraise\u001b[39;00m HTTPError(http_error_msg, response=\u001b[38;5;28mself\u001b[39m)\n",
      "\u001b[31mHTTPError\u001b[39m: 504 Server Error: Gateway Time-out for url: https://esgf-node.ornl.gov/esgf-1-5-bridge?format=application%2Fsolr%2Bjson&limit=0&distrib=false&query=humidity&type=Dataset&project=CMIP6&experiment_id=ssp245&facets=variable_id%2Csource_id"
     ]
    }
   ],
   "source": [
    "# NBVAL_IGNORE_OUTPUT\n",
    "\n",
    "from pyesgf.search import SearchConnection\n",
    "\n",
    "# Create a connection for search on ESGF nodes. Note that setting `distrib=True` can lead to unique failures.\n",
    "conn = SearchConnection(\"https://esgf-node.llnl.gov/esg-search/\", distrib=False)\n",
    "\n",
    "# Launch a search query.\n",
    "# Here we're looking for any variable related to humidity within the CMIP6 SSP2-4.5 experiment.\n",
    "# Results will be stored in a dictionary with keys defined by the `facets` argument.\n",
    "ctx = conn.new_context(\n",
    "    project=\"CMIP6\",\n",
    "    experiment_id=\"ssp245\",\n",
    "    query=\"humidity\",\n",
    "    facets=\"variable_id,source_id\",\n",
    ")\n",
    "\n",
    "print(f\"Number of results: {ctx.hit_count}\")\n",
    "print(\"Variables related to humidity: \")\n",
    "ctx.facet_counts[\"variable_id\"]"
   ]
  },
  {
   "cell_type": "code",
   "execution_count": 2,
   "metadata": {},
   "outputs": [
    {
     "data": {
      "text/plain": [
       "{'EC-Earth3-AerChem': 2,\n",
       " 'AWI-ESM-1-REcoM': 4,\n",
       " 'GISS-E2-1-G-CC': 12,\n",
       " 'CAMS-CSM1-0': 14,\n",
       " 'CIESM': 15,\n",
       " 'MCM-UA-1-0': 16,\n",
       " 'FGOALS-f3-L': 20,\n",
       " 'BCC-CSM2-MR': 32,\n",
       " 'NESM3': 35,\n",
       " 'IITM-ESM': 35,\n",
       " 'CAS-ESM2-0': 36,\n",
       " 'AWI-CM-1-1-MR': 36,\n",
       " 'CNRM-CM6-1-HR': 38,\n",
       " 'CMCC-CM2-SR5': 38,\n",
       " 'FIO-ESM-2-0': 40,\n",
       " 'E3SM-1-1': 42,\n",
       " 'CMCC-ESM2': 44,\n",
       " 'TaiESM1': 45,\n",
       " 'CanESM5-CanOE': 48,\n",
       " 'KIOST-ESM': 53,\n",
       " 'INM-CM5-0': 62,\n",
       " 'INM-CM4-8': 62,\n",
       " 'GFDL-ESM4': 62,\n",
       " 'GISS-E2-2-G': 80,\n",
       " 'EC-Earth3-Veg-LR': 85,\n",
       " 'NorESM2-MM': 88,\n",
       " 'GFDL-CM4': 90,\n",
       " 'MIROC-ES2H': 102,\n",
       " 'KACE-1-0-G': 120,\n",
       " 'MPI-ESM1-2-HR': 126,\n",
       " 'FGOALS-g3': 144,\n",
       " 'GISS-E2-1-H': 164,\n",
       " 'EC-Earth3-CC': 171,\n",
       " 'ACCESS-CM2': 175,\n",
       " 'CanESM5-1': 216,\n",
       " 'CNRM-CM6-1': 220,\n",
       " 'CESM2-WACCM': 250,\n",
       " 'EC-Earth3-Veg': 265,\n",
       " 'CESM2': 270,\n",
       " 'HadGEM3-GC31-LL': 278,\n",
       " 'CNRM-ESM2-1': 303,\n",
       " 'UKESM1-0-LL': 347,\n",
       " 'NorESM2-LM': 516,\n",
       " 'IPSL-CM6A-LR': 618,\n",
       " 'GISS-E2-1-G': 720,\n",
       " 'MRI-ESM2-0': 883,\n",
       " 'ACCESS-ESM1-5': 1203,\n",
       " 'CanESM5': 2041,\n",
       " 'EC-Earth3': 2275,\n",
       " 'MPI-ESM1-2-LR': 2558,\n",
       " 'MIROC6': 2585,\n",
       " 'MIROC-ES2L': 3037}"
      ]
     },
     "execution_count": 2,
     "metadata": {},
     "output_type": "execute_result"
    }
   ],
   "source": [
    "# NBVAL_IGNORE_OUTPUT\n",
    "\n",
    "# Now let's look for simulations that have the `hurs` variable and pick the first member.\n",
    "ctx.constrain(variable_id=\"hurs\", ensemble=\"r1i1p1f1\")\n",
    "ctx.facet_counts[\"source_id\"]"
   ]
  },
  {
   "cell_type": "code",
   "execution_count": 3,
   "metadata": {},
   "outputs": [
    {
     "data": {
      "text/plain": [
       "'CMIP6.ScenarioMIP.CCCma.CanESM5.ssp245.r21i1p2f1.Amon.hur.gn.v20190429|esgf-node.ornl.gov'"
      ]
     },
     "execution_count": 3,
     "metadata": {},
     "output_type": "execute_result"
    }
   ],
   "source": [
    "# We can now refine the search and get datasets corresponding within our search context\n",
    "results = ctx.constrain(source_id=\"CanESM5\").search()\n",
    "r = results[0]\n",
    "r.dataset_id"
   ]
  },
  {
   "cell_type": "code",
   "execution_count": 4,
   "metadata": {},
   "outputs": [
    {
     "ename": "HTTPError",
     "evalue": "422 Client Error: Unprocessable Content for url: https://esgf-node.ornl.gov/esgf-1-5-bridge?format=application%2Fsolr%2Bjson&limit=0&distrib=false&type=File&dataset_id=CMIP6.ScenarioMIP.CCCma.CanESM5.ssp245.r21i1p2f1.Amon.hur.gn.v20190429%7Cesgf-node.ornl.gov&facets=%2A",
     "output_type": "error",
     "traceback": [
      "\u001b[31m---------------------------------------------------------------------------\u001b[39m",
      "\u001b[31mHTTPError\u001b[39m                                 Traceback (most recent call last)",
      "\u001b[36mCell\u001b[39m\u001b[36m \u001b[39m\u001b[32mIn[4]\u001b[39m\u001b[32m, line 4\u001b[39m\n\u001b[32m      2\u001b[39m file_ctx = r.file_context()\n\u001b[32m      3\u001b[39m file_ctx.facets = \u001b[33m\"\u001b[39m\u001b[33m*\u001b[39m\u001b[33m\"\u001b[39m\n\u001b[32m----> \u001b[39m\u001b[32m4\u001b[39m files = \u001b[43mfile_ctx\u001b[49m\u001b[43m.\u001b[49m\u001b[43msearch\u001b[49m\u001b[43m(\u001b[49m\u001b[43m)\u001b[49m\n\u001b[32m      5\u001b[39m [f.download_url \u001b[38;5;28;01mfor\u001b[39;00m f \u001b[38;5;129;01min\u001b[39;00m files]\n",
      "\u001b[36mFile \u001b[39m\u001b[32m/opt/conda/envs/birdy/lib/python3.11/site-packages/pyesgf/search/context.py:139\u001b[39m, in \u001b[36mSearchContext.search\u001b[39m\u001b[34m(self, batch_size, ignore_facet_check, **constraints)\u001b[39m\n\u001b[32m    136\u001b[39m     sc = \u001b[38;5;28mself\u001b[39m\n\u001b[32m    138\u001b[39m \u001b[38;5;28;01mif\u001b[39;00m \u001b[38;5;129;01mnot\u001b[39;00m ignore_facet_check:\n\u001b[32m--> \u001b[39m\u001b[32m139\u001b[39m     \u001b[43msc\u001b[49m\u001b[43m.\u001b[49m\u001b[43m__update_counts\u001b[49m\u001b[43m(\u001b[49m\u001b[43m)\u001b[49m\n\u001b[32m    141\u001b[39m \u001b[38;5;28;01mreturn\u001b[39;00m ResultSet(sc, batch_size=batch_size)\n",
      "\u001b[36mFile \u001b[39m\u001b[32m/opt/conda/envs/birdy/lib/python3.11/site-packages/pyesgf/search/context.py:220\u001b[39m, in \u001b[36mSearchContext.__update_counts\u001b[39m\u001b[34m(self)\u001b[39m\n\u001b[32m    217\u001b[39m     \u001b[38;5;28;01mif\u001b[39;00m \u001b[38;5;28mself\u001b[39m.connection.distrib:\n\u001b[32m    218\u001b[39m         \u001b[38;5;28mself\u001b[39m._do_facets_star_warning()\n\u001b[32m--> \u001b[39m\u001b[32m220\u001b[39m response = \u001b[38;5;28;43mself\u001b[39;49m\u001b[43m.\u001b[49m\u001b[43mconnection\u001b[49m\u001b[43m.\u001b[49m\u001b[43msend_search\u001b[49m\u001b[43m(\u001b[49m\u001b[43mquery_dict\u001b[49m\u001b[43m,\u001b[49m\u001b[43m \u001b[49m\u001b[43mlimit\u001b[49m\u001b[43m=\u001b[49m\u001b[32;43m0\u001b[39;49m\u001b[43m)\u001b[49m\n\u001b[32m    221\u001b[39m \u001b[38;5;28;01mfor\u001b[39;00m facet, counts \u001b[38;5;129;01min\u001b[39;00m (\u001b[38;5;28mlist\u001b[39m(response[\u001b[33m'\u001b[39m\u001b[33mfacet_counts\u001b[39m\u001b[33m'\u001b[39m][\u001b[33m'\u001b[39m\u001b[33mfacet_fields\u001b[39m\u001b[33m'\u001b[39m].items())):\n\u001b[32m    222\u001b[39m     d = \u001b[38;5;28mself\u001b[39m.__facet_counts[facet] = {}\n",
      "\u001b[36mFile \u001b[39m\u001b[32m/opt/conda/envs/birdy/lib/python3.11/site-packages/pyesgf/search/connection.py:159\u001b[39m, in \u001b[36mSearchConnection.send_search\u001b[39m\u001b[34m(self, query_dict, limit, offset, shards)\u001b[39m\n\u001b[32m    157\u001b[39m \u001b[38;5;28;01mif\u001b[39;00m \u001b[38;5;129;01mnot\u001b[39;00m \u001b[38;5;28mself\u001b[39m._isopen:\n\u001b[32m    158\u001b[39m     \u001b[38;5;28mself\u001b[39m.open()\n\u001b[32m--> \u001b[39m\u001b[32m159\u001b[39m response = \u001b[38;5;28;43mself\u001b[39;49m\u001b[43m.\u001b[49m\u001b[43m_send_query\u001b[49m\u001b[43m(\u001b[49m\u001b[33;43m'\u001b[39;49m\u001b[33;43msearch\u001b[39;49m\u001b[33;43m'\u001b[39;49m\u001b[43m,\u001b[49m\u001b[43m \u001b[49m\u001b[43mfull_query\u001b[49m\u001b[43m)\u001b[49m\n\u001b[32m    160\u001b[39m ret = response.json()\n\u001b[32m    161\u001b[39m response.close()\n",
      "\u001b[36mFile \u001b[39m\u001b[32m/opt/conda/envs/birdy/lib/python3.11/site-packages/pyesgf/search/connection.py:213\u001b[39m, in \u001b[36mSearchConnection._send_query\u001b[39m\u001b[34m(self, endpoint, full_query)\u001b[39m\n\u001b[32m    210\u001b[39m     \u001b[38;5;28;01mraise\u001b[39;00m \u001b[38;5;167;01mException\u001b[39;00m(\u001b[33m\"\u001b[39m\u001b[33mInvalid query parameter(s): \u001b[39m\u001b[38;5;132;01m%s\u001b[39;00m\u001b[33m\"\u001b[39m % content)\n\u001b[32m    212\u001b[39m \u001b[38;5;66;03m# Raise if query was unsucessful:\u001b[39;00m\n\u001b[32m--> \u001b[39m\u001b[32m213\u001b[39m \u001b[43mresponse\u001b[49m\u001b[43m.\u001b[49m\u001b[43mraise_for_status\u001b[49m\u001b[43m(\u001b[49m\u001b[43m)\u001b[49m\n\u001b[32m    214\u001b[39m \u001b[38;5;28;01mreturn\u001b[39;00m response\n",
      "\u001b[36mFile \u001b[39m\u001b[32m/opt/conda/envs/birdy/lib/python3.11/site-packages/requests/models.py:1024\u001b[39m, in \u001b[36mResponse.raise_for_status\u001b[39m\u001b[34m(self)\u001b[39m\n\u001b[32m   1019\u001b[39m     http_error_msg = (\n\u001b[32m   1020\u001b[39m         \u001b[33mf\u001b[39m\u001b[33m\"\u001b[39m\u001b[38;5;132;01m{\u001b[39;00m\u001b[38;5;28mself\u001b[39m.status_code\u001b[38;5;132;01m}\u001b[39;00m\u001b[33m Server Error: \u001b[39m\u001b[38;5;132;01m{\u001b[39;00mreason\u001b[38;5;132;01m}\u001b[39;00m\u001b[33m for url: \u001b[39m\u001b[38;5;132;01m{\u001b[39;00m\u001b[38;5;28mself\u001b[39m.url\u001b[38;5;132;01m}\u001b[39;00m\u001b[33m\"\u001b[39m\n\u001b[32m   1021\u001b[39m     )\n\u001b[32m   1023\u001b[39m \u001b[38;5;28;01mif\u001b[39;00m http_error_msg:\n\u001b[32m-> \u001b[39m\u001b[32m1024\u001b[39m     \u001b[38;5;28;01mraise\u001b[39;00m HTTPError(http_error_msg, response=\u001b[38;5;28mself\u001b[39m)\n",
      "\u001b[31mHTTPError\u001b[39m: 422 Client Error: Unprocessable Content for url: https://esgf-node.ornl.gov/esgf-1-5-bridge?format=application%2Fsolr%2Bjson&limit=0&distrib=false&type=File&dataset_id=CMIP6.ScenarioMIP.CCCma.CanESM5.ssp245.r21i1p2f1.Amon.hur.gn.v20190429%7Cesgf-node.ornl.gov&facets=%2A"
     ]
    }
   ],
   "source": [
    "# To get file download links, there's an extra step\n",
    "file_ctx = r.file_context()\n",
    "file_ctx.facets = \"*\"\n",
    "files = file_ctx.search()\n",
    "[f.download_url for f in files]"
   ]
  },
  {
   "cell_type": "code",
   "execution_count": 5,
   "metadata": {},
   "outputs": [
    {
     "ename": "NameError",
     "evalue": "name 'files' is not defined",
     "output_type": "error",
     "traceback": [
      "\u001b[31m---------------------------------------------------------------------------\u001b[39m",
      "\u001b[31mNameError\u001b[39m                                 Traceback (most recent call last)",
      "\u001b[36mCell\u001b[39m\u001b[36m \u001b[39m\u001b[32mIn[5]\u001b[39m\u001b[32m, line 2\u001b[39m\n\u001b[32m      1\u001b[39m \u001b[38;5;66;03m# Instead of a download URL, we can also get OPeNDAP links.\u001b[39;00m\n\u001b[32m----> \u001b[39m\u001b[32m2\u001b[39m urls = [f.opendap_url \u001b[38;5;28;01mfor\u001b[39;00m f \u001b[38;5;129;01min\u001b[39;00m \u001b[43mfiles\u001b[49m]\n\u001b[32m      3\u001b[39m \u001b[38;5;28mprint\u001b[39m(urls)\n\u001b[32m      5\u001b[39m \u001b[38;5;66;03m# It's sometimes possible to request aggregations of multiple netCDF into one OPeNDAP link,\u001b[39;00m\n\u001b[32m      6\u001b[39m \u001b[38;5;66;03m# but this option is often unavailable.\u001b[39;00m\n",
      "\u001b[31mNameError\u001b[39m: name 'files' is not defined"
     ]
    }
   ],
   "source": [
    "# Instead of a download URL, we can also get OPeNDAP links.\n",
    "urls = [f.opendap_url for f in files]\n",
    "print(urls)\n",
    "\n",
    "# It's sometimes possible to request aggregations of multiple netCDF into one OPeNDAP link,\n",
    "# but this option is often unavailable.\n",
    "agg_ctx = r.aggregation_context()\n",
    "agg_ctx.facets = \"*\"\n",
    "agg = agg_ctx.search()[0]\n",
    "print(agg.opendap_url)"
   ]
  },
  {
   "cell_type": "code",
   "execution_count": 6,
   "metadata": {},
   "outputs": [
    {
     "ename": "NameError",
     "evalue": "name 'urls' is not defined",
     "output_type": "error",
     "traceback": [
      "\u001b[31m---------------------------------------------------------------------------\u001b[39m",
      "\u001b[31mNameError\u001b[39m                                 Traceback (most recent call last)",
      "\u001b[36mCell\u001b[39m\u001b[36m \u001b[39m\u001b[32mIn[6]\u001b[39m\u001b[32m, line 5\u001b[39m\n\u001b[32m      2\u001b[39m \u001b[38;5;28;01mimport\u001b[39;00m\u001b[38;5;250m \u001b[39m\u001b[34;01mxarray\u001b[39;00m\u001b[38;5;250m \u001b[39m\u001b[38;5;28;01mas\u001b[39;00m\u001b[38;5;250m \u001b[39m\u001b[34;01mxr\u001b[39;00m\n\u001b[32m      4\u001b[39m \u001b[38;5;28;01mtry\u001b[39;00m:\n\u001b[32m----> \u001b[39m\u001b[32m5\u001b[39m     ds = xr.open_mfdataset(\u001b[43murls\u001b[49m)\n\u001b[32m      6\u001b[39m     display(ds)\n\u001b[32m      7\u001b[39m \u001b[38;5;28;01mexcept\u001b[39;00m \u001b[38;5;167;01mOSError\u001b[39;00m \u001b[38;5;28;01mas\u001b[39;00m e:\n",
      "\u001b[31mNameError\u001b[39m: name 'urls' is not defined"
     ]
    }
   ],
   "source": [
    "# Open the OPeNDAP link with xarray\n",
    "import xarray as xr\n",
    "\n",
    "try:\n",
    "    ds = xr.open_mfdataset(urls)\n",
    "    display(ds)\n",
    "except OSError as e:\n",
    "    print(\n",
    "        \"Looks like the remote server is down at the moment. Please try with another dataset stored on a different ESGF node.\\n{e}\"\n",
    "    )"
   ]
  }
 ],
 "metadata": {
  "kernelspec": {
   "display_name": "Python 3 (ipykernel)",
   "language": "python",
   "name": "python3"
  },
  "language_info": {
   "codemirror_mode": {
    "name": "ipython",
    "version": 3
   },
   "file_extension": ".py",
   "mimetype": "text/x-python",
   "name": "python",
   "nbconvert_exporter": "python",
   "pygments_lexer": "ipython3",
   "version": "3.11.12"
  }
 },
 "nbformat": 4,
 "nbformat_minor": 4
}
