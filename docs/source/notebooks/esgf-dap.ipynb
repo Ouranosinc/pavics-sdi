{
 "cells": [
  {
   "cell_type": "markdown",
   "metadata": {},
   "source": [
    "# Earth System Grid Federation Data Access\n",
    "\n",
    "The simplest way to search datasets programmatically within the Earth System Grid Federation (ESGF) is to use [`intake-esgf`](https://intake-esgf.readthedocs.io/). It works like `intake-esm`, but instead of loading a static catalog, `intake-esgf` populates its catalog by querying ESGF index nodes. There is also a new graphical search interface called [Metagrid](https://aims2.llnl.gov/search), but it does not yet federate data from all ESGF nodes.\n",
    "\n",
    "ESGF provides two different mechanisms to retrieve data, the legacy `Solr` index and the new `Globus` index. ESGF is decommissioning the old indexing service based on SOLR, so methods relying on it might break. `intake-esgf` works with both, so should allow for a graceful transition.\n",
    "\n",
    "What `intake-esgf` does is send search queries to a list of index nodes and aggregates the results. You can configure the list of index nodes it queries, especially since some of the nodes are very slow to respond. For this notebook, we'll query only Globus nodes to speed things up, but to ensure you find all the available data, call `intake_esgf.conf.set(all_indices=True)` to search all nodes."
   ]
  },
  {
   "cell_type": "code",
   "execution_count": null,
   "metadata": {
    "jupyter": {
     "is_executing": true
    }
   },
   "outputs": [],
   "source": [
    "# NBVAL_IGNORE_OUTPUT\n",
    "\n",
    "import intake_esgf\n",
    "\n",
    "# Use only Globus index nodes to speed things up\n",
    "intake_esgf.conf[\"solr_indices\"] = {}\n",
    "\n",
    "# Show the configuration\n",
    "print(intake_esgf.conf)\n",
    "\n",
    "# Initialize an empty ESGF catalog\n",
    "cat = intake_esgf.ESGFCatalog()\n",
    "\n",
    "# Launch a search query.\n",
    "# Here we're looking for any variable related to humidity within the CMIP6 SSP2-4.5 experiment.\n",
    "# Results will be stored in a dictionary with keys defined by the `facets` argument.\n",
    "cat.search(\n",
    "    project=\"CMIP6\",\n",
    "    variable_id=[\"hurs\"],\n",
    "    table_id=\"Amon\",\n",
    "    experiment_id=[\"ssp126\", \"ssp245\", \"ssp370\", \"ssp585\"],\n",
    ")"
   ]
  },
  {
   "cell_type": "markdown",
   "metadata": {},
   "source": [
    "You can get a sense of what datasets are available with the `model_group` method, which counts the number of unique combinations of `source_id, member_id` and `grid_label`.\n",
    "\n",
    "Other useful methods are `remove_ensembles`, which picks only one `member_id` (the smallest 4 integer values for the *ripf* code, and `remove_incomplete`, which filters model groups according to criteria you can define. See the [docs](https://intake-esgf.readthedocs.io/en/latest/modelgroups.html) for details."
   ]
  },
  {
   "cell_type": "code",
   "execution_count": null,
   "metadata": {},
   "outputs": [],
   "source": [
    "# NBVAL_IGNORE_OUTPUT\n",
    "\n",
    "# Keep only one member per model, experiment and grid.\n",
    "cat.remove_ensembles()\n",
    "\n",
    "# Remove models groups that don't have the four SSPs.\n",
    "cat.remove_incomplete(lambda df: len(df) == 4)\n",
    "\n",
    "cat.model_groups()"
   ]
  },
  {
   "cell_type": "markdown",
   "metadata": {},
   "source": [
    "Now we'll try to access some data. For small queries, a good approach is to use streaming, rather than downloading the whole thing. Here we'll just ask for simulations from CanESM5, and try to stream some data. Getting the file information can take some time."
   ]
  },
  {
   "cell_type": "code",
   "execution_count": null,
   "metadata": {},
   "outputs": [],
   "source": [
    "# NBVAL_IGNORE_OUTPUT\n",
    "\n",
    "# Let's focus the search on one single model to speed up the rest of the notebook\n",
    "cat.search(\n",
    "    project=\"CMIP6\",\n",
    "    source_id=\"CanESM5\",\n",
    "    variable_id=[\"hurs\"],\n",
    "    table_id=\"Amon\",\n",
    "    experiment_id=[\"ssp126\", \"ssp245\", \"ssp370\", \"ssp585\"],\n",
    ")\n",
    "cat.remove_ensembles()\n",
    "\n",
    "# The `prefer_streaming` argument specifies that we'd rather not download entire files.\n",
    "# When True, the `add_measures` argument triggers search for variables that are referenced\n",
    "# in the `cell_measure` attribute, such as `areacella` or `areacello`.\n",
    "dsd = cat.to_dataset_dict(prefer_streaming=True, add_measures=False)"
   ]
  },
  {
   "cell_type": "code",
   "execution_count": null,
   "metadata": {},
   "outputs": [],
   "source": [
    "# NBVAL_IGNORE_OUTPUT\n",
    "\n",
    "# Here the result is keyed by experiment_id.\n",
    "dsd[\"ssp370\"][\"hurs\"]"
   ]
  },
  {
   "cell_type": "markdown",
   "metadata": {},
   "source": [
    "By default, the ``to_dataset_dict`` method downloads files locally. If you already hold datasets locally, you can specify the ``esg_dataroot`` in the configuration. You can also specify the local_cache where missing datasets will be downloaded.\n",
    "\n",
    "Please check the [documentation](https://intake-esgf.readthedocs.io/) for more details on how to use `to_dataset_dict`."
   ]
  },
  {
   "cell_type": "markdown",
   "metadata": {},
   "source": []
  }
 ],
 "metadata": {
  "kernelspec": {
   "display_name": "Python 3 (ipykernel)",
   "language": "python",
   "name": "python3"
  },
  "language_info": {
   "codemirror_mode": {
    "name": "ipython",
    "version": 3
   },
   "file_extension": ".py",
   "mimetype": "text/x-python",
   "name": "python",
   "nbconvert_exporter": "python",
   "pygments_lexer": "ipython3",
   "version": "3.11.12"
  }
 },
 "nbformat": 4,
 "nbformat_minor": 4
}
