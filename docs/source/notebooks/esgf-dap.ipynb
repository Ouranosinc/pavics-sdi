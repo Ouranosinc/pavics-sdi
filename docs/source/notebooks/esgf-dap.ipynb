{
 "cells": [
  {
   "cell_type": "markdown",
   "metadata": {},
   "source": [
    "# ESGF DAP Access\n",
    "\n",
    "Earth System Grid Federation data requires users to log in to get access to the data. Here is how you would access ESGF data using OPeNDAP. Note that not all files are exposed through the OPeNDAP protocol... "
   ]
  },
  {
   "cell_type": "code",
   "execution_count": 1,
   "metadata": {},
   "outputs": [
    {
     "name": "stderr",
     "output_type": "stream",
     "text": [
      "/home/david/.conda/envs/pavics-sdi/lib/python3.6/site-packages/urllib3/connectionpool.py:851: InsecureRequestWarning: Unverified HTTPS request is being made. Adding certificate verification is strongly advised. See: https://urllib3.readthedocs.io/en/latest/advanced-usage.html#ssl-warnings\n",
      "  InsecureRequestWarning)\n",
      "/home/david/.conda/envs/pavics-sdi/lib/python3.6/site-packages/urllib3/connectionpool.py:851: InsecureRequestWarning: Unverified HTTPS request is being made. Adding certificate verification is strongly advised. See: https://urllib3.readthedocs.io/en/latest/advanced-usage.html#ssl-warnings\n",
      "  InsecureRequestWarning)\n",
      "/home/david/.conda/envs/pavics-sdi/lib/python3.6/site-packages/urllib3/connectionpool.py:851: InsecureRequestWarning: Unverified HTTPS request is being made. Adding certificate verification is strongly advised. See: https://urllib3.readthedocs.io/en/latest/advanced-usage.html#ssl-warnings\n",
      "  InsecureRequestWarning)\n",
      "/home/david/.conda/envs/pavics-sdi/lib/python3.6/site-packages/urllib3/connectionpool.py:851: InsecureRequestWarning: Unverified HTTPS request is being made. Adding certificate verification is strongly advised. See: https://urllib3.readthedocs.io/en/latest/advanced-usage.html#ssl-warnings\n",
      "  InsecureRequestWarning)\n",
      "/home/david/.conda/envs/pavics-sdi/lib/python3.6/site-packages/urllib3/connectionpool.py:851: InsecureRequestWarning: Unverified HTTPS request is being made. Adding certificate verification is strongly advised. See: https://urllib3.readthedocs.io/en/latest/advanced-usage.html#ssl-warnings\n",
      "  InsecureRequestWarning)\n"
     ]
    },
    {
     "data": {
      "text/plain": [
       "OrderedDict([('institution', 'Max Planck Institute for Meteorology'),\n",
       "             ('institute_id', 'MPI-M'),\n",
       "             ('experiment_id', 'rcp85'),\n",
       "             ('source',\n",
       "              'MPI-ESM-MR 2011; URL: http://svn.zmaw.de/svn/cosmos/branches/releases/mpi-esm-cmip5/src/mod; atmosphere: ECHAM6 (REV: 4936), T63L47; land: JSBACH (REV: 4936); ocean: MPIOM (REV: 4936), GR15L40; sea ice: 4936; marine bgc: HAMOCC (REV: 4936);'),\n",
       "             ('model_id', 'MPI-ESM-MR'),\n",
       "             ('forcing', 'GHG,Oz,SD,Sl,Vl,LU'),\n",
       "             ('parent_experiment_id', 'historical'),\n",
       "             ('parent_experiment_rip', 'r1i1p1'),\n",
       "             ('branch_time', 56978.0),\n",
       "             ('contact', 'cmip5-mpi-esm@dkrz.de'),\n",
       "             ('history',\n",
       "              'Model raw output postprocessing with modelling environment (IMDI) at DKRZ: URL: http://svn-mad.zmaw.de/svn/mad/Model/IMDI/trunk, REV: 3998 2011-11-14T17:28:06Z CMOR rewrote data to comply with CF standards and CMIP5 requirements.'),\n",
       "             ('references',\n",
       "              'ECHAM6: n/a; JSBACH: Raddatz et al., 2007. Will the tropical land biosphere dominate the climate-carbon cycle feedback during the twenty first century? Climate Dynamics, 29, 565-574, doi 10.1007/s00382-007-0247-8;  MPIOM: Marsland et al., 2003. The Max-Planck-Institute global ocean/sea ice model with orthogonal curvilinear coordinates. Ocean Modelling, 5, 91-127;  HAMOCC: Technical Documentation, http://www.mpimet.mpg.de/fileadmin/models/MPIOM/HAMOCC5.1_TECHNICAL_REPORT.pdf;'),\n",
       "             ('initialization_method', 1),\n",
       "             ('physics_version', 1),\n",
       "             ('tracking_id', '87fa3a10-89ff-453e-b230-8c29b76bea9e'),\n",
       "             ('product', 'output'),\n",
       "             ('experiment', 'RCP8.5'),\n",
       "             ('frequency', 'mon'),\n",
       "             ('creation_date', '2011-11-14T17:28:06Z'),\n",
       "             ('Conventions', 'CF-1.4'),\n",
       "             ('project_id', 'CMIP5'),\n",
       "             ('table_id',\n",
       "              'Table Amon (27 April 2011) a5a1c518f52ae340313ba0aada03f862'),\n",
       "             ('title', 'MPI-ESM-MR model output prepared for CMIP5 RCP8.5'),\n",
       "             ('parent_experiment', 'historical'),\n",
       "             ('modeling_realm', 'atmos'),\n",
       "             ('realization', 1),\n",
       "             ('cmor_version', '2.6.0')])"
      ]
     },
     "execution_count": 1,
     "metadata": {},
     "output_type": "execute_result"
    }
   ],
   "source": [
    "import os\n",
    "import xarray as xr\n",
    "from pydap.cas.esgf import setup_session\n",
    "# ds_url = \"http://esgfcog.cccma.ec.gc.ca/thredds/dodsC/cmip5.output.CCCma.CanESM2.rcp85.mon.atmos.r4i1p1.pr.20130331.aggregation\"\n",
    "# The CCCMA server fails with an SSLError...\n",
    "# ds_url = \"https://esgf1.dkrz.de/thredds/dodsC/cmip5.output1.MPI-M.MPI-ESM-MR.rcp85.day.atmos.day.r1i1p1.uas.20120503.aggregation\"\n",
    "ds_url = \"https://esgf1.dkrz.de/thredds/dodsC/cmip5.output1.MPI-M.MPI-ESM-MR.rcp85.mon.atmos.Amon.r1i1p1.pr.20120503.aggregation\"\n",
    "username = os.environ.get('ESGF_AUTH_USERNAME', '<your openid>')\n",
    "password = os.environ.get('ESGF_AUTH_PASSWORD', '<password>')\n",
    "session = setup_session(username, password, check_url=ds_url)\n",
    "store = xr.backends.PydapDataStore.open(ds_url, session=session)\n",
    "ds = xr.open_dataset(store, decode_cf=False)\n",
    "ds.attrs"
   ]
  }
 ],
 "metadata": {
  "kernelspec": {
   "display_name": "Python 3",
   "language": "python",
   "name": "python3"
  },
  "language_info": {
   "codemirror_mode": {
    "name": "ipython",
    "version": 3
   },
   "file_extension": ".py",
   "mimetype": "text/x-python",
   "name": "python",
   "nbconvert_exporter": "python",
   "pygments_lexer": "ipython3",
   "version": "3.6.7"
  }
 },
 "nbformat": 4,
 "nbformat_minor": 2
}
