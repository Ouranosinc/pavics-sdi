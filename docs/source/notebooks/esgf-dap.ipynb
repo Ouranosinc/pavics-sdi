{
 "cells": [
  {
   "cell_type": "markdown",
   "metadata": {},
   "source": [
    "# Earth System Grid Federation Data Access\n",
    "\n",
    "The Earth System Grid Federation (ESGF) has a search API that can be used by clients to query catalog content matching constraints (see [API documentation](https://github.com/ESGF/esgf.github.io/wiki/ESGF_Search_REST_API)). It's possible to send requests directly to the API using a simple function (see [example](https://esgf2.github.io/cmip6-cookbook/notebooks/foundations/esgf-opendap.html)), but here we'll use a python client named `pyesgf` to interact with the search API and get data from the ESGF THREDDS servers. The following shows examples of typical queries for data. \n",
    "\n",
    "If a login username and credentials are required, follow these [instructions](https://esgf-pyclient.readthedocs.io/en/latest/notebooks/examples/logon.html)."
   ]
  },
  {
   "cell_type": "code",
   "execution_count": 1,
   "metadata": {
    "jupyter": {
     "is_executing": true
    }
   },
   "outputs": [
    {
     "ename": "HTTPError",
     "evalue": "403 Client Error: Forbidden for url: https://esgf-node.llnl.gov/esg-search/search?format=application%2Fsolr%2Bjson&limit=0&distrib=false&query=humidity&type=Dataset&project=CMIP6&experiment_id=ssp245&facets=variable_id%2Csource_id",
     "output_type": "error",
     "traceback": [
      "\u001b[31m---------------------------------------------------------------------------\u001b[39m",
      "\u001b[31mHTTPError\u001b[39m                                 Traceback (most recent call last)",
      "\u001b[36mCell\u001b[39m\u001b[36m \u001b[39m\u001b[32mIn[1]\u001b[39m\u001b[32m, line 18\u001b[39m\n\u001b[32m      8\u001b[39m \u001b[38;5;66;03m# Launch a search query.\u001b[39;00m\n\u001b[32m      9\u001b[39m \u001b[38;5;66;03m# Here we're looking for any variable related to humidity within the CMIP6 SSP2-4.5 experiment.\u001b[39;00m\n\u001b[32m     10\u001b[39m \u001b[38;5;66;03m# Results will be stored in a dictionary with keys defined by the `facets` argument.\u001b[39;00m\n\u001b[32m     11\u001b[39m ctx = conn.new_context(\n\u001b[32m     12\u001b[39m     project=\u001b[33m\"\u001b[39m\u001b[33mCMIP6\u001b[39m\u001b[33m\"\u001b[39m,\n\u001b[32m     13\u001b[39m     experiment_id=\u001b[33m\"\u001b[39m\u001b[33mssp245\u001b[39m\u001b[33m\"\u001b[39m,\n\u001b[32m     14\u001b[39m     query=\u001b[33m\"\u001b[39m\u001b[33mhumidity\u001b[39m\u001b[33m\"\u001b[39m,\n\u001b[32m     15\u001b[39m     facets=\u001b[33m\"\u001b[39m\u001b[33mvariable_id,source_id\u001b[39m\u001b[33m\"\u001b[39m,\n\u001b[32m     16\u001b[39m )\n\u001b[32m---> \u001b[39m\u001b[32m18\u001b[39m \u001b[38;5;28mprint\u001b[39m(\u001b[33m\"\u001b[39m\u001b[33mNumber of results: \u001b[39m\u001b[33m\"\u001b[39m, \u001b[43mctx\u001b[49m\u001b[43m.\u001b[49m\u001b[43mhit_count\u001b[49m)\n\u001b[32m     19\u001b[39m \u001b[38;5;28mprint\u001b[39m(\u001b[33m\"\u001b[39m\u001b[33mVariables related to humidity: \u001b[39m\u001b[33m\"\u001b[39m)\n\u001b[32m     20\u001b[39m ctx.facet_counts[\u001b[33m\"\u001b[39m\u001b[33mvariable_id\u001b[39m\u001b[33m\"\u001b[39m]\n",
      "\u001b[36mFile \u001b[39m\u001b[32m/opt/conda/envs/birdy/lib/python3.11/site-packages/pyesgf/search/context.py:182\u001b[39m, in \u001b[36mSearchContext.hit_count\u001b[39m\u001b[34m(self)\u001b[39m\n\u001b[32m    180\u001b[39m \u001b[38;5;129m@property\u001b[39m\n\u001b[32m    181\u001b[39m \u001b[38;5;28;01mdef\u001b[39;00m\u001b[38;5;250m \u001b[39m\u001b[34mhit_count\u001b[39m(\u001b[38;5;28mself\u001b[39m):\n\u001b[32m--> \u001b[39m\u001b[32m182\u001b[39m     \u001b[38;5;28;43mself\u001b[39;49m\u001b[43m.\u001b[49m\u001b[43m__update_counts\u001b[49m\u001b[43m(\u001b[49m\u001b[43m)\u001b[49m\n\u001b[32m    183\u001b[39m     \u001b[38;5;28;01mreturn\u001b[39;00m \u001b[38;5;28mself\u001b[39m.__hit_count\n",
      "\u001b[36mFile \u001b[39m\u001b[32m/opt/conda/envs/birdy/lib/python3.11/site-packages/pyesgf/search/context.py:220\u001b[39m, in \u001b[36mSearchContext.__update_counts\u001b[39m\u001b[34m(self)\u001b[39m\n\u001b[32m    217\u001b[39m     \u001b[38;5;28;01mif\u001b[39;00m \u001b[38;5;28mself\u001b[39m.connection.distrib:\n\u001b[32m    218\u001b[39m         \u001b[38;5;28mself\u001b[39m._do_facets_star_warning()\n\u001b[32m--> \u001b[39m\u001b[32m220\u001b[39m response = \u001b[38;5;28;43mself\u001b[39;49m\u001b[43m.\u001b[49m\u001b[43mconnection\u001b[49m\u001b[43m.\u001b[49m\u001b[43msend_search\u001b[49m\u001b[43m(\u001b[49m\u001b[43mquery_dict\u001b[49m\u001b[43m,\u001b[49m\u001b[43m \u001b[49m\u001b[43mlimit\u001b[49m\u001b[43m=\u001b[49m\u001b[32;43m0\u001b[39;49m\u001b[43m)\u001b[49m\n\u001b[32m    221\u001b[39m \u001b[38;5;28;01mfor\u001b[39;00m facet, counts \u001b[38;5;129;01min\u001b[39;00m (\u001b[38;5;28mlist\u001b[39m(response[\u001b[33m'\u001b[39m\u001b[33mfacet_counts\u001b[39m\u001b[33m'\u001b[39m][\u001b[33m'\u001b[39m\u001b[33mfacet_fields\u001b[39m\u001b[33m'\u001b[39m].items())):\n\u001b[32m    222\u001b[39m     d = \u001b[38;5;28mself\u001b[39m.__facet_counts[facet] = {}\n",
      "\u001b[36mFile \u001b[39m\u001b[32m/opt/conda/envs/birdy/lib/python3.11/site-packages/pyesgf/search/connection.py:159\u001b[39m, in \u001b[36mSearchConnection.send_search\u001b[39m\u001b[34m(self, query_dict, limit, offset, shards)\u001b[39m\n\u001b[32m    157\u001b[39m \u001b[38;5;28;01mif\u001b[39;00m \u001b[38;5;129;01mnot\u001b[39;00m \u001b[38;5;28mself\u001b[39m._isopen:\n\u001b[32m    158\u001b[39m     \u001b[38;5;28mself\u001b[39m.open()\n\u001b[32m--> \u001b[39m\u001b[32m159\u001b[39m response = \u001b[38;5;28;43mself\u001b[39;49m\u001b[43m.\u001b[49m\u001b[43m_send_query\u001b[49m\u001b[43m(\u001b[49m\u001b[33;43m'\u001b[39;49m\u001b[33;43msearch\u001b[39;49m\u001b[33;43m'\u001b[39;49m\u001b[43m,\u001b[49m\u001b[43m \u001b[49m\u001b[43mfull_query\u001b[49m\u001b[43m)\u001b[49m\n\u001b[32m    160\u001b[39m ret = response.json()\n\u001b[32m    161\u001b[39m response.close()\n",
      "\u001b[36mFile \u001b[39m\u001b[32m/opt/conda/envs/birdy/lib/python3.11/site-packages/pyesgf/search/connection.py:213\u001b[39m, in \u001b[36mSearchConnection._send_query\u001b[39m\u001b[34m(self, endpoint, full_query)\u001b[39m\n\u001b[32m    210\u001b[39m     \u001b[38;5;28;01mraise\u001b[39;00m \u001b[38;5;167;01mException\u001b[39;00m(\u001b[33m\"\u001b[39m\u001b[33mInvalid query parameter(s): \u001b[39m\u001b[38;5;132;01m%s\u001b[39;00m\u001b[33m\"\u001b[39m % content)\n\u001b[32m    212\u001b[39m \u001b[38;5;66;03m# Raise if query was unsucessful:\u001b[39;00m\n\u001b[32m--> \u001b[39m\u001b[32m213\u001b[39m \u001b[43mresponse\u001b[49m\u001b[43m.\u001b[49m\u001b[43mraise_for_status\u001b[49m\u001b[43m(\u001b[49m\u001b[43m)\u001b[49m\n\u001b[32m    214\u001b[39m \u001b[38;5;28;01mreturn\u001b[39;00m response\n",
      "\u001b[36mFile \u001b[39m\u001b[32m/opt/conda/envs/birdy/lib/python3.11/site-packages/requests/models.py:1024\u001b[39m, in \u001b[36mResponse.raise_for_status\u001b[39m\u001b[34m(self)\u001b[39m\n\u001b[32m   1019\u001b[39m     http_error_msg = (\n\u001b[32m   1020\u001b[39m         \u001b[33mf\u001b[39m\u001b[33m\"\u001b[39m\u001b[38;5;132;01m{\u001b[39;00m\u001b[38;5;28mself\u001b[39m.status_code\u001b[38;5;132;01m}\u001b[39;00m\u001b[33m Server Error: \u001b[39m\u001b[38;5;132;01m{\u001b[39;00mreason\u001b[38;5;132;01m}\u001b[39;00m\u001b[33m for url: \u001b[39m\u001b[38;5;132;01m{\u001b[39;00m\u001b[38;5;28mself\u001b[39m.url\u001b[38;5;132;01m}\u001b[39;00m\u001b[33m\"\u001b[39m\n\u001b[32m   1021\u001b[39m     )\n\u001b[32m   1023\u001b[39m \u001b[38;5;28;01mif\u001b[39;00m http_error_msg:\n\u001b[32m-> \u001b[39m\u001b[32m1024\u001b[39m     \u001b[38;5;28;01mraise\u001b[39;00m HTTPError(http_error_msg, response=\u001b[38;5;28mself\u001b[39m)\n",
      "\u001b[31mHTTPError\u001b[39m: 403 Client Error: Forbidden for url: https://esgf-node.llnl.gov/esg-search/search?format=application%2Fsolr%2Bjson&limit=0&distrib=false&query=humidity&type=Dataset&project=CMIP6&experiment_id=ssp245&facets=variable_id%2Csource_id"
     ]
    }
   ],
   "source": [
    "# NBVAL_IGNORE_OUTPUT\n",
    "\n",
    "from pyesgf.search import SearchConnection\n",
    "\n",
    "# Create a connection for search on ESGF nodes. Note that setting `distrib=True` can lead to unique failures.\n",
    "conn = SearchConnection(\"https://esgf-node.llnl.gov/esg-search/\", distrib=False)\n",
    "\n",
    "# Launch a search query.\n",
    "# Here we're looking for any variable related to humidity within the CMIP6 SSP2-4.5 experiment.\n",
    "# Results will be stored in a dictionary with keys defined by the `facets` argument.\n",
    "ctx = conn.new_context(\n",
    "    project=\"CMIP6\",\n",
    "    experiment_id=\"ssp245\",\n",
    "    query=\"humidity\",\n",
    "    facets=\"variable_id,source_id\",\n",
    ")\n",
    "\n",
    "print(\"Number of results: \", ctx.hit_count)\n",
    "print(\"Variables related to humidity: \")\n",
    "ctx.facet_counts[\"variable_id\"]"
   ]
  },
  {
   "cell_type": "code",
   "execution_count": 2,
   "metadata": {},
   "outputs": [
    {
     "ename": "HTTPError",
     "evalue": "403 Client Error: Forbidden for url: https://esgf-node.llnl.gov/esg-search/search?format=application%2Fsolr%2Bjson&limit=0&distrib=false&query=humidity&type=Dataset&project=CMIP6&experiment_id=ssp245&facets=variable_id%2Csource_id",
     "output_type": "error",
     "traceback": [
      "\u001b[31m---------------------------------------------------------------------------\u001b[39m",
      "\u001b[31mHTTPError\u001b[39m                                 Traceback (most recent call last)",
      "\u001b[36mCell\u001b[39m\u001b[36m \u001b[39m\u001b[32mIn[2]\u001b[39m\u001b[32m, line 5\u001b[39m\n\u001b[32m      1\u001b[39m \u001b[38;5;66;03m# NBVAL_IGNORE_OUTPUT\u001b[39;00m\n\u001b[32m      2\u001b[39m \n\u001b[32m      3\u001b[39m \u001b[38;5;66;03m# Now let's look for simulations that have the `hurs` variable and pick the first member.\u001b[39;00m\n\u001b[32m      4\u001b[39m ctx.constrain(variable_id=\u001b[33m\"\u001b[39m\u001b[33mhurs\u001b[39m\u001b[33m\"\u001b[39m, ensemble=\u001b[33m\"\u001b[39m\u001b[33mr1i1p1f1\u001b[39m\u001b[33m\"\u001b[39m)\n\u001b[32m----> \u001b[39m\u001b[32m5\u001b[39m \u001b[43mctx\u001b[49m\u001b[43m.\u001b[49m\u001b[43mfacet_counts\u001b[49m[\u001b[33m\"\u001b[39m\u001b[33msource_id\u001b[39m\u001b[33m\"\u001b[39m]\n",
      "\u001b[36mFile \u001b[39m\u001b[32m/opt/conda/envs/birdy/lib/python3.11/site-packages/pyesgf/search/context.py:177\u001b[39m, in \u001b[36mSearchContext.facet_counts\u001b[39m\u001b[34m(self)\u001b[39m\n\u001b[32m    175\u001b[39m \u001b[38;5;129m@property\u001b[39m\n\u001b[32m    176\u001b[39m \u001b[38;5;28;01mdef\u001b[39;00m\u001b[38;5;250m \u001b[39m\u001b[34mfacet_counts\u001b[39m(\u001b[38;5;28mself\u001b[39m):\n\u001b[32m--> \u001b[39m\u001b[32m177\u001b[39m     \u001b[38;5;28;43mself\u001b[39;49m\u001b[43m.\u001b[49m\u001b[43m__update_counts\u001b[49m\u001b[43m(\u001b[49m\u001b[43m)\u001b[49m\n\u001b[32m    178\u001b[39m     \u001b[38;5;28;01mreturn\u001b[39;00m \u001b[38;5;28mself\u001b[39m.__facet_counts\n",
      "\u001b[36mFile \u001b[39m\u001b[32m/opt/conda/envs/birdy/lib/python3.11/site-packages/pyesgf/search/context.py:220\u001b[39m, in \u001b[36mSearchContext.__update_counts\u001b[39m\u001b[34m(self)\u001b[39m\n\u001b[32m    217\u001b[39m     \u001b[38;5;28;01mif\u001b[39;00m \u001b[38;5;28mself\u001b[39m.connection.distrib:\n\u001b[32m    218\u001b[39m         \u001b[38;5;28mself\u001b[39m._do_facets_star_warning()\n\u001b[32m--> \u001b[39m\u001b[32m220\u001b[39m response = \u001b[38;5;28;43mself\u001b[39;49m\u001b[43m.\u001b[49m\u001b[43mconnection\u001b[49m\u001b[43m.\u001b[49m\u001b[43msend_search\u001b[49m\u001b[43m(\u001b[49m\u001b[43mquery_dict\u001b[49m\u001b[43m,\u001b[49m\u001b[43m \u001b[49m\u001b[43mlimit\u001b[49m\u001b[43m=\u001b[49m\u001b[32;43m0\u001b[39;49m\u001b[43m)\u001b[49m\n\u001b[32m    221\u001b[39m \u001b[38;5;28;01mfor\u001b[39;00m facet, counts \u001b[38;5;129;01min\u001b[39;00m (\u001b[38;5;28mlist\u001b[39m(response[\u001b[33m'\u001b[39m\u001b[33mfacet_counts\u001b[39m\u001b[33m'\u001b[39m][\u001b[33m'\u001b[39m\u001b[33mfacet_fields\u001b[39m\u001b[33m'\u001b[39m].items())):\n\u001b[32m    222\u001b[39m     d = \u001b[38;5;28mself\u001b[39m.__facet_counts[facet] = {}\n",
      "\u001b[36mFile \u001b[39m\u001b[32m/opt/conda/envs/birdy/lib/python3.11/site-packages/pyesgf/search/connection.py:159\u001b[39m, in \u001b[36mSearchConnection.send_search\u001b[39m\u001b[34m(self, query_dict, limit, offset, shards)\u001b[39m\n\u001b[32m    157\u001b[39m \u001b[38;5;28;01mif\u001b[39;00m \u001b[38;5;129;01mnot\u001b[39;00m \u001b[38;5;28mself\u001b[39m._isopen:\n\u001b[32m    158\u001b[39m     \u001b[38;5;28mself\u001b[39m.open()\n\u001b[32m--> \u001b[39m\u001b[32m159\u001b[39m response = \u001b[38;5;28;43mself\u001b[39;49m\u001b[43m.\u001b[49m\u001b[43m_send_query\u001b[49m\u001b[43m(\u001b[49m\u001b[33;43m'\u001b[39;49m\u001b[33;43msearch\u001b[39;49m\u001b[33;43m'\u001b[39;49m\u001b[43m,\u001b[49m\u001b[43m \u001b[49m\u001b[43mfull_query\u001b[49m\u001b[43m)\u001b[49m\n\u001b[32m    160\u001b[39m ret = response.json()\n\u001b[32m    161\u001b[39m response.close()\n",
      "\u001b[36mFile \u001b[39m\u001b[32m/opt/conda/envs/birdy/lib/python3.11/site-packages/pyesgf/search/connection.py:213\u001b[39m, in \u001b[36mSearchConnection._send_query\u001b[39m\u001b[34m(self, endpoint, full_query)\u001b[39m\n\u001b[32m    210\u001b[39m     \u001b[38;5;28;01mraise\u001b[39;00m \u001b[38;5;167;01mException\u001b[39;00m(\u001b[33m\"\u001b[39m\u001b[33mInvalid query parameter(s): \u001b[39m\u001b[38;5;132;01m%s\u001b[39;00m\u001b[33m\"\u001b[39m % content)\n\u001b[32m    212\u001b[39m \u001b[38;5;66;03m# Raise if query was unsucessful:\u001b[39;00m\n\u001b[32m--> \u001b[39m\u001b[32m213\u001b[39m \u001b[43mresponse\u001b[49m\u001b[43m.\u001b[49m\u001b[43mraise_for_status\u001b[49m\u001b[43m(\u001b[49m\u001b[43m)\u001b[49m\n\u001b[32m    214\u001b[39m \u001b[38;5;28;01mreturn\u001b[39;00m response\n",
      "\u001b[36mFile \u001b[39m\u001b[32m/opt/conda/envs/birdy/lib/python3.11/site-packages/requests/models.py:1024\u001b[39m, in \u001b[36mResponse.raise_for_status\u001b[39m\u001b[34m(self)\u001b[39m\n\u001b[32m   1019\u001b[39m     http_error_msg = (\n\u001b[32m   1020\u001b[39m         \u001b[33mf\u001b[39m\u001b[33m\"\u001b[39m\u001b[38;5;132;01m{\u001b[39;00m\u001b[38;5;28mself\u001b[39m.status_code\u001b[38;5;132;01m}\u001b[39;00m\u001b[33m Server Error: \u001b[39m\u001b[38;5;132;01m{\u001b[39;00mreason\u001b[38;5;132;01m}\u001b[39;00m\u001b[33m for url: \u001b[39m\u001b[38;5;132;01m{\u001b[39;00m\u001b[38;5;28mself\u001b[39m.url\u001b[38;5;132;01m}\u001b[39;00m\u001b[33m\"\u001b[39m\n\u001b[32m   1021\u001b[39m     )\n\u001b[32m   1023\u001b[39m \u001b[38;5;28;01mif\u001b[39;00m http_error_msg:\n\u001b[32m-> \u001b[39m\u001b[32m1024\u001b[39m     \u001b[38;5;28;01mraise\u001b[39;00m HTTPError(http_error_msg, response=\u001b[38;5;28mself\u001b[39m)\n",
      "\u001b[31mHTTPError\u001b[39m: 403 Client Error: Forbidden for url: https://esgf-node.llnl.gov/esg-search/search?format=application%2Fsolr%2Bjson&limit=0&distrib=false&query=humidity&type=Dataset&project=CMIP6&experiment_id=ssp245&facets=variable_id%2Csource_id"
     ]
    }
   ],
   "source": [
    "# NBVAL_IGNORE_OUTPUT\n",
    "\n",
    "# Now let's look for simulations that have the `hurs` variable and pick the first member.\n",
    "ctx.constrain(variable_id=\"hurs\", ensemble=\"r1i1p1f1\")\n",
    "ctx.facet_counts[\"source_id\"]"
   ]
  },
  {
   "cell_type": "code",
   "execution_count": 3,
   "metadata": {},
   "outputs": [
    {
     "ename": "HTTPError",
     "evalue": "403 Client Error: Forbidden for url: https://esgf-node.llnl.gov/esg-search/search?format=application%2Fsolr%2Bjson&limit=0&distrib=false&query=humidity&type=Dataset&project=CMIP6&experiment_id=ssp245&source_id=CanESM5&facets=variable_id%2Csource_id",
     "output_type": "error",
     "traceback": [
      "\u001b[31m---------------------------------------------------------------------------\u001b[39m",
      "\u001b[31mHTTPError\u001b[39m                                 Traceback (most recent call last)",
      "\u001b[36mCell\u001b[39m\u001b[36m \u001b[39m\u001b[32mIn[3]\u001b[39m\u001b[32m, line 2\u001b[39m\n\u001b[32m      1\u001b[39m \u001b[38;5;66;03m# We can now refine the search and get datasets corresponding within our search context\u001b[39;00m\n\u001b[32m----> \u001b[39m\u001b[32m2\u001b[39m results = \u001b[43mctx\u001b[49m\u001b[43m.\u001b[49m\u001b[43mconstrain\u001b[49m\u001b[43m(\u001b[49m\u001b[43msource_id\u001b[49m\u001b[43m=\u001b[49m\u001b[33;43m\"\u001b[39;49m\u001b[33;43mCanESM5\u001b[39;49m\u001b[33;43m\"\u001b[39;49m\u001b[43m)\u001b[49m\u001b[43m.\u001b[49m\u001b[43msearch\u001b[49m\u001b[43m(\u001b[49m\u001b[43m)\u001b[49m\n\u001b[32m      3\u001b[39m r = results[\u001b[32m0\u001b[39m]\n\u001b[32m      4\u001b[39m r.dataset_id\n",
      "\u001b[36mFile \u001b[39m\u001b[32m/opt/conda/envs/birdy/lib/python3.11/site-packages/pyesgf/search/context.py:139\u001b[39m, in \u001b[36mSearchContext.search\u001b[39m\u001b[34m(self, batch_size, ignore_facet_check, **constraints)\u001b[39m\n\u001b[32m    136\u001b[39m     sc = \u001b[38;5;28mself\u001b[39m\n\u001b[32m    138\u001b[39m \u001b[38;5;28;01mif\u001b[39;00m \u001b[38;5;129;01mnot\u001b[39;00m ignore_facet_check:\n\u001b[32m--> \u001b[39m\u001b[32m139\u001b[39m     \u001b[43msc\u001b[49m\u001b[43m.\u001b[49m\u001b[43m__update_counts\u001b[49m\u001b[43m(\u001b[49m\u001b[43m)\u001b[49m\n\u001b[32m    141\u001b[39m \u001b[38;5;28;01mreturn\u001b[39;00m ResultSet(sc, batch_size=batch_size)\n",
      "\u001b[36mFile \u001b[39m\u001b[32m/opt/conda/envs/birdy/lib/python3.11/site-packages/pyesgf/search/context.py:220\u001b[39m, in \u001b[36mSearchContext.__update_counts\u001b[39m\u001b[34m(self)\u001b[39m\n\u001b[32m    217\u001b[39m     \u001b[38;5;28;01mif\u001b[39;00m \u001b[38;5;28mself\u001b[39m.connection.distrib:\n\u001b[32m    218\u001b[39m         \u001b[38;5;28mself\u001b[39m._do_facets_star_warning()\n\u001b[32m--> \u001b[39m\u001b[32m220\u001b[39m response = \u001b[38;5;28;43mself\u001b[39;49m\u001b[43m.\u001b[49m\u001b[43mconnection\u001b[49m\u001b[43m.\u001b[49m\u001b[43msend_search\u001b[49m\u001b[43m(\u001b[49m\u001b[43mquery_dict\u001b[49m\u001b[43m,\u001b[49m\u001b[43m \u001b[49m\u001b[43mlimit\u001b[49m\u001b[43m=\u001b[49m\u001b[32;43m0\u001b[39;49m\u001b[43m)\u001b[49m\n\u001b[32m    221\u001b[39m \u001b[38;5;28;01mfor\u001b[39;00m facet, counts \u001b[38;5;129;01min\u001b[39;00m (\u001b[38;5;28mlist\u001b[39m(response[\u001b[33m'\u001b[39m\u001b[33mfacet_counts\u001b[39m\u001b[33m'\u001b[39m][\u001b[33m'\u001b[39m\u001b[33mfacet_fields\u001b[39m\u001b[33m'\u001b[39m].items())):\n\u001b[32m    222\u001b[39m     d = \u001b[38;5;28mself\u001b[39m.__facet_counts[facet] = {}\n",
      "\u001b[36mFile \u001b[39m\u001b[32m/opt/conda/envs/birdy/lib/python3.11/site-packages/pyesgf/search/connection.py:159\u001b[39m, in \u001b[36mSearchConnection.send_search\u001b[39m\u001b[34m(self, query_dict, limit, offset, shards)\u001b[39m\n\u001b[32m    157\u001b[39m \u001b[38;5;28;01mif\u001b[39;00m \u001b[38;5;129;01mnot\u001b[39;00m \u001b[38;5;28mself\u001b[39m._isopen:\n\u001b[32m    158\u001b[39m     \u001b[38;5;28mself\u001b[39m.open()\n\u001b[32m--> \u001b[39m\u001b[32m159\u001b[39m response = \u001b[38;5;28;43mself\u001b[39;49m\u001b[43m.\u001b[49m\u001b[43m_send_query\u001b[49m\u001b[43m(\u001b[49m\u001b[33;43m'\u001b[39;49m\u001b[33;43msearch\u001b[39;49m\u001b[33;43m'\u001b[39;49m\u001b[43m,\u001b[49m\u001b[43m \u001b[49m\u001b[43mfull_query\u001b[49m\u001b[43m)\u001b[49m\n\u001b[32m    160\u001b[39m ret = response.json()\n\u001b[32m    161\u001b[39m response.close()\n",
      "\u001b[36mFile \u001b[39m\u001b[32m/opt/conda/envs/birdy/lib/python3.11/site-packages/pyesgf/search/connection.py:213\u001b[39m, in \u001b[36mSearchConnection._send_query\u001b[39m\u001b[34m(self, endpoint, full_query)\u001b[39m\n\u001b[32m    210\u001b[39m     \u001b[38;5;28;01mraise\u001b[39;00m \u001b[38;5;167;01mException\u001b[39;00m(\u001b[33m\"\u001b[39m\u001b[33mInvalid query parameter(s): \u001b[39m\u001b[38;5;132;01m%s\u001b[39;00m\u001b[33m\"\u001b[39m % content)\n\u001b[32m    212\u001b[39m \u001b[38;5;66;03m# Raise if query was unsucessful:\u001b[39;00m\n\u001b[32m--> \u001b[39m\u001b[32m213\u001b[39m \u001b[43mresponse\u001b[49m\u001b[43m.\u001b[49m\u001b[43mraise_for_status\u001b[49m\u001b[43m(\u001b[49m\u001b[43m)\u001b[49m\n\u001b[32m    214\u001b[39m \u001b[38;5;28;01mreturn\u001b[39;00m response\n",
      "\u001b[36mFile \u001b[39m\u001b[32m/opt/conda/envs/birdy/lib/python3.11/site-packages/requests/models.py:1024\u001b[39m, in \u001b[36mResponse.raise_for_status\u001b[39m\u001b[34m(self)\u001b[39m\n\u001b[32m   1019\u001b[39m     http_error_msg = (\n\u001b[32m   1020\u001b[39m         \u001b[33mf\u001b[39m\u001b[33m\"\u001b[39m\u001b[38;5;132;01m{\u001b[39;00m\u001b[38;5;28mself\u001b[39m.status_code\u001b[38;5;132;01m}\u001b[39;00m\u001b[33m Server Error: \u001b[39m\u001b[38;5;132;01m{\u001b[39;00mreason\u001b[38;5;132;01m}\u001b[39;00m\u001b[33m for url: \u001b[39m\u001b[38;5;132;01m{\u001b[39;00m\u001b[38;5;28mself\u001b[39m.url\u001b[38;5;132;01m}\u001b[39;00m\u001b[33m\"\u001b[39m\n\u001b[32m   1021\u001b[39m     )\n\u001b[32m   1023\u001b[39m \u001b[38;5;28;01mif\u001b[39;00m http_error_msg:\n\u001b[32m-> \u001b[39m\u001b[32m1024\u001b[39m     \u001b[38;5;28;01mraise\u001b[39;00m HTTPError(http_error_msg, response=\u001b[38;5;28mself\u001b[39m)\n",
      "\u001b[31mHTTPError\u001b[39m: 403 Client Error: Forbidden for url: https://esgf-node.llnl.gov/esg-search/search?format=application%2Fsolr%2Bjson&limit=0&distrib=false&query=humidity&type=Dataset&project=CMIP6&experiment_id=ssp245&source_id=CanESM5&facets=variable_id%2Csource_id"
     ]
    }
   ],
   "source": [
    "# We can now refine the search and get datasets corresponding within our search context\n",
    "results = ctx.constrain(source_id=\"CanESM5\").search()\n",
    "r = results[0]\n",
    "r.dataset_id"
   ]
  },
  {
   "cell_type": "code",
   "execution_count": 4,
   "metadata": {},
   "outputs": [
    {
     "ename": "NameError",
     "evalue": "name 'r' is not defined",
     "output_type": "error",
     "traceback": [
      "\u001b[31m---------------------------------------------------------------------------\u001b[39m",
      "\u001b[31mNameError\u001b[39m                                 Traceback (most recent call last)",
      "\u001b[36mCell\u001b[39m\u001b[36m \u001b[39m\u001b[32mIn[4]\u001b[39m\u001b[32m, line 2\u001b[39m\n\u001b[32m      1\u001b[39m \u001b[38;5;66;03m# To get file download links, there's an extra step\u001b[39;00m\n\u001b[32m----> \u001b[39m\u001b[32m2\u001b[39m file_ctx = \u001b[43mr\u001b[49m.file_context()\n\u001b[32m      3\u001b[39m file_ctx.facets = \u001b[33m\"\u001b[39m\u001b[33m*\u001b[39m\u001b[33m\"\u001b[39m\n\u001b[32m      4\u001b[39m files = file_ctx.search()\n",
      "\u001b[31mNameError\u001b[39m: name 'r' is not defined"
     ]
    }
   ],
   "source": [
    "# To get file download links, there's an extra step\n",
    "file_ctx = r.file_context()\n",
    "file_ctx.facets = \"*\"\n",
    "files = file_ctx.search()\n",
    "[f.download_url for f in files]"
   ]
  },
  {
   "cell_type": "code",
   "execution_count": 5,
   "metadata": {},
   "outputs": [
    {
     "ename": "NameError",
     "evalue": "name 'files' is not defined",
     "output_type": "error",
     "traceback": [
      "\u001b[31m---------------------------------------------------------------------------\u001b[39m",
      "\u001b[31mNameError\u001b[39m                                 Traceback (most recent call last)",
      "\u001b[36mCell\u001b[39m\u001b[36m \u001b[39m\u001b[32mIn[5]\u001b[39m\u001b[32m, line 2\u001b[39m\n\u001b[32m      1\u001b[39m \u001b[38;5;66;03m# Instead of a download URL, we can also get OPeNDAP links.\u001b[39;00m\n\u001b[32m----> \u001b[39m\u001b[32m2\u001b[39m urls = [f.opendap_url \u001b[38;5;28;01mfor\u001b[39;00m f \u001b[38;5;129;01min\u001b[39;00m \u001b[43mfiles\u001b[49m]\n\u001b[32m      3\u001b[39m \u001b[38;5;28mprint\u001b[39m(urls)\n\u001b[32m      5\u001b[39m \u001b[38;5;66;03m# It's sometimes possible to request aggregations of multiple netCDF into one OPeNDAP link,\u001b[39;00m\n\u001b[32m      6\u001b[39m \u001b[38;5;66;03m# but this option is often unavailable.\u001b[39;00m\n",
      "\u001b[31mNameError\u001b[39m: name 'files' is not defined"
     ]
    }
   ],
   "source": [
    "# Instead of a download URL, we can also get OPeNDAP links.\n",
    "urls = [f.opendap_url for f in files]\n",
    "print(urls)\n",
    "\n",
    "# It's sometimes possible to request aggregations of multiple netCDF into one OPeNDAP link,\n",
    "# but this option is often unavailable.\n",
    "agg_ctx = r.aggregation_context()\n",
    "agg_ctx.facets = \"*\"\n",
    "agg = agg_ctx.search()[0]\n",
    "print(agg.opendap_url)"
   ]
  },
  {
   "cell_type": "code",
   "execution_count": 6,
   "metadata": {},
   "outputs": [
    {
     "ename": "NameError",
     "evalue": "name 'urls' is not defined",
     "output_type": "error",
     "traceback": [
      "\u001b[31m---------------------------------------------------------------------------\u001b[39m",
      "\u001b[31mNameError\u001b[39m                                 Traceback (most recent call last)",
      "\u001b[36mCell\u001b[39m\u001b[36m \u001b[39m\u001b[32mIn[6]\u001b[39m\u001b[32m, line 5\u001b[39m\n\u001b[32m      2\u001b[39m \u001b[38;5;28;01mimport\u001b[39;00m\u001b[38;5;250m \u001b[39m\u001b[34;01mxarray\u001b[39;00m\u001b[38;5;250m \u001b[39m\u001b[38;5;28;01mas\u001b[39;00m\u001b[38;5;250m \u001b[39m\u001b[34;01mxr\u001b[39;00m\n\u001b[32m      4\u001b[39m \u001b[38;5;28;01mtry\u001b[39;00m:\n\u001b[32m----> \u001b[39m\u001b[32m5\u001b[39m     ds = xr.open_mfdataset(\u001b[43murls\u001b[49m)\n\u001b[32m      6\u001b[39m     display(ds)\n\u001b[32m      7\u001b[39m \u001b[38;5;28;01mexcept\u001b[39;00m \u001b[38;5;167;01mOSError\u001b[39;00m \u001b[38;5;28;01mas\u001b[39;00m e:\n",
      "\u001b[31mNameError\u001b[39m: name 'urls' is not defined"
     ]
    }
   ],
   "source": [
    "# Open the OPeNDAP link with xarray\n",
    "import xarray as xr\n",
    "\n",
    "try:\n",
    "    ds = xr.open_mfdataset(urls)\n",
    "    display(ds)\n",
    "except OSError as e:\n",
    "    print(\n",
    "        \"Looks like the remote server is down at the moment. Please try with another dataset stored on a different ESGF node.\\n{e}\"\n",
    "    )"
   ]
  }
 ],
 "metadata": {
  "kernelspec": {
   "display_name": "Python 3 (ipykernel)",
   "language": "python",
   "name": "python3"
  },
  "language_info": {
   "codemirror_mode": {
    "name": "ipython",
    "version": 3
   },
   "file_extension": ".py",
   "mimetype": "text/x-python",
   "name": "python",
   "nbconvert_exporter": "python",
   "pygments_lexer": "ipython3",
   "version": "3.11.12"
  }
 },
 "nbformat": 4,
 "nbformat_minor": 4
}
