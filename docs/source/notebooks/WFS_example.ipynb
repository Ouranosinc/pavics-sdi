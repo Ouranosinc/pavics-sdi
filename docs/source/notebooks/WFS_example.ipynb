{
 "cells": [
  {
   "cell_type": "markdown",
   "metadata": {},
   "source": [
    "# Web Feature Service - Accessing region countours saved on a GeoServer\n",
    "\n",
    "In this example, we're going to look at some layers that are currently accessible on our instance of GeoServer. With WFS, we can see what is available, collect the layers we want by using a query, download the results in geoJSON, and visualize them using `geopandas`."
   ]
  },
  {
   "cell_type": "markdown",
   "metadata": {},
   "source": [
    "We begin by loading the libraries needed for parsing and downloading from WFS and for opening and visualizing the results"
   ]
  },
  {
   "cell_type": "code",
   "execution_count": 1,
   "metadata": {},
   "outputs": [],
   "source": [
    "%matplotlib inline\n",
    "\n",
    "# Import WFS from owslib\n",
    "from owslib.wfs import WebFeatureService\n",
    "\n",
    "import geopandas as gpd"
   ]
  },
  {
   "cell_type": "markdown",
   "metadata": {},
   "source": [
    "We start by making a connection to the PAVICS instance we have locally on our server, `Boreas`. Using WFS, we can very quickly see the contents, which are the layers and the workspaces they're located with (ie: TravisTest, scratchTJS). These layer names act as dictionaries for "
   ]
  },
  {
   "cell_type": "code",
   "execution_count": 2,
   "metadata": {},
   "outputs": [
    {
     "data": {
      "text/plain": [
       "['TravisTest:NE_Admin_Level0',\n",
       " 'TravisTest:Provinces_États_Global',\n",
       " 'TravisTest:mrc_poly',\n",
       " 'TravisTest:region_admin_poly',\n",
       " 'public:CanVec_Rivers',\n",
       " 'public:CanVec_WaterBodies',\n",
       " 'public:USGS_HydroBASINS_lake_ar_lev12',\n",
       " 'public:USGS_HydroBASINS_lake_na_lev12',\n",
       " 'public:canada_admin_boundaries',\n",
       " 'public:global_admin_boundaries',\n",
       " 'public:usa_admin_boundaries',\n",
       " 'public:wshed_bound_n1',\n",
       " 'public:wshed_bound_n2',\n",
       " 'public:wshed_bound_n3']"
      ]
     },
     "execution_count": 2,
     "metadata": {},
     "output_type": "execute_result"
    }
   ],
   "source": [
    "# NBVAL_IGNORE_OUTPUT\n",
    "\n",
    "wfs_url = 'http://boreas.ouranos.ca/geoserver/wfs'\n",
    "\n",
    "# Connect to GeoServer WFS service. \n",
    "wfs = WebFeatureService(wfs_url, version='2.0.0')\n",
    "\n",
    "# Print the list of available layers\n",
    "sorted(wfs.contents.keys())"
   ]
  },
  {
   "cell_type": "markdown",
   "metadata": {},
   "source": [
    "More information about each layer is stored in the `contents` dictionary.  "
   ]
  },
  {
   "cell_type": "code",
   "execution_count": 3,
   "metadata": {},
   "outputs": [
    {
     "name": "stdout",
     "output_type": "stream",
     "text": [
      "Layer ID: public:USGS_HydroBASINS_lake_na_lev12\n",
      "Title: USGS_HydroBASINS_lake_na_lev12\n",
      "Boundaries: (-180.0, -90.0, 180.0, 90.0) \n",
      "\n",
      "Layer ID: public:canada_admin_boundaries\n",
      "Title: Canada Administrative Boundaries\n",
      "Boundaries: (-141.01807315799994, 41.681435425000075, -52.61940850399992, 83.13550252400006) \n",
      "\n",
      "Layer ID: public:global_admin_boundaries\n",
      "Title: Global Admin Boundaries\n",
      "Boundaries: (-180.0, -89.99892578124998, 180.00000000000003, 83.59960937500006) \n",
      "\n"
     ]
    }
   ],
   "source": [
    "sorted_layer_ids = list(sorted(wfs.contents.keys()))\n",
    "canada_admin_boundaries_index = sorted_layer_ids.index('public:canada_admin_boundaries')\n",
    "\n",
    "for layerID in sorted_layer_ids[canada_admin_boundaries_index - 1:canada_admin_boundaries_index + 2]:\n",
    "    layer = wfs[layerID]\n",
    "    print('Layer ID:', layerID)\n",
    "    print('Title:', layer.title)\n",
    "    print('Boundaries:', layer.boundingBoxWGS84, '\\n')"
   ]
  },
  {
   "cell_type": "markdown",
   "metadata": {},
   "source": [
    "We can then perform a `GetFeatures` call using the layer name as a target. This returns an IOstream that can be written as a geoJSON file, a common file format for vector data served throughout the web. To reduce the download size, we'll only fetch the features (here polygons), intersecting a small region defined by a bounding box. "
   ]
  },
  {
   "cell_type": "code",
   "execution_count": 4,
   "metadata": {},
   "outputs": [
    {
     "name": "stdout",
     "output_type": "stream",
     "text": [
      "Canada Administrative Boundaries\n"
     ]
    }
   ],
   "source": [
    "layer_id = 'public:canada_admin_boundaries'\n",
    "meta = wfs.contents[layer_id]\n",
    "print(meta.title)\n",
    "\n",
    "# Get the actual data\n",
    "data = wfs.getfeature(typename='public:canada_admin_boundaries', bbox=(-74.5, 45.2, -73, 46), outputFormat='JSON')\n",
    "\n",
    "# Write to file\n",
    "fn = 'output.geojson'\n",
    "with open(fn, 'w', encoding=\"utf-8\") as fh:\n",
    "    fh.write(data.read())"
   ]
  },
  {
   "cell_type": "markdown",
   "metadata": {
    "collapsed": true
   },
   "source": [
    "Once the geoJSON file is downloaded, we can either open it with a GIS application or we can read the features using geopandas."
   ]
  },
  {
   "cell_type": "code",
   "execution_count": 5,
   "metadata": {},
   "outputs": [
    {
     "data": {
      "text/plain": [
       "<matplotlib.axes._subplots.AxesSubplot at 0x7f390af67dd8>"
      ]
     },
     "execution_count": 5,
     "metadata": {},
     "output_type": "execute_result"
    },
    {
     "data": {
      "image/png": "[encoded data removed]",
      "text/plain": [
       "<Figure size 432x288 with 1 Axes>"
      ]
     },
     "metadata": {
      "needs_background": "light"
     },
     "output_type": "display_data"
    }
   ],
   "source": [
    "layers = gpd.read_file(fn)\n",
    "layers.plot()"
   ]
  },
  {
   "cell_type": "code",
   "execution_count": null,
   "metadata": {},
   "outputs": [],
   "source": []
  }
 ],
 "metadata": {
  "kernelspec": {
   "display_name": "Python 3",
   "language": "python",
   "name": "python3"
  },
  "language_info": {
   "codemirror_mode": {
    "name": "ipython",
    "version": 3
   },
   "file_extension": ".py",
   "mimetype": "text/x-python",
   "name": "python",
   "nbconvert_exporter": "python",
   "pygments_lexer": "ipython3",
   "version": "3.6.7"
  }
 },
 "nbformat": 4,
 "nbformat_minor": 2
}
