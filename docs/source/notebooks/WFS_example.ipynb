{
 "cells": [
  {
   "cell_type": "markdown",
   "metadata": {},
   "source": [
    "## WFS is a method for parsing and downloading Geographic Features to be used in analyses and graphs  \n",
    "\n",
    "In this example, we're going to look at some layers that are currently accessible on our instance of PAVICS running locally. With WFS, we can see what is available, collect the layers we want by using a query, download the results in GML, and visualize them using OGR."
   ]
  },
  {
   "cell_type": "markdown",
   "metadata": {},
   "source": [
    "We begin by loading the libraries needed for parsing and downloading from WFS and for opening and visualizing the results"
   ]
  },
  {
   "cell_type": "code",
   "execution_count": 1,
   "metadata": {},
   "outputs": [
    {
     "ename": "ImportError",
     "evalue": "libpoppler.so.76: cannot open shared object file: No such file or directory",
     "output_type": "error",
     "traceback": [
      "\u001b[0;31m---------------------------------------------------------------------------\u001b[0m",
      "\u001b[0;31mImportError\u001b[0m                               Traceback (most recent call last)",
      "\u001b[0;32m<ipython-input-1-6fe2721f0224>\u001b[0m in \u001b[0;36m<module>\u001b[0;34m()\u001b[0m\n\u001b[1;32m      4\u001b[0m \u001b[0;34m\u001b[0m\u001b[0m\n\u001b[1;32m      5\u001b[0m \u001b[0;31m# Import ogr from osgeo in order to work with vector data\u001b[0m\u001b[0;34m\u001b[0m\u001b[0;34m\u001b[0m\u001b[0m\n\u001b[0;32m----> 6\u001b[0;31m \u001b[0;32mfrom\u001b[0m \u001b[0mosgeo\u001b[0m \u001b[0;32mimport\u001b[0m \u001b[0mogr\u001b[0m\u001b[0;34m\u001b[0m\u001b[0m\n\u001b[0m\u001b[1;32m      7\u001b[0m \u001b[0;34m\u001b[0m\u001b[0m\n\u001b[1;32m      8\u001b[0m \u001b[0;31m# Import matplotlib for visualizing the outputs\u001b[0m\u001b[0;34m\u001b[0m\u001b[0;34m\u001b[0m\u001b[0m\n",
      "\u001b[0;32m~/.conda/envs/birdy/lib/python3.6/site-packages/osgeo/__init__.py\u001b[0m in \u001b[0;36m<module>\u001b[0;34m()\u001b[0m\n\u001b[1;32m     19\u001b[0m                 \u001b[0mfp\u001b[0m\u001b[0;34m.\u001b[0m\u001b[0mclose\u001b[0m\u001b[0;34m(\u001b[0m\u001b[0;34m)\u001b[0m\u001b[0;34m\u001b[0m\u001b[0m\n\u001b[1;32m     20\u001b[0m             \u001b[0;32mreturn\u001b[0m \u001b[0m_mod\u001b[0m\u001b[0;34m\u001b[0m\u001b[0m\n\u001b[0;32m---> 21\u001b[0;31m     \u001b[0m_gdal\u001b[0m \u001b[0;34m=\u001b[0m \u001b[0mswig_import_helper\u001b[0m\u001b[0;34m(\u001b[0m\u001b[0;34m)\u001b[0m\u001b[0;34m\u001b[0m\u001b[0m\n\u001b[0m\u001b[1;32m     22\u001b[0m     \u001b[0;32mdel\u001b[0m \u001b[0mswig_import_helper\u001b[0m\u001b[0;34m\u001b[0m\u001b[0m\n\u001b[1;32m     23\u001b[0m \u001b[0;32melse\u001b[0m\u001b[0;34m:\u001b[0m\u001b[0;34m\u001b[0m\u001b[0m\n",
      "\u001b[0;32m~/.conda/envs/birdy/lib/python3.6/site-packages/osgeo/__init__.py\u001b[0m in \u001b[0;36mswig_import_helper\u001b[0;34m()\u001b[0m\n\u001b[1;32m     15\u001b[0m         \u001b[0;32mif\u001b[0m \u001b[0mfp\u001b[0m \u001b[0;32mis\u001b[0m \u001b[0;32mnot\u001b[0m \u001b[0;32mNone\u001b[0m\u001b[0;34m:\u001b[0m\u001b[0;34m\u001b[0m\u001b[0m\n\u001b[1;32m     16\u001b[0m             \u001b[0;32mtry\u001b[0m\u001b[0;34m:\u001b[0m\u001b[0;34m\u001b[0m\u001b[0m\n\u001b[0;32m---> 17\u001b[0;31m                 \u001b[0m_mod\u001b[0m \u001b[0;34m=\u001b[0m \u001b[0mimp\u001b[0m\u001b[0;34m.\u001b[0m\u001b[0mload_module\u001b[0m\u001b[0;34m(\u001b[0m\u001b[0;34m'_gdal'\u001b[0m\u001b[0;34m,\u001b[0m \u001b[0mfp\u001b[0m\u001b[0;34m,\u001b[0m \u001b[0mpathname\u001b[0m\u001b[0;34m,\u001b[0m \u001b[0mdescription\u001b[0m\u001b[0;34m)\u001b[0m\u001b[0;34m\u001b[0m\u001b[0m\n\u001b[0m\u001b[1;32m     18\u001b[0m             \u001b[0;32mfinally\u001b[0m\u001b[0;34m:\u001b[0m\u001b[0;34m\u001b[0m\u001b[0m\n\u001b[1;32m     19\u001b[0m                 \u001b[0mfp\u001b[0m\u001b[0;34m.\u001b[0m\u001b[0mclose\u001b[0m\u001b[0;34m(\u001b[0m\u001b[0;34m)\u001b[0m\u001b[0;34m\u001b[0m\u001b[0m\n",
      "\u001b[0;32m~/.conda/envs/birdy/lib/python3.6/imp.py\u001b[0m in \u001b[0;36mload_module\u001b[0;34m(name, file, filename, details)\u001b[0m\n\u001b[1;32m    241\u001b[0m                 \u001b[0;32mreturn\u001b[0m \u001b[0mload_dynamic\u001b[0m\u001b[0;34m(\u001b[0m\u001b[0mname\u001b[0m\u001b[0;34m,\u001b[0m \u001b[0mfilename\u001b[0m\u001b[0;34m,\u001b[0m \u001b[0mopened_file\u001b[0m\u001b[0;34m)\u001b[0m\u001b[0;34m\u001b[0m\u001b[0m\n\u001b[1;32m    242\u001b[0m         \u001b[0;32melse\u001b[0m\u001b[0;34m:\u001b[0m\u001b[0;34m\u001b[0m\u001b[0m\n\u001b[0;32m--> 243\u001b[0;31m             \u001b[0;32mreturn\u001b[0m \u001b[0mload_dynamic\u001b[0m\u001b[0;34m(\u001b[0m\u001b[0mname\u001b[0m\u001b[0;34m,\u001b[0m \u001b[0mfilename\u001b[0m\u001b[0;34m,\u001b[0m \u001b[0mfile\u001b[0m\u001b[0;34m)\u001b[0m\u001b[0;34m\u001b[0m\u001b[0m\n\u001b[0m\u001b[1;32m    244\u001b[0m     \u001b[0;32melif\u001b[0m \u001b[0mtype_\u001b[0m \u001b[0;34m==\u001b[0m \u001b[0mPKG_DIRECTORY\u001b[0m\u001b[0;34m:\u001b[0m\u001b[0;34m\u001b[0m\u001b[0m\n\u001b[1;32m    245\u001b[0m         \u001b[0;32mreturn\u001b[0m \u001b[0mload_package\u001b[0m\u001b[0;34m(\u001b[0m\u001b[0mname\u001b[0m\u001b[0;34m,\u001b[0m \u001b[0mfilename\u001b[0m\u001b[0;34m)\u001b[0m\u001b[0;34m\u001b[0m\u001b[0m\n",
      "\u001b[0;32m~/.conda/envs/birdy/lib/python3.6/imp.py\u001b[0m in \u001b[0;36mload_dynamic\u001b[0;34m(name, path, file)\u001b[0m\n\u001b[1;32m    341\u001b[0m         spec = importlib.machinery.ModuleSpec(\n\u001b[1;32m    342\u001b[0m             name=name, loader=loader, origin=path)\n\u001b[0;32m--> 343\u001b[0;31m         \u001b[0;32mreturn\u001b[0m \u001b[0m_load\u001b[0m\u001b[0;34m(\u001b[0m\u001b[0mspec\u001b[0m\u001b[0;34m)\u001b[0m\u001b[0;34m\u001b[0m\u001b[0m\n\u001b[0m\u001b[1;32m    344\u001b[0m \u001b[0;34m\u001b[0m\u001b[0m\n\u001b[1;32m    345\u001b[0m \u001b[0;32melse\u001b[0m\u001b[0;34m:\u001b[0m\u001b[0;34m\u001b[0m\u001b[0m\n",
      "\u001b[0;31mImportError\u001b[0m: libpoppler.so.76: cannot open shared object file: No such file or directory"
     ]
    }
   ],
   "source": [
    "%matplotlib inline\n",
    "# Import WFS from owslib\n",
    "from owslib.wfs import WebFeatureService\n",
    "\n",
    "# Import ogr from osgeo in order to work with vector data\n",
    "from osgeo import ogr\n",
    "\n",
    "# Import matplotlib for visualizing the outputs\n",
    "import matplotlib.path as mpath\n",
    "import matplotlib.patches as mpatches\n",
    "import matplotlib.pyplot as plt\n",
    "\n",
    "import numpy as np\n",
    "import shutil"
   ]
  },
  {
   "cell_type": "markdown",
   "metadata": {},
   "source": [
    "We start by making a connection to the PAVICS instance we have locally on our server, `Boreas`. Using WFS, we can very quickly see the contents, which are the layers and the workspaces they're located with (ie: TravisTest, scratchTJS). These layer names act as dictionaries for "
   ]
  },
  {
   "cell_type": "code",
   "execution_count": null,
   "metadata": {},
   "outputs": [],
   "source": [
    "wfs_url = 'http://boreas.ouranos.ca/geoserver/wfs'\n",
    "# connection\n",
    "wfs = WebFeatureService(wfs_url, version='2.0.0')\n",
    "\n",
    "for i in wfs.contents:\n",
    "    print(i)"
   ]
  },
  {
   "cell_type": "markdown",
   "metadata": {},
   "source": [
    "If we want to know more about these layers, we can use the layer names as keys in a dictionary to return more information from each layer."
   ]
  },
  {
   "cell_type": "code",
   "execution_count": null,
   "metadata": {},
   "outputs": [],
   "source": [
    "for layerID in wfs.contents.keys():\n",
    "    layer = wfs[layerID]\n",
    "    print('Layer ID:', layerID)\n",
    "    print('Title:', layer.title)\n",
    "    print('Boundaries:', layer.boundingBoxWGS84, '\\n')"
   ]
  },
  {
   "cell_type": "markdown",
   "metadata": {},
   "source": [
    "We can then perform a GetFeatures call using the layer name as a target. This returns an IOstream that can be written as a GML file, a common file format for vector data served throughout the web."
   ]
  },
  {
   "cell_type": "code",
   "execution_count": null,
   "metadata": {},
   "outputs": [],
   "source": [
    "layer_io = wfs.getfeature(typename='TravisTest:region_admin_poly')\n",
    "\n",
    "# We can also choose to do a bounding box subset within our GetFeature call!\n",
    "# layer_io = wfs.getfeature(typename='TravisTest:region_admin_poly', bbox=(-74.5, 45.2, -73, 46))\n",
    "\n",
    "data_file = 'output.gml'\n",
    "\n",
    "try:\n",
    "    with open(data_file, 'w', encoding=\"utf-8\") as f:\n",
    "        layer_io.seek(0)\n",
    "        shutil.copyfileobj(layer_io, f)\n",
    "        print('File successfully downloaded!')\n",
    "except:\n",
    "    print('File failed to download.')\n"
   ]
  },
  {
   "cell_type": "markdown",
   "metadata": {
    "collapsed": true
   },
   "source": [
    "Once the GML is downloaded, we can either open it with a GIS application or we can read the features in using OGR, a library for manipulating vector data. The following code reads the number of features within the GML and outputs the each feature's names and values."
   ]
  },
  {
   "cell_type": "code",
   "execution_count": null,
   "metadata": {},
   "outputs": [],
   "source": [
    "data  = ogr.Open(data_file, 0)\n",
    "\n",
    "if data is None:\n",
    "    print(\"File failed to be read!\")\n",
    "else:\n",
    "    layer = data.GetLayer()\n",
    "    featureCount = layer.GetFeatureCount()\n",
    "    print(\"Number of features in {}: {}\".format(data_file, featureCount), '\\n')\n",
    "    \n",
    "    layerDefn = layer.GetLayerDefn()\n",
    "    \n",
    "    print('Layer Name:', layerDefn.GetName())\n",
    "    \n",
    "    for feature in layer:\n",
    "        for i in range(layerDefn.GetFieldCount()):\n",
    "            fieldname = layerDefn.GetFieldDefn(i).GetName()\n",
    "            print(fieldname, ' Value:', feature.GetField(fieldname))\n",
    "        "
   ]
  },
  {
   "cell_type": "markdown",
   "metadata": {},
   "source": [
    "This `layer` object can also be examined with matplotlib if we want to create maps or figures within Python without a Grapgical User Interface.\n"
   ]
  },
  {
   "cell_type": "code",
   "execution_count": null,
   "metadata": {},
   "outputs": [],
   "source": [
    "ext = layer.GetExtent()\n",
    "xoff = (ext[1]-ext[0])/50\n",
    "yoff = (ext[3]-ext[2])/50\n",
    "\n",
    "\n",
    "plt.ioff()\n",
    "plt.plot()\n",
    "ax = plt.gca()\n",
    "ax.set_xlim(ext[0]-xoff,ext[1]+xoff)\n",
    "ax.set_ylim(ext[2]-yoff,ext[3]+yoff)\n",
    "\n",
    "paths = []\n",
    "layer.ResetReading()\n",
    "\n",
    "# Read all features in layer and store as paths\n",
    "for feat in layer:\n",
    "\n",
    "    for geom in feat.GetGeometryRef():\n",
    "        envelope = np.array(geom.GetEnvelope())\n",
    "        # check if geom is polygon\n",
    "        if geom.GetGeometryType() == ogr.wkbPolygon:\n",
    "            codes = []\n",
    "            all_x = []\n",
    "            all_y = []\n",
    "            for i in range(geom.GetGeometryCount()):\n",
    "                # Read ring geometry and create path\n",
    "                r = geom.GetGeometryRef(i)\n",
    "                x = [r.GetX(j) for j in range(r.GetPointCount())]\n",
    "                y = [r.GetY(j) for j in range(r.GetPointCount())]\n",
    "                # skip boundary between individual rings\n",
    "                codes += [mpath.Path.MOVETO] + \\\n",
    "                             (len(x)-1)*[mpath.Path.LINETO]\n",
    "                all_x += x\n",
    "                all_y += y\n",
    "            path = mpath.Path(np.column_stack((all_x,all_y)), codes)\n",
    "            paths.append(path)\n",
    "    # Add paths as patches to axes\n",
    "    for path in paths:\n",
    "        patch = mpatches.PathPatch(path, \\\n",
    "                facecolor='0.8', edgecolor='cyan')\n",
    "        ax.add_patch(patch)\n",
    "\n",
    "\n",
    "\n",
    "ax.set_aspect(1.0)\n",
    "plt.show()"
   ]
  }
 ],
 "metadata": {
  "kernelspec": {
   "display_name": "Python 3",
   "language": "python",
   "name": "python3"
  },
  "language_info": {
   "codemirror_mode": {
    "name": "ipython",
    "version": 3
   },
   "file_extension": ".py",
   "mimetype": "text/x-python",
   "name": "python",
   "nbconvert_exporter": "python",
   "pygments_lexer": "ipython3",
   "version": "3.6.3"
  }
 },
 "nbformat": 4,
 "nbformat_minor": 2
}
